{
 "cells": [
  {
   "cell_type": "markdown",
   "source": "Machine Learning Housing Corp. This task is to predict median house values in Californian districts, given a number of features from these districts.",
   "metadata": {
    "cell_id": "c51e5ada895146b3a46b302beb0578df",
    "tags": [],
    "is_collapsed": false,
    "deepnote_cell_type": "text-cell-p"
   }
  },
  {
   "cell_type": "code",
   "metadata": {
    "cell_id": "797daa8784c14434a2d5e0868224a345",
    "tags": [],
    "deepnote_to_be_reexecuted": false,
    "source_hash": "89d5903c",
    "execution_start": 1649071730266,
    "execution_millis": 2598,
    "deepnote_cell_type": "code",
    "deepnote_cell_height": 315
   },
   "source": "import pandas as pd\nimport os\nimport numpy as np\nimport matplotlib.pyplot as plt\n# Python ≥3.5 is required\nimport sys\nassert sys.version_info >= (3, 5)\n\n# Scikit-Learn ≥0.20 is required\nimport sklearn\nassert sklearn.__version__ >= \"0.20\"\n# To plot pretty figures\n%matplotlib inline\nimport matplotlib as mpl",
   "execution_count": 1,
   "outputs": []
  },
  {
   "cell_type": "code",
   "source": "pwd = os.getcwd()\nfilepath = os.path.join(pwd,\"housing.csv\")",
   "metadata": {
    "cell_id": "d3d68b155ddd4dfa8c17037951229015",
    "tags": [],
    "deepnote_to_be_reexecuted": false,
    "source_hash": "156de22",
    "execution_start": 1649071732879,
    "execution_millis": 0,
    "deepnote_cell_type": "code",
    "deepnote_cell_height": 99
   },
   "outputs": [],
   "execution_count": 2
  },
  {
   "cell_type": "code",
   "source": "housing_data = pd.read_csv(filepath)\nhousing_data",
   "metadata": {
    "cell_id": "23fced8abbd14d3eaeb7a059a0d730fe",
    "tags": [],
    "deepnote_to_be_reexecuted": false,
    "source_hash": "96609b33",
    "execution_start": 1649071732895,
    "execution_millis": 402,
    "deepnote_cell_type": "code",
    "deepnote_cell_height": 656.65625
   },
   "outputs": [
    {
     "output_type": "execute_result",
     "execution_count": 3,
     "data": {
      "application/vnd.deepnote.dataframe.v3+json": {
       "column_count": 10,
       "row_count": 20640,
       "columns": [
        {
         "name": "longitude",
         "dtype": "float64",
         "stats": {
          "unique_count": 844,
          "nan_count": 0,
          "min": "-124.35",
          "max": "-114.31",
          "histogram": [
           {
            "bin_start": -124.35,
            "bin_end": -123.34599999999999,
            "count": 190
           },
           {
            "bin_start": -123.34599999999999,
            "bin_end": -122.342,
            "count": 1553
           },
           {
            "bin_start": -122.342,
            "bin_end": -121.338,
            "count": 4564
           },
           {
            "bin_start": -121.338,
            "bin_end": -120.334,
            "count": 1673
           },
           {
            "bin_start": -120.334,
            "bin_end": -119.33,
            "count": 1098
           },
           {
            "bin_start": -119.33,
            "bin_end": -118.326,
            "count": 2887
           },
           {
            "bin_start": -118.326,
            "bin_end": -117.322,
            "count": 6208
           },
           {
            "bin_start": -117.322,
            "bin_end": -116.318,
            "count": 2252
           },
           {
            "bin_start": -116.318,
            "bin_end": -115.31400000000001,
            "count": 183
           },
           {
            "bin_start": -115.31400000000001,
            "bin_end": -114.31,
            "count": 32
           }
          ]
         }
        },
        {
         "name": "latitude",
         "dtype": "float64",
         "stats": {
          "unique_count": 862,
          "nan_count": 0,
          "min": "32.54",
          "max": "41.95",
          "histogram": [
           {
            "bin_start": 32.54,
            "bin_end": 33.481,
            "count": 1796
           },
           {
            "bin_start": 33.481,
            "bin_end": 34.422,
            "count": 8987
           },
           {
            "bin_start": 34.422,
            "bin_end": 35.363,
            "count": 747
           },
           {
            "bin_start": 35.363,
            "bin_end": 36.304,
            "count": 474
           },
           {
            "bin_start": 36.304,
            "bin_end": 37.245000000000005,
            "count": 1292
           },
           {
            "bin_start": 37.245000000000005,
            "bin_end": 38.186,
            "count": 4712
           },
           {
            "bin_start": 38.186,
            "bin_end": 39.127,
            "count": 1740
           },
           {
            "bin_start": 39.127,
            "bin_end": 40.068000000000005,
            "count": 490
           },
           {
            "bin_start": 40.068000000000005,
            "bin_end": 41.009,
            "count": 324
           },
           {
            "bin_start": 41.009,
            "bin_end": 41.95,
            "count": 78
           }
          ]
         }
        },
        {
         "name": "housing_median_age",
         "dtype": "float64",
         "stats": {
          "unique_count": 52,
          "nan_count": 0,
          "min": "1.0",
          "max": "52.0",
          "histogram": [
           {
            "bin_start": 1,
            "bin_end": 6.1,
            "count": 719
           },
           {
            "bin_start": 6.1,
            "bin_end": 11.2,
            "count": 1104
           },
           {
            "bin_start": 11.2,
            "bin_end": 16.299999999999997,
            "count": 2235
           },
           {
            "bin_start": 16.299999999999997,
            "bin_end": 21.4,
            "count": 2681
           },
           {
            "bin_start": 21.4,
            "bin_end": 26.5,
            "count": 2510
           },
           {
            "bin_start": 26.5,
            "bin_end": 31.599999999999998,
            "count": 2354
           },
           {
            "bin_start": 31.599999999999998,
            "bin_end": 36.699999999999996,
            "count": 3555
           },
           {
            "bin_start": 36.699999999999996,
            "bin_end": 41.8,
            "count": 1900
           },
           {
            "bin_start": 41.8,
            "bin_end": 46.9,
            "count": 1616
           },
           {
            "bin_start": 46.9,
            "bin_end": 52,
            "count": 1966
           }
          ]
         }
        },
        {
         "name": "total_rooms",
         "dtype": "float64",
         "stats": {
          "unique_count": 5926,
          "nan_count": 0,
          "min": "2.0",
          "max": "39320.0",
          "histogram": [
           {
            "bin_start": 2,
            "bin_end": 3933.8,
            "count": 17525
           },
           {
            "bin_start": 3933.8,
            "bin_end": 7865.6,
            "count": 2558
           },
           {
            "bin_start": 7865.6,
            "bin_end": 11797.400000000001,
            "count": 372
           },
           {
            "bin_start": 11797.400000000001,
            "bin_end": 15729.2,
            "count": 103
           },
           {
            "bin_start": 15729.2,
            "bin_end": 19661,
            "count": 49
           },
           {
            "bin_start": 19661,
            "bin_end": 23592.800000000003,
            "count": 16
           },
           {
            "bin_start": 23592.800000000003,
            "bin_end": 27524.600000000002,
            "count": 7
           },
           {
            "bin_start": 27524.600000000002,
            "bin_end": 31456.4,
            "count": 6
           },
           {
            "bin_start": 31456.4,
            "bin_end": 35388.200000000004,
            "count": 2
           },
           {
            "bin_start": 35388.200000000004,
            "bin_end": 39320,
            "count": 2
           }
          ]
         }
        },
        {
         "name": "total_bedrooms",
         "dtype": "float64"
        },
        {
         "name": "population",
         "dtype": "float64"
        },
        {
         "name": "households",
         "dtype": "float64"
        },
        {
         "name": "median_income",
         "dtype": "float64"
        },
        {
         "name": "median_house_value",
         "dtype": "float64"
        },
        {
         "name": "ocean_proximity",
         "dtype": "object"
        },
        {
         "name": "_deepnote_index_column",
         "dtype": "int64"
        }
       ],
       "rows": [
        {
         "longitude": -122.23,
         "latitude": 37.88,
         "housing_median_age": 41,
         "total_rooms": 880,
         "total_bedrooms": 129,
         "population": 322,
         "households": 126,
         "median_income": 8.3252,
         "median_house_value": 452600,
         "ocean_proximity": "NEAR BAY",
         "_deepnote_index_column": 0
        },
        {
         "longitude": -122.22,
         "latitude": 37.86,
         "housing_median_age": 21,
         "total_rooms": 7099,
         "total_bedrooms": 1106,
         "population": 2401,
         "households": 1138,
         "median_income": 8.3014,
         "median_house_value": 358500,
         "ocean_proximity": "NEAR BAY",
         "_deepnote_index_column": 1
        },
        {
         "longitude": -122.24,
         "latitude": 37.85,
         "housing_median_age": 52,
         "total_rooms": 1467,
         "total_bedrooms": 190,
         "population": 496,
         "households": 177,
         "median_income": 7.2574,
         "median_house_value": 352100,
         "ocean_proximity": "NEAR BAY",
         "_deepnote_index_column": 2
        },
        {
         "longitude": -122.25,
         "latitude": 37.85,
         "housing_median_age": 52,
         "total_rooms": 1274,
         "total_bedrooms": 235,
         "population": 558,
         "households": 219,
         "median_income": 5.6431,
         "median_house_value": 341300,
         "ocean_proximity": "NEAR BAY",
         "_deepnote_index_column": 3
        },
        {
         "longitude": -122.25,
         "latitude": 37.85,
         "housing_median_age": 52,
         "total_rooms": 1627,
         "total_bedrooms": 280,
         "population": 565,
         "households": 259,
         "median_income": 3.8462,
         "median_house_value": 342200,
         "ocean_proximity": "NEAR BAY",
         "_deepnote_index_column": 4
        },
        {
         "longitude": -122.25,
         "latitude": 37.85,
         "housing_median_age": 52,
         "total_rooms": 919,
         "total_bedrooms": 213,
         "population": 413,
         "households": 193,
         "median_income": 4.0368,
         "median_house_value": 269700,
         "ocean_proximity": "NEAR BAY",
         "_deepnote_index_column": 5
        },
        {
         "longitude": -122.25,
         "latitude": 37.84,
         "housing_median_age": 52,
         "total_rooms": 2535,
         "total_bedrooms": 489,
         "population": 1094,
         "households": 514,
         "median_income": 3.6591,
         "median_house_value": 299200,
         "ocean_proximity": "NEAR BAY",
         "_deepnote_index_column": 6
        },
        {
         "longitude": -122.25,
         "latitude": 37.84,
         "housing_median_age": 52,
         "total_rooms": 3104,
         "total_bedrooms": 687,
         "population": 1157,
         "households": 647,
         "median_income": 3.12,
         "median_house_value": 241400,
         "ocean_proximity": "NEAR BAY",
         "_deepnote_index_column": 7
        },
        {
         "longitude": -122.26,
         "latitude": 37.84,
         "housing_median_age": 42,
         "total_rooms": 2555,
         "total_bedrooms": 665,
         "population": 1206,
         "households": 595,
         "median_income": 2.0804,
         "median_house_value": 226700,
         "ocean_proximity": "NEAR BAY",
         "_deepnote_index_column": 8
        },
        {
         "longitude": -122.25,
         "latitude": 37.84,
         "housing_median_age": 52,
         "total_rooms": 3549,
         "total_bedrooms": 707,
         "population": 1551,
         "households": 714,
         "median_income": 3.6912,
         "median_house_value": 261100,
         "ocean_proximity": "NEAR BAY",
         "_deepnote_index_column": 9
        }
       ]
      },
      "text/plain": "       longitude  latitude  housing_median_age  total_rooms  total_bedrooms  \\\n0        -122.23     37.88                41.0        880.0           129.0   \n1        -122.22     37.86                21.0       7099.0          1106.0   \n2        -122.24     37.85                52.0       1467.0           190.0   \n3        -122.25     37.85                52.0       1274.0           235.0   \n4        -122.25     37.85                52.0       1627.0           280.0   \n...          ...       ...                 ...          ...             ...   \n20635    -121.09     39.48                25.0       1665.0           374.0   \n20636    -121.21     39.49                18.0        697.0           150.0   \n20637    -121.22     39.43                17.0       2254.0           485.0   \n20638    -121.32     39.43                18.0       1860.0           409.0   \n20639    -121.24     39.37                16.0       2785.0           616.0   \n\n       population  households  median_income  median_house_value  \\\n0           322.0       126.0         8.3252            452600.0   \n1          2401.0      1138.0         8.3014            358500.0   \n2           496.0       177.0         7.2574            352100.0   \n3           558.0       219.0         5.6431            341300.0   \n4           565.0       259.0         3.8462            342200.0   \n...           ...         ...            ...                 ...   \n20635       845.0       330.0         1.5603             78100.0   \n20636       356.0       114.0         2.5568             77100.0   \n20637      1007.0       433.0         1.7000             92300.0   \n20638       741.0       349.0         1.8672             84700.0   \n20639      1387.0       530.0         2.3886             89400.0   \n\n      ocean_proximity  \n0            NEAR BAY  \n1            NEAR BAY  \n2            NEAR BAY  \n3            NEAR BAY  \n4            NEAR BAY  \n...               ...  \n20635          INLAND  \n20636          INLAND  \n20637          INLAND  \n20638          INLAND  \n20639          INLAND  \n\n[20640 rows x 10 columns]",
      "text/html": "<div>\n<style scoped>\n    .dataframe tbody tr th:only-of-type {\n        vertical-align: middle;\n    }\n\n    .dataframe tbody tr th {\n        vertical-align: top;\n    }\n\n    .dataframe thead th {\n        text-align: right;\n    }\n</style>\n<table border=\"1\" class=\"dataframe\">\n  <thead>\n    <tr style=\"text-align: right;\">\n      <th></th>\n      <th>longitude</th>\n      <th>latitude</th>\n      <th>housing_median_age</th>\n      <th>total_rooms</th>\n      <th>total_bedrooms</th>\n      <th>population</th>\n      <th>households</th>\n      <th>median_income</th>\n      <th>median_house_value</th>\n      <th>ocean_proximity</th>\n    </tr>\n  </thead>\n  <tbody>\n    <tr>\n      <th>0</th>\n      <td>-122.23</td>\n      <td>37.88</td>\n      <td>41.0</td>\n      <td>880.0</td>\n      <td>129.0</td>\n      <td>322.0</td>\n      <td>126.0</td>\n      <td>8.3252</td>\n      <td>452600.0</td>\n      <td>NEAR BAY</td>\n    </tr>\n    <tr>\n      <th>1</th>\n      <td>-122.22</td>\n      <td>37.86</td>\n      <td>21.0</td>\n      <td>7099.0</td>\n      <td>1106.0</td>\n      <td>2401.0</td>\n      <td>1138.0</td>\n      <td>8.3014</td>\n      <td>358500.0</td>\n      <td>NEAR BAY</td>\n    </tr>\n    <tr>\n      <th>2</th>\n      <td>-122.24</td>\n      <td>37.85</td>\n      <td>52.0</td>\n      <td>1467.0</td>\n      <td>190.0</td>\n      <td>496.0</td>\n      <td>177.0</td>\n      <td>7.2574</td>\n      <td>352100.0</td>\n      <td>NEAR BAY</td>\n    </tr>\n    <tr>\n      <th>3</th>\n      <td>-122.25</td>\n      <td>37.85</td>\n      <td>52.0</td>\n      <td>1274.0</td>\n      <td>235.0</td>\n      <td>558.0</td>\n      <td>219.0</td>\n      <td>5.6431</td>\n      <td>341300.0</td>\n      <td>NEAR BAY</td>\n    </tr>\n    <tr>\n      <th>4</th>\n      <td>-122.25</td>\n      <td>37.85</td>\n      <td>52.0</td>\n      <td>1627.0</td>\n      <td>280.0</td>\n      <td>565.0</td>\n      <td>259.0</td>\n      <td>3.8462</td>\n      <td>342200.0</td>\n      <td>NEAR BAY</td>\n    </tr>\n    <tr>\n      <th>...</th>\n      <td>...</td>\n      <td>...</td>\n      <td>...</td>\n      <td>...</td>\n      <td>...</td>\n      <td>...</td>\n      <td>...</td>\n      <td>...</td>\n      <td>...</td>\n      <td>...</td>\n    </tr>\n    <tr>\n      <th>20635</th>\n      <td>-121.09</td>\n      <td>39.48</td>\n      <td>25.0</td>\n      <td>1665.0</td>\n      <td>374.0</td>\n      <td>845.0</td>\n      <td>330.0</td>\n      <td>1.5603</td>\n      <td>78100.0</td>\n      <td>INLAND</td>\n    </tr>\n    <tr>\n      <th>20636</th>\n      <td>-121.21</td>\n      <td>39.49</td>\n      <td>18.0</td>\n      <td>697.0</td>\n      <td>150.0</td>\n      <td>356.0</td>\n      <td>114.0</td>\n      <td>2.5568</td>\n      <td>77100.0</td>\n      <td>INLAND</td>\n    </tr>\n    <tr>\n      <th>20637</th>\n      <td>-121.22</td>\n      <td>39.43</td>\n      <td>17.0</td>\n      <td>2254.0</td>\n      <td>485.0</td>\n      <td>1007.0</td>\n      <td>433.0</td>\n      <td>1.7000</td>\n      <td>92300.0</td>\n      <td>INLAND</td>\n    </tr>\n    <tr>\n      <th>20638</th>\n      <td>-121.32</td>\n      <td>39.43</td>\n      <td>18.0</td>\n      <td>1860.0</td>\n      <td>409.0</td>\n      <td>741.0</td>\n      <td>349.0</td>\n      <td>1.8672</td>\n      <td>84700.0</td>\n      <td>INLAND</td>\n    </tr>\n    <tr>\n      <th>20639</th>\n      <td>-121.24</td>\n      <td>39.37</td>\n      <td>16.0</td>\n      <td>2785.0</td>\n      <td>616.0</td>\n      <td>1387.0</td>\n      <td>530.0</td>\n      <td>2.3886</td>\n      <td>89400.0</td>\n      <td>INLAND</td>\n    </tr>\n  </tbody>\n</table>\n<p>20640 rows × 10 columns</p>\n</div>"
     },
     "metadata": {}
    }
   ],
   "execution_count": 3
  },
  {
   "cell_type": "code",
   "source": "housing_data.info()",
   "metadata": {
    "cell_id": "35affb494c324d66aa086f3de01701d8",
    "tags": [],
    "deepnote_to_be_reexecuted": false,
    "source_hash": "2349a770",
    "execution_start": 1649071733329,
    "execution_millis": 49,
    "deepnote_cell_type": "code",
    "deepnote_cell_height": 429.6875
   },
   "outputs": [
    {
     "name": "stdout",
     "text": "<class 'pandas.core.frame.DataFrame'>\nRangeIndex: 20640 entries, 0 to 20639\nData columns (total 10 columns):\n #   Column              Non-Null Count  Dtype  \n---  ------              --------------  -----  \n 0   longitude           20640 non-null  float64\n 1   latitude            20640 non-null  float64\n 2   housing_median_age  20640 non-null  float64\n 3   total_rooms         20640 non-null  float64\n 4   total_bedrooms      20433 non-null  float64\n 5   population          20640 non-null  float64\n 6   households          20640 non-null  float64\n 7   median_income       20640 non-null  float64\n 8   median_house_value  20640 non-null  float64\n 9   ocean_proximity     20640 non-null  object \ndtypes: float64(9), object(1)\nmemory usage: 1.6+ MB\n",
     "output_type": "stream"
    }
   ],
   "execution_count": 4
  },
  {
   "cell_type": "code",
   "source": "housing_data[\"ocean_proximity\"].value_counts().plot(kind=\"barh\")",
   "metadata": {
    "cell_id": "7f2554611a1445c29dd5a59cd933394f",
    "tags": [],
    "deepnote_to_be_reexecuted": false,
    "source_hash": "cb1519f2",
    "execution_start": 1649071733381,
    "execution_millis": 455,
    "deepnote_cell_type": "code",
    "deepnote_cell_height": 399.1875,
    "deepnote_output_heights": [
     21.1875,
     250,
     332
    ]
   },
   "outputs": [
    {
     "output_type": "execute_result",
     "execution_count": 5,
     "data": {
      "text/plain": "<AxesSubplot:>"
     },
     "metadata": {}
    },
    {
     "data": {
      "text/plain": "<Figure size 432x288 with 1 Axes>",
      "image/png": "[encoded data removed]"
     },
     "metadata": {
      "needs_background": "light",
      "image/png": {
       "width": 422,
       "height": 248
      }
     },
     "output_type": "display_data"
    }
   ],
   "execution_count": 5
  },
  {
   "cell_type": "code",
   "source": "housing_data.describe()",
   "metadata": {
    "cell_id": "ed254945798e4523a27922ee39506109",
    "tags": [],
    "deepnote_to_be_reexecuted": false,
    "source_hash": "bfd8c0cd",
    "execution_start": 1649071733880,
    "execution_millis": 102,
    "deepnote_cell_type": "code",
    "deepnote_cell_height": 532.65625
   },
   "outputs": [
    {
     "output_type": "execute_result",
     "execution_count": 6,
     "data": {
      "application/vnd.deepnote.dataframe.v3+json": {
       "column_count": 9,
       "row_count": 8,
       "columns": [
        {
         "name": "longitude",
         "dtype": "float64",
         "stats": {
          "unique_count": 8,
          "nan_count": 0,
          "min": "-124.35",
          "max": "20640.0",
          "histogram": [
           {
            "bin_start": -124.35,
            "bin_end": 1952.085,
            "count": 7
           },
           {
            "bin_start": 1952.085,
            "bin_end": 4028.52,
            "count": 0
           },
           {
            "bin_start": 4028.52,
            "bin_end": 6104.955,
            "count": 0
           },
           {
            "bin_start": 6104.955,
            "bin_end": 8181.389999999999,
            "count": 0
           },
           {
            "bin_start": 8181.389999999999,
            "bin_end": 10257.824999999999,
            "count": 0
           },
           {
            "bin_start": 10257.824999999999,
            "bin_end": 12334.26,
            "count": 0
           },
           {
            "bin_start": 12334.26,
            "bin_end": 14410.695,
            "count": 0
           },
           {
            "bin_start": 14410.695,
            "bin_end": 16487.13,
            "count": 0
           },
           {
            "bin_start": 16487.13,
            "bin_end": 18563.565000000002,
            "count": 0
           },
           {
            "bin_start": 18563.565000000002,
            "bin_end": 20640,
            "count": 1
           }
          ]
         }
        },
        {
         "name": "latitude",
         "dtype": "float64",
         "stats": {
          "unique_count": 8,
          "nan_count": 0,
          "min": "2.1359523974571153",
          "max": "20640.0",
          "histogram": [
           {
            "bin_start": 2.1359523974571153,
            "bin_end": 2065.9223571577113,
            "count": 7
           },
           {
            "bin_start": 2065.9223571577113,
            "bin_end": 4129.708761917966,
            "count": 0
           },
           {
            "bin_start": 4129.708761917966,
            "bin_end": 6193.49516667822,
            "count": 0
           },
           {
            "bin_start": 6193.49516667822,
            "bin_end": 8257.281571438474,
            "count": 0
           },
           {
            "bin_start": 8257.281571438474,
            "bin_end": 10321.067976198729,
            "count": 0
           },
           {
            "bin_start": 10321.067976198729,
            "bin_end": 12384.854380958983,
            "count": 0
           },
           {
            "bin_start": 12384.854380958983,
            "bin_end": 14448.640785719237,
            "count": 0
           },
           {
            "bin_start": 14448.640785719237,
            "bin_end": 16512.42719047949,
            "count": 0
           },
           {
            "bin_start": 16512.42719047949,
            "bin_end": 18576.213595239748,
            "count": 0
           },
           {
            "bin_start": 18576.213595239748,
            "bin_end": 20640,
            "count": 1
           }
          ]
         }
        },
        {
         "name": "housing_median_age",
         "dtype": "float64",
         "stats": {
          "unique_count": 8,
          "nan_count": 0,
          "min": "1.0",
          "max": "20640.0",
          "histogram": [
           {
            "bin_start": 1,
            "bin_end": 2064.9,
            "count": 7
           },
           {
            "bin_start": 2064.9,
            "bin_end": 4128.8,
            "count": 0
           },
           {
            "bin_start": 4128.8,
            "bin_end": 6192.700000000001,
            "count": 0
           },
           {
            "bin_start": 6192.700000000001,
            "bin_end": 8256.6,
            "count": 0
           },
           {
            "bin_start": 8256.6,
            "bin_end": 10320.5,
            "count": 0
           },
           {
            "bin_start": 10320.5,
            "bin_end": 12384.400000000001,
            "count": 0
           },
           {
            "bin_start": 12384.400000000001,
            "bin_end": 14448.300000000001,
            "count": 0
           },
           {
            "bin_start": 14448.300000000001,
            "bin_end": 16512.2,
            "count": 0
           },
           {
            "bin_start": 16512.2,
            "bin_end": 18576.100000000002,
            "count": 0
           },
           {
            "bin_start": 18576.100000000002,
            "bin_end": 20640,
            "count": 1
           }
          ]
         }
        },
        {
         "name": "total_rooms",
         "dtype": "float64",
         "stats": {
          "unique_count": 8,
          "nan_count": 0,
          "min": "2.0",
          "max": "39320.0",
          "histogram": [
           {
            "bin_start": 2,
            "bin_end": 3933.8,
            "count": 6
           },
           {
            "bin_start": 3933.8,
            "bin_end": 7865.6,
            "count": 0
           },
           {
            "bin_start": 7865.6,
            "bin_end": 11797.400000000001,
            "count": 0
           },
           {
            "bin_start": 11797.400000000001,
            "bin_end": 15729.2,
            "count": 0
           },
           {
            "bin_start": 15729.2,
            "bin_end": 19661,
            "count": 0
           },
           {
            "bin_start": 19661,
            "bin_end": 23592.800000000003,
            "count": 1
           },
           {
            "bin_start": 23592.800000000003,
            "bin_end": 27524.600000000002,
            "count": 0
           },
           {
            "bin_start": 27524.600000000002,
            "bin_end": 31456.4,
            "count": 0
           },
           {
            "bin_start": 31456.4,
            "bin_end": 35388.200000000004,
            "count": 0
           },
           {
            "bin_start": 35388.200000000004,
            "bin_end": 39320,
            "count": 1
           }
          ]
         }
        },
        {
         "name": "total_bedrooms",
         "dtype": "float64",
         "stats": {
          "unique_count": 8,
          "nan_count": 0,
          "min": "1.0",
          "max": "20433.0",
          "histogram": [
           {
            "bin_start": 1,
            "bin_end": 2044.2,
            "count": 6
           },
           {
            "bin_start": 2044.2,
            "bin_end": 4087.4,
            "count": 0
           },
           {
            "bin_start": 4087.4,
            "bin_end": 6130.6,
            "count": 0
           },
           {
            "bin_start": 6130.6,
            "bin_end": 8173.8,
            "count": 1
           },
           {
            "bin_start": 8173.8,
            "bin_end": 10217,
            "count": 0
           },
           {
            "bin_start": 10217,
            "bin_end": 12260.2,
            "count": 0
           },
           {
            "bin_start": 12260.2,
            "bin_end": 14303.4,
            "count": 0
           },
           {
            "bin_start": 14303.4,
            "bin_end": 16346.6,
            "count": 0
           },
           {
            "bin_start": 16346.6,
            "bin_end": 18389.8,
            "count": 0
           },
           {
            "bin_start": 18389.8,
            "bin_end": 20433,
            "count": 1
           }
          ]
         }
        },
        {
         "name": "population",
         "dtype": "float64",
         "stats": {
          "unique_count": 8,
          "nan_count": 0,
          "min": "3.0",
          "max": "35682.0",
          "histogram": [
           {
            "bin_start": 3,
            "bin_end": 3570.9,
            "count": 6
           },
           {
            "bin_start": 3570.9,
            "bin_end": 7138.8,
            "count": 0
           },
           {
            "bin_start": 7138.8,
            "bin_end": 10706.7,
            "count": 0
           },
           {
            "bin_start": 10706.7,
            "bin_end": 14274.6,
            "count": 0
           },
           {
            "bin_start": 14274.6,
            "bin_end": 17842.5,
            "count": 0
           },
           {
            "bin_start": 17842.5,
            "bin_end": 21410.4,
            "count": 1
           },
           {
            "bin_start": 21410.4,
            "bin_end": 24978.3,
            "count": 0
           },
           {
            "bin_start": 24978.3,
            "bin_end": 28546.2,
            "count": 0
           },
           {
            "bin_start": 28546.2,
            "bin_end": 32114.100000000002,
            "count": 0
           },
           {
            "bin_start": 32114.100000000002,
            "bin_end": 35682,
            "count": 1
           }
          ]
         }
        },
        {
         "name": "households",
         "dtype": "float64",
         "stats": {
          "unique_count": 8,
          "nan_count": 0,
          "min": "1.0",
          "max": "20640.0",
          "histogram": [
           {
            "bin_start": 1,
            "bin_end": 2064.9,
            "count": 6
           },
           {
            "bin_start": 2064.9,
            "bin_end": 4128.8,
            "count": 0
           },
           {
            "bin_start": 4128.8,
            "bin_end": 6192.700000000001,
            "count": 1
           },
           {
            "bin_start": 6192.700000000001,
            "bin_end": 8256.6,
            "count": 0
           },
           {
            "bin_start": 8256.6,
            "bin_end": 10320.5,
            "count": 0
           },
           {
            "bin_start": 10320.5,
            "bin_end": 12384.400000000001,
            "count": 0
           },
           {
            "bin_start": 12384.400000000001,
            "bin_end": 14448.300000000001,
            "count": 0
           },
           {
            "bin_start": 14448.300000000001,
            "bin_end": 16512.2,
            "count": 0
           },
           {
            "bin_start": 16512.2,
            "bin_end": 18576.100000000002,
            "count": 0
           },
           {
            "bin_start": 18576.100000000002,
            "bin_end": 20640,
            "count": 1
           }
          ]
         }
        },
        {
         "name": "median_income",
         "dtype": "float64",
         "stats": {
          "unique_count": 8,
          "nan_count": 0,
          "min": "0.4999",
          "max": "20640.0",
          "histogram": [
           {
            "bin_start": 0.4999,
            "bin_end": 2064.44991,
            "count": 7
           },
           {
            "bin_start": 2064.44991,
            "bin_end": 4128.39992,
            "count": 0
           },
           {
            "bin_start": 4128.39992,
            "bin_end": 6192.349929999999,
            "count": 0
           },
           {
            "bin_start": 6192.349929999999,
            "bin_end": 8256.29994,
            "count": 0
           },
           {
            "bin_start": 8256.29994,
            "bin_end": 10320.249950000001,
            "count": 0
           },
           {
            "bin_start": 10320.249950000001,
            "bin_end": 12384.19996,
            "count": 0
           },
           {
            "bin_start": 12384.19996,
            "bin_end": 14448.14997,
            "count": 0
           },
           {
            "bin_start": 14448.14997,
            "bin_end": 16512.09998,
            "count": 0
           },
           {
            "bin_start": 16512.09998,
            "bin_end": 18576.04999,
            "count": 0
           },
           {
            "bin_start": 18576.04999,
            "bin_end": 20640,
            "count": 1
           }
          ]
         }
        },
        {
         "name": "median_house_value",
         "dtype": "float64",
         "stats": {
          "unique_count": 8,
          "nan_count": 0,
          "min": "14999.0",
          "max": "500001.0",
          "histogram": [
           {
            "bin_start": 14999,
            "bin_end": 63499.2,
            "count": 2
           },
           {
            "bin_start": 63499.2,
            "bin_end": 111999.4,
            "count": 0
           },
           {
            "bin_start": 111999.4,
            "bin_end": 160499.59999999998,
            "count": 2
           },
           {
            "bin_start": 160499.59999999998,
            "bin_end": 208999.8,
            "count": 2
           },
           {
            "bin_start": 208999.8,
            "bin_end": 257500,
            "count": 0
           },
           {
            "bin_start": 257500,
            "bin_end": 306000.19999999995,
            "count": 1
           },
           {
            "bin_start": 306000.19999999995,
            "bin_end": 354500.39999999997,
            "count": 0
           },
           {
            "bin_start": 354500.39999999997,
            "bin_end": 403000.6,
            "count": 0
           },
           {
            "bin_start": 403000.6,
            "bin_end": 451500.8,
            "count": 0
           },
           {
            "bin_start": 451500.8,
            "bin_end": 500001,
            "count": 1
           }
          ]
         }
        },
        {
         "name": "_deepnote_index_column",
         "dtype": "object"
        }
       ],
       "rows": [
        {
         "longitude": 20640,
         "latitude": 20640,
         "housing_median_age": 20640,
         "total_rooms": 20640,
         "total_bedrooms": 20433,
         "population": 20640,
         "households": 20640,
         "median_income": 20640,
         "median_house_value": 20640,
         "_deepnote_index_column": "count"
        },
        {
         "longitude": -119.56970445736432,
         "latitude": 35.63186143410853,
         "housing_median_age": 28.639486434108527,
         "total_rooms": 2635.7630813953488,
         "total_bedrooms": 537.8705525375618,
         "population": 1425.4767441860465,
         "households": 499.5396802325581,
         "median_income": 3.8706710029069766,
         "median_house_value": 206855.81690891474,
         "_deepnote_index_column": "mean"
        },
        {
         "longitude": 2.0035317235025882,
         "latitude": 2.1359523974571153,
         "housing_median_age": 12.58555761211165,
         "total_rooms": 2181.615251582795,
         "total_bedrooms": 421.3850700740323,
         "population": 1132.462121765341,
         "households": 382.32975283161073,
         "median_income": 1.8998217179452688,
         "median_house_value": 115395.61587441387,
         "_deepnote_index_column": "std"
        },
        {
         "longitude": -124.35,
         "latitude": 32.54,
         "housing_median_age": 1,
         "total_rooms": 2,
         "total_bedrooms": 1,
         "population": 3,
         "households": 1,
         "median_income": 0.4999,
         "median_house_value": 14999,
         "_deepnote_index_column": "min"
        },
        {
         "longitude": -121.8,
         "latitude": 33.93,
         "housing_median_age": 18,
         "total_rooms": 1447.75,
         "total_bedrooms": 296,
         "population": 787,
         "households": 280,
         "median_income": 2.5633999999999997,
         "median_house_value": 119600,
         "_deepnote_index_column": "25%"
        },
        {
         "longitude": -118.49,
         "latitude": 34.26,
         "housing_median_age": 29,
         "total_rooms": 2127,
         "total_bedrooms": 435,
         "population": 1166,
         "households": 409,
         "median_income": 3.5347999999999997,
         "median_house_value": 179700,
         "_deepnote_index_column": "50%"
        },
        {
         "longitude": -118.01,
         "latitude": 37.71,
         "housing_median_age": 37,
         "total_rooms": 3148,
         "total_bedrooms": 647,
         "population": 1725,
         "households": 605,
         "median_income": 4.74325,
         "median_house_value": 264725,
         "_deepnote_index_column": "75%"
        },
        {
         "longitude": -114.31,
         "latitude": 41.95,
         "housing_median_age": 52,
         "total_rooms": 39320,
         "total_bedrooms": 6445,
         "population": 35682,
         "households": 6082,
         "median_income": 15.0001,
         "median_house_value": 500001,
         "_deepnote_index_column": "max"
        }
       ]
      },
      "text/plain": "          longitude      latitude  housing_median_age   total_rooms  \\\ncount  20640.000000  20640.000000        20640.000000  20640.000000   \nmean    -119.569704     35.631861           28.639486   2635.763081   \nstd        2.003532      2.135952           12.585558   2181.615252   \nmin     -124.350000     32.540000            1.000000      2.000000   \n25%     -121.800000     33.930000           18.000000   1447.750000   \n50%     -118.490000     34.260000           29.000000   2127.000000   \n75%     -118.010000     37.710000           37.000000   3148.000000   \nmax     -114.310000     41.950000           52.000000  39320.000000   \n\n       total_bedrooms    population    households  median_income  \\\ncount    20433.000000  20640.000000  20640.000000   20640.000000   \nmean       537.870553   1425.476744    499.539680       3.870671   \nstd        421.385070   1132.462122    382.329753       1.899822   \nmin          1.000000      3.000000      1.000000       0.499900   \n25%        296.000000    787.000000    280.000000       2.563400   \n50%        435.000000   1166.000000    409.000000       3.534800   \n75%        647.000000   1725.000000    605.000000       4.743250   \nmax       6445.000000  35682.000000   6082.000000      15.000100   \n\n       median_house_value  \ncount        20640.000000  \nmean        206855.816909  \nstd         115395.615874  \nmin          14999.000000  \n25%         119600.000000  \n50%         179700.000000  \n75%         264725.000000  \nmax         500001.000000  ",
      "text/html": "<div>\n<style scoped>\n    .dataframe tbody tr th:only-of-type {\n        vertical-align: middle;\n    }\n\n    .dataframe tbody tr th {\n        vertical-align: top;\n    }\n\n    .dataframe thead th {\n        text-align: right;\n    }\n</style>\n<table border=\"1\" class=\"dataframe\">\n  <thead>\n    <tr style=\"text-align: right;\">\n      <th></th>\n      <th>longitude</th>\n      <th>latitude</th>\n      <th>housing_median_age</th>\n      <th>total_rooms</th>\n      <th>total_bedrooms</th>\n      <th>population</th>\n      <th>households</th>\n      <th>median_income</th>\n      <th>median_house_value</th>\n    </tr>\n  </thead>\n  <tbody>\n    <tr>\n      <th>count</th>\n      <td>20640.000000</td>\n      <td>20640.000000</td>\n      <td>20640.000000</td>\n      <td>20640.000000</td>\n      <td>20433.000000</td>\n      <td>20640.000000</td>\n      <td>20640.000000</td>\n      <td>20640.000000</td>\n      <td>20640.000000</td>\n    </tr>\n    <tr>\n      <th>mean</th>\n      <td>-119.569704</td>\n      <td>35.631861</td>\n      <td>28.639486</td>\n      <td>2635.763081</td>\n      <td>537.870553</td>\n      <td>1425.476744</td>\n      <td>499.539680</td>\n      <td>3.870671</td>\n      <td>206855.816909</td>\n    </tr>\n    <tr>\n      <th>std</th>\n      <td>2.003532</td>\n      <td>2.135952</td>\n      <td>12.585558</td>\n      <td>2181.615252</td>\n      <td>421.385070</td>\n      <td>1132.462122</td>\n      <td>382.329753</td>\n      <td>1.899822</td>\n      <td>115395.615874</td>\n    </tr>\n    <tr>\n      <th>min</th>\n      <td>-124.350000</td>\n      <td>32.540000</td>\n      <td>1.000000</td>\n      <td>2.000000</td>\n      <td>1.000000</td>\n      <td>3.000000</td>\n      <td>1.000000</td>\n      <td>0.499900</td>\n      <td>14999.000000</td>\n    </tr>\n    <tr>\n      <th>25%</th>\n      <td>-121.800000</td>\n      <td>33.930000</td>\n      <td>18.000000</td>\n      <td>1447.750000</td>\n      <td>296.000000</td>\n      <td>787.000000</td>\n      <td>280.000000</td>\n      <td>2.563400</td>\n      <td>119600.000000</td>\n    </tr>\n    <tr>\n      <th>50%</th>\n      <td>-118.490000</td>\n      <td>34.260000</td>\n      <td>29.000000</td>\n      <td>2127.000000</td>\n      <td>435.000000</td>\n      <td>1166.000000</td>\n      <td>409.000000</td>\n      <td>3.534800</td>\n      <td>179700.000000</td>\n    </tr>\n    <tr>\n      <th>75%</th>\n      <td>-118.010000</td>\n      <td>37.710000</td>\n      <td>37.000000</td>\n      <td>3148.000000</td>\n      <td>647.000000</td>\n      <td>1725.000000</td>\n      <td>605.000000</td>\n      <td>4.743250</td>\n      <td>264725.000000</td>\n    </tr>\n    <tr>\n      <th>max</th>\n      <td>-114.310000</td>\n      <td>41.950000</td>\n      <td>52.000000</td>\n      <td>39320.000000</td>\n      <td>6445.000000</td>\n      <td>35682.000000</td>\n      <td>6082.000000</td>\n      <td>15.000100</td>\n      <td>500001.000000</td>\n    </tr>\n  </tbody>\n</table>\n</div>"
     },
     "metadata": {}
    }
   ],
   "execution_count": 6
  },
  {
   "cell_type": "code",
   "source": "housing_data['median_income'].hist()",
   "metadata": {
    "cell_id": "e83ba44f72804bf9b082df41deb54f08",
    "tags": [],
    "deepnote_to_be_reexecuted": false,
    "source_hash": "a12f8b8f",
    "execution_start": 1649071733990,
    "execution_millis": 431,
    "deepnote_cell_type": "code",
    "deepnote_cell_height": 399.1875,
    "deepnote_output_heights": [
     21.1875,
     250
    ]
   },
   "outputs": [
    {
     "output_type": "execute_result",
     "execution_count": 7,
     "data": {
      "text/plain": "<AxesSubplot:>"
     },
     "metadata": {}
    },
    {
     "data": {
      "text/plain": "<Figure size 432x288 with 1 Axes>",
      "image/png": "[encoded data removed]"
     },
     "metadata": {
      "needs_background": "light",
      "image/png": {
       "width": 381,
       "height": 248
      }
     },
     "output_type": "display_data"
    }
   ],
   "execution_count": 7
  },
  {
   "cell_type": "code",
   "source": "housing_data[\"income_cat\"] = pd.cut(x=housing_data[\"median_income\"],\n                                bins=[0., 1.5, 3.0, 4.5, 6., np.inf],\n                                labels=[1,2,3,4,5])\n\nhousing_data[\"income_cat\"].value_counts()",
   "metadata": {
    "cell_id": "394d3bf2d68e4e539aff2a03e1fffde0",
    "tags": [],
    "deepnote_to_be_reexecuted": false,
    "source_hash": "e123c734",
    "execution_start": 1649071734426,
    "execution_millis": 23,
    "deepnote_cell_type": "code",
    "deepnote_cell_height": 286.1875,
    "deepnote_output_heights": [
     117.1875
    ]
   },
   "outputs": [
    {
     "output_type": "execute_result",
     "execution_count": 8,
     "data": {
      "text/plain": "3    7236\n2    6581\n4    3639\n5    2362\n1     822\nName: income_cat, dtype: int64"
     },
     "metadata": {}
    }
   ],
   "execution_count": 8
  },
  {
   "cell_type": "code",
   "source": "housing_data['income_cat'].hist()",
   "metadata": {
    "cell_id": "b165dface4f44c2cafc4ceb352df2b83",
    "tags": [],
    "deepnote_to_be_reexecuted": false,
    "source_hash": "59e979e3",
    "execution_start": 1649071734453,
    "execution_millis": 530,
    "deepnote_cell_type": "code",
    "deepnote_cell_height": 399.1875,
    "deepnote_output_heights": [
     21.1875,
     250
    ]
   },
   "outputs": [
    {
     "output_type": "execute_result",
     "execution_count": 9,
     "data": {
      "text/plain": "<AxesSubplot:>"
     },
     "metadata": {}
    },
    {
     "data": {
      "text/plain": "<Figure size 432x288 with 1 Axes>",
      "image/png": "[encoded data removed]"
     },
     "metadata": {
      "needs_background": "light",
      "image/png": {
       "width": 381,
       "height": 248
      }
     },
     "output_type": "display_data"
    }
   ],
   "execution_count": 9
  },
  {
   "cell_type": "code",
   "source": "y = housing_data[\"median_house_value\"]\nX = housing_data.drop(\"median_house_value\", axis=1) #to predict data\nX",
   "metadata": {
    "cell_id": "70b309836f954ed58f9110a86261e201",
    "tags": [],
    "deepnote_to_be_reexecuted": false,
    "source_hash": "e2f1f840",
    "execution_start": 1649071735044,
    "execution_millis": 108,
    "deepnote_cell_type": "code",
    "deepnote_cell_height": 674.65625
   },
   "outputs": [
    {
     "output_type": "execute_result",
     "execution_count": 10,
     "data": {
      "application/vnd.deepnote.dataframe.v3+json": {
       "column_count": 10,
       "row_count": 20640,
       "columns": [
        {
         "name": "longitude",
         "dtype": "float64",
         "stats": {
          "unique_count": 844,
          "nan_count": 0,
          "min": "-124.35",
          "max": "-114.31",
          "histogram": [
           {
            "bin_start": -124.35,
            "bin_end": -123.34599999999999,
            "count": 190
           },
           {
            "bin_start": -123.34599999999999,
            "bin_end": -122.342,
            "count": 1553
           },
           {
            "bin_start": -122.342,
            "bin_end": -121.338,
            "count": 4564
           },
           {
            "bin_start": -121.338,
            "bin_end": -120.334,
            "count": 1673
           },
           {
            "bin_start": -120.334,
            "bin_end": -119.33,
            "count": 1098
           },
           {
            "bin_start": -119.33,
            "bin_end": -118.326,
            "count": 2887
           },
           {
            "bin_start": -118.326,
            "bin_end": -117.322,
            "count": 6208
           },
           {
            "bin_start": -117.322,
            "bin_end": -116.318,
            "count": 2252
           },
           {
            "bin_start": -116.318,
            "bin_end": -115.31400000000001,
            "count": 183
           },
           {
            "bin_start": -115.31400000000001,
            "bin_end": -114.31,
            "count": 32
           }
          ]
         }
        },
        {
         "name": "latitude",
         "dtype": "float64",
         "stats": {
          "unique_count": 862,
          "nan_count": 0,
          "min": "32.54",
          "max": "41.95",
          "histogram": [
           {
            "bin_start": 32.54,
            "bin_end": 33.481,
            "count": 1796
           },
           {
            "bin_start": 33.481,
            "bin_end": 34.422,
            "count": 8987
           },
           {
            "bin_start": 34.422,
            "bin_end": 35.363,
            "count": 747
           },
           {
            "bin_start": 35.363,
            "bin_end": 36.304,
            "count": 474
           },
           {
            "bin_start": 36.304,
            "bin_end": 37.245000000000005,
            "count": 1292
           },
           {
            "bin_start": 37.245000000000005,
            "bin_end": 38.186,
            "count": 4712
           },
           {
            "bin_start": 38.186,
            "bin_end": 39.127,
            "count": 1740
           },
           {
            "bin_start": 39.127,
            "bin_end": 40.068000000000005,
            "count": 490
           },
           {
            "bin_start": 40.068000000000005,
            "bin_end": 41.009,
            "count": 324
           },
           {
            "bin_start": 41.009,
            "bin_end": 41.95,
            "count": 78
           }
          ]
         }
        },
        {
         "name": "housing_median_age",
         "dtype": "float64",
         "stats": {
          "unique_count": 52,
          "nan_count": 0,
          "min": "1.0",
          "max": "52.0",
          "histogram": [
           {
            "bin_start": 1,
            "bin_end": 6.1,
            "count": 719
           },
           {
            "bin_start": 6.1,
            "bin_end": 11.2,
            "count": 1104
           },
           {
            "bin_start": 11.2,
            "bin_end": 16.299999999999997,
            "count": 2235
           },
           {
            "bin_start": 16.299999999999997,
            "bin_end": 21.4,
            "count": 2681
           },
           {
            "bin_start": 21.4,
            "bin_end": 26.5,
            "count": 2510
           },
           {
            "bin_start": 26.5,
            "bin_end": 31.599999999999998,
            "count": 2354
           },
           {
            "bin_start": 31.599999999999998,
            "bin_end": 36.699999999999996,
            "count": 3555
           },
           {
            "bin_start": 36.699999999999996,
            "bin_end": 41.8,
            "count": 1900
           },
           {
            "bin_start": 41.8,
            "bin_end": 46.9,
            "count": 1616
           },
           {
            "bin_start": 46.9,
            "bin_end": 52,
            "count": 1966
           }
          ]
         }
        },
        {
         "name": "total_rooms",
         "dtype": "float64",
         "stats": {
          "unique_count": 5926,
          "nan_count": 0,
          "min": "2.0",
          "max": "39320.0",
          "histogram": [
           {
            "bin_start": 2,
            "bin_end": 3933.8,
            "count": 17525
           },
           {
            "bin_start": 3933.8,
            "bin_end": 7865.6,
            "count": 2558
           },
           {
            "bin_start": 7865.6,
            "bin_end": 11797.400000000001,
            "count": 372
           },
           {
            "bin_start": 11797.400000000001,
            "bin_end": 15729.2,
            "count": 103
           },
           {
            "bin_start": 15729.2,
            "bin_end": 19661,
            "count": 49
           },
           {
            "bin_start": 19661,
            "bin_end": 23592.800000000003,
            "count": 16
           },
           {
            "bin_start": 23592.800000000003,
            "bin_end": 27524.600000000002,
            "count": 7
           },
           {
            "bin_start": 27524.600000000002,
            "bin_end": 31456.4,
            "count": 6
           },
           {
            "bin_start": 31456.4,
            "bin_end": 35388.200000000004,
            "count": 2
           },
           {
            "bin_start": 35388.200000000004,
            "bin_end": 39320,
            "count": 2
           }
          ]
         }
        },
        {
         "name": "total_bedrooms",
         "dtype": "float64"
        },
        {
         "name": "population",
         "dtype": "float64"
        },
        {
         "name": "households",
         "dtype": "float64"
        },
        {
         "name": "median_income",
         "dtype": "float64"
        },
        {
         "name": "ocean_proximity",
         "dtype": "object"
        },
        {
         "name": "income_cat",
         "dtype": "category"
        },
        {
         "name": "_deepnote_index_column",
         "dtype": "int64"
        }
       ],
       "rows": [
        {
         "longitude": -122.23,
         "latitude": 37.88,
         "housing_median_age": 41,
         "total_rooms": 880,
         "total_bedrooms": 129,
         "population": 322,
         "households": 126,
         "median_income": 8.3252,
         "ocean_proximity": "NEAR BAY",
         "income_cat": 5,
         "_deepnote_index_column": 0
        },
        {
         "longitude": -122.22,
         "latitude": 37.86,
         "housing_median_age": 21,
         "total_rooms": 7099,
         "total_bedrooms": 1106,
         "population": 2401,
         "households": 1138,
         "median_income": 8.3014,
         "ocean_proximity": "NEAR BAY",
         "income_cat": 5,
         "_deepnote_index_column": 1
        },
        {
         "longitude": -122.24,
         "latitude": 37.85,
         "housing_median_age": 52,
         "total_rooms": 1467,
         "total_bedrooms": 190,
         "population": 496,
         "households": 177,
         "median_income": 7.2574,
         "ocean_proximity": "NEAR BAY",
         "income_cat": 5,
         "_deepnote_index_column": 2
        },
        {
         "longitude": -122.25,
         "latitude": 37.85,
         "housing_median_age": 52,
         "total_rooms": 1274,
         "total_bedrooms": 235,
         "population": 558,
         "households": 219,
         "median_income": 5.6431,
         "ocean_proximity": "NEAR BAY",
         "income_cat": 4,
         "_deepnote_index_column": 3
        },
        {
         "longitude": -122.25,
         "latitude": 37.85,
         "housing_median_age": 52,
         "total_rooms": 1627,
         "total_bedrooms": 280,
         "population": 565,
         "households": 259,
         "median_income": 3.8462,
         "ocean_proximity": "NEAR BAY",
         "income_cat": 3,
         "_deepnote_index_column": 4
        },
        {
         "longitude": -122.25,
         "latitude": 37.85,
         "housing_median_age": 52,
         "total_rooms": 919,
         "total_bedrooms": 213,
         "population": 413,
         "households": 193,
         "median_income": 4.0368,
         "ocean_proximity": "NEAR BAY",
         "income_cat": 3,
         "_deepnote_index_column": 5
        },
        {
         "longitude": -122.25,
         "latitude": 37.84,
         "housing_median_age": 52,
         "total_rooms": 2535,
         "total_bedrooms": 489,
         "population": 1094,
         "households": 514,
         "median_income": 3.6591,
         "ocean_proximity": "NEAR BAY",
         "income_cat": 3,
         "_deepnote_index_column": 6
        },
        {
         "longitude": -122.25,
         "latitude": 37.84,
         "housing_median_age": 52,
         "total_rooms": 3104,
         "total_bedrooms": 687,
         "population": 1157,
         "households": 647,
         "median_income": 3.12,
         "ocean_proximity": "NEAR BAY",
         "income_cat": 3,
         "_deepnote_index_column": 7
        },
        {
         "longitude": -122.26,
         "latitude": 37.84,
         "housing_median_age": 42,
         "total_rooms": 2555,
         "total_bedrooms": 665,
         "population": 1206,
         "households": 595,
         "median_income": 2.0804,
         "ocean_proximity": "NEAR BAY",
         "income_cat": 2,
         "_deepnote_index_column": 8
        },
        {
         "longitude": -122.25,
         "latitude": 37.84,
         "housing_median_age": 52,
         "total_rooms": 3549,
         "total_bedrooms": 707,
         "population": 1551,
         "households": 714,
         "median_income": 3.6912,
         "ocean_proximity": "NEAR BAY",
         "income_cat": 3,
         "_deepnote_index_column": 9
        }
       ]
      },
      "text/plain": "       longitude  latitude  housing_median_age  total_rooms  total_bedrooms  \\\n0        -122.23     37.88                41.0        880.0           129.0   \n1        -122.22     37.86                21.0       7099.0          1106.0   \n2        -122.24     37.85                52.0       1467.0           190.0   \n3        -122.25     37.85                52.0       1274.0           235.0   \n4        -122.25     37.85                52.0       1627.0           280.0   \n...          ...       ...                 ...          ...             ...   \n20635    -121.09     39.48                25.0       1665.0           374.0   \n20636    -121.21     39.49                18.0        697.0           150.0   \n20637    -121.22     39.43                17.0       2254.0           485.0   \n20638    -121.32     39.43                18.0       1860.0           409.0   \n20639    -121.24     39.37                16.0       2785.0           616.0   \n\n       population  households  median_income ocean_proximity income_cat  \n0           322.0       126.0         8.3252        NEAR BAY          5  \n1          2401.0      1138.0         8.3014        NEAR BAY          5  \n2           496.0       177.0         7.2574        NEAR BAY          5  \n3           558.0       219.0         5.6431        NEAR BAY          4  \n4           565.0       259.0         3.8462        NEAR BAY          3  \n...           ...         ...            ...             ...        ...  \n20635       845.0       330.0         1.5603          INLAND          2  \n20636       356.0       114.0         2.5568          INLAND          2  \n20637      1007.0       433.0         1.7000          INLAND          2  \n20638       741.0       349.0         1.8672          INLAND          2  \n20639      1387.0       530.0         2.3886          INLAND          2  \n\n[20640 rows x 10 columns]",
      "text/html": "<div>\n<style scoped>\n    .dataframe tbody tr th:only-of-type {\n        vertical-align: middle;\n    }\n\n    .dataframe tbody tr th {\n        vertical-align: top;\n    }\n\n    .dataframe thead th {\n        text-align: right;\n    }\n</style>\n<table border=\"1\" class=\"dataframe\">\n  <thead>\n    <tr style=\"text-align: right;\">\n      <th></th>\n      <th>longitude</th>\n      <th>latitude</th>\n      <th>housing_median_age</th>\n      <th>total_rooms</th>\n      <th>total_bedrooms</th>\n      <th>population</th>\n      <th>households</th>\n      <th>median_income</th>\n      <th>ocean_proximity</th>\n      <th>income_cat</th>\n    </tr>\n  </thead>\n  <tbody>\n    <tr>\n      <th>0</th>\n      <td>-122.23</td>\n      <td>37.88</td>\n      <td>41.0</td>\n      <td>880.0</td>\n      <td>129.0</td>\n      <td>322.0</td>\n      <td>126.0</td>\n      <td>8.3252</td>\n      <td>NEAR BAY</td>\n      <td>5</td>\n    </tr>\n    <tr>\n      <th>1</th>\n      <td>-122.22</td>\n      <td>37.86</td>\n      <td>21.0</td>\n      <td>7099.0</td>\n      <td>1106.0</td>\n      <td>2401.0</td>\n      <td>1138.0</td>\n      <td>8.3014</td>\n      <td>NEAR BAY</td>\n      <td>5</td>\n    </tr>\n    <tr>\n      <th>2</th>\n      <td>-122.24</td>\n      <td>37.85</td>\n      <td>52.0</td>\n      <td>1467.0</td>\n      <td>190.0</td>\n      <td>496.0</td>\n      <td>177.0</td>\n      <td>7.2574</td>\n      <td>NEAR BAY</td>\n      <td>5</td>\n    </tr>\n    <tr>\n      <th>3</th>\n      <td>-122.25</td>\n      <td>37.85</td>\n      <td>52.0</td>\n      <td>1274.0</td>\n      <td>235.0</td>\n      <td>558.0</td>\n      <td>219.0</td>\n      <td>5.6431</td>\n      <td>NEAR BAY</td>\n      <td>4</td>\n    </tr>\n    <tr>\n      <th>4</th>\n      <td>-122.25</td>\n      <td>37.85</td>\n      <td>52.0</td>\n      <td>1627.0</td>\n      <td>280.0</td>\n      <td>565.0</td>\n      <td>259.0</td>\n      <td>3.8462</td>\n      <td>NEAR BAY</td>\n      <td>3</td>\n    </tr>\n    <tr>\n      <th>...</th>\n      <td>...</td>\n      <td>...</td>\n      <td>...</td>\n      <td>...</td>\n      <td>...</td>\n      <td>...</td>\n      <td>...</td>\n      <td>...</td>\n      <td>...</td>\n      <td>...</td>\n    </tr>\n    <tr>\n      <th>20635</th>\n      <td>-121.09</td>\n      <td>39.48</td>\n      <td>25.0</td>\n      <td>1665.0</td>\n      <td>374.0</td>\n      <td>845.0</td>\n      <td>330.0</td>\n      <td>1.5603</td>\n      <td>INLAND</td>\n      <td>2</td>\n    </tr>\n    <tr>\n      <th>20636</th>\n      <td>-121.21</td>\n      <td>39.49</td>\n      <td>18.0</td>\n      <td>697.0</td>\n      <td>150.0</td>\n      <td>356.0</td>\n      <td>114.0</td>\n      <td>2.5568</td>\n      <td>INLAND</td>\n      <td>2</td>\n    </tr>\n    <tr>\n      <th>20637</th>\n      <td>-121.22</td>\n      <td>39.43</td>\n      <td>17.0</td>\n      <td>2254.0</td>\n      <td>485.0</td>\n      <td>1007.0</td>\n      <td>433.0</td>\n      <td>1.7000</td>\n      <td>INLAND</td>\n      <td>2</td>\n    </tr>\n    <tr>\n      <th>20638</th>\n      <td>-121.32</td>\n      <td>39.43</td>\n      <td>18.0</td>\n      <td>1860.0</td>\n      <td>409.0</td>\n      <td>741.0</td>\n      <td>349.0</td>\n      <td>1.8672</td>\n      <td>INLAND</td>\n      <td>2</td>\n    </tr>\n    <tr>\n      <th>20639</th>\n      <td>-121.24</td>\n      <td>39.37</td>\n      <td>16.0</td>\n      <td>2785.0</td>\n      <td>616.0</td>\n      <td>1387.0</td>\n      <td>530.0</td>\n      <td>2.3886</td>\n      <td>INLAND</td>\n      <td>2</td>\n    </tr>\n  </tbody>\n</table>\n<p>20640 rows × 10 columns</p>\n</div>"
     },
     "metadata": {}
    }
   ],
   "execution_count": 10
  },
  {
   "cell_type": "markdown",
   "source": "# Split Datasets",
   "metadata": {
    "cell_id": "67a87a0831854aa4a88e4d5b998fd36e",
    "tags": [],
    "is_collapsed": false,
    "deepnote_cell_type": "text-cell-h1"
   }
  },
  {
   "cell_type": "code",
   "source": "from sklearn.model_selection import train_test_split\n\nX_train, X_test, y_train, y_test = train_test_split(X, y, test_size=0.33)\nX_train",
   "metadata": {
    "cell_id": "03d151b526a74a5892365e11277b3709",
    "tags": [],
    "deepnote_to_be_reexecuted": false,
    "source_hash": "a927840d",
    "execution_start": 1649071735157,
    "execution_millis": 299,
    "deepnote_cell_type": "code",
    "deepnote_cell_height": 692.65625
   },
   "outputs": [
    {
     "output_type": "execute_result",
     "execution_count": 11,
     "data": {
      "application/vnd.deepnote.dataframe.v3+json": {
       "column_count": 10,
       "row_count": 13828,
       "columns": [
        {
         "name": "longitude",
         "dtype": "float64",
         "stats": {
          "unique_count": 806,
          "nan_count": 0,
          "min": "-124.35",
          "max": "-114.31",
          "histogram": [
           {
            "bin_start": -124.35,
            "bin_end": -123.34599999999999,
            "count": 121
           },
           {
            "bin_start": -123.34599999999999,
            "bin_end": -122.342,
            "count": 1053
           },
           {
            "bin_start": -122.342,
            "bin_end": -121.338,
            "count": 3149
           },
           {
            "bin_start": -121.338,
            "bin_end": -120.334,
            "count": 1103
           },
           {
            "bin_start": -120.334,
            "bin_end": -119.33,
            "count": 713
           },
           {
            "bin_start": -119.33,
            "bin_end": -118.326,
            "count": 1906
           },
           {
            "bin_start": -118.326,
            "bin_end": -117.322,
            "count": 4111
           },
           {
            "bin_start": -117.322,
            "bin_end": -116.318,
            "count": 1517
           },
           {
            "bin_start": -116.318,
            "bin_end": -115.31400000000001,
            "count": 130
           },
           {
            "bin_start": -115.31400000000001,
            "bin_end": -114.31,
            "count": 25
           }
          ]
         }
        },
        {
         "name": "latitude",
         "dtype": "float64",
         "stats": {
          "unique_count": 823,
          "nan_count": 0,
          "min": "32.54",
          "max": "41.95",
          "histogram": [
           {
            "bin_start": 32.54,
            "bin_end": 33.481,
            "count": 1213
           },
           {
            "bin_start": 33.481,
            "bin_end": 34.422,
            "count": 5960
           },
           {
            "bin_start": 34.422,
            "bin_end": 35.363,
            "count": 503
           },
           {
            "bin_start": 35.363,
            "bin_end": 36.304,
            "count": 315
           },
           {
            "bin_start": 36.304,
            "bin_end": 37.245000000000005,
            "count": 834
           },
           {
            "bin_start": 37.245000000000005,
            "bin_end": 38.186,
            "count": 3222
           },
           {
            "bin_start": 38.186,
            "bin_end": 39.127,
            "count": 1173
           },
           {
            "bin_start": 39.127,
            "bin_end": 40.068000000000005,
            "count": 333
           },
           {
            "bin_start": 40.068000000000005,
            "bin_end": 41.009,
            "count": 218
           },
           {
            "bin_start": 41.009,
            "bin_end": 41.95,
            "count": 57
           }
          ]
         }
        },
        {
         "name": "housing_median_age",
         "dtype": "float64",
         "stats": {
          "unique_count": 51,
          "nan_count": 0,
          "min": "2.0",
          "max": "52.0",
          "histogram": [
           {
            "bin_start": 2,
            "bin_end": 7,
            "count": 471
           },
           {
            "bin_start": 7,
            "bin_end": 12,
            "count": 742
           },
           {
            "bin_start": 12,
            "bin_end": 17,
            "count": 1495
           },
           {
            "bin_start": 17,
            "bin_end": 22,
            "count": 1801
           },
           {
            "bin_start": 22,
            "bin_end": 27,
            "count": 1710
           },
           {
            "bin_start": 27,
            "bin_end": 32,
            "count": 1560
           },
           {
            "bin_start": 32,
            "bin_end": 37,
            "count": 2368
           },
           {
            "bin_start": 37,
            "bin_end": 42,
            "count": 1291
           },
           {
            "bin_start": 42,
            "bin_end": 47,
            "count": 1067
           },
           {
            "bin_start": 47,
            "bin_end": 52,
            "count": 1323
           }
          ]
         }
        },
        {
         "name": "total_rooms",
         "dtype": "float64",
         "stats": {
          "unique_count": 5129,
          "nan_count": 0,
          "min": "8.0",
          "max": "37937.0",
          "histogram": [
           {
            "bin_start": 8,
            "bin_end": 3800.9,
            "count": 11530
           },
           {
            "bin_start": 3800.9,
            "bin_end": 7593.8,
            "count": 1903
           },
           {
            "bin_start": 7593.8,
            "bin_end": 11386.7,
            "count": 269
           },
           {
            "bin_start": 11386.7,
            "bin_end": 15179.6,
            "count": 67
           },
           {
            "bin_start": 15179.6,
            "bin_end": 18972.5,
            "count": 34
           },
           {
            "bin_start": 18972.5,
            "bin_end": 22765.4,
            "count": 14
           },
           {
            "bin_start": 22765.4,
            "bin_end": 26558.3,
            "count": 6
           },
           {
            "bin_start": 26558.3,
            "bin_end": 30351.2,
            "count": 2
           },
           {
            "bin_start": 30351.2,
            "bin_end": 34144.1,
            "count": 2
           },
           {
            "bin_start": 34144.1,
            "bin_end": 37937,
            "count": 1
           }
          ]
         }
        },
        {
         "name": "total_bedrooms",
         "dtype": "float64",
         "stats": {
          "unique_count": 1736,
          "nan_count": 132,
          "min": "1.0",
          "max": "5471.0",
          "histogram": [
           {
            "bin_start": 1,
            "bin_end": 548,
            "count": 8923
           },
           {
            "bin_start": 548,
            "bin_end": 1095,
            "count": 3752
           },
           {
            "bin_start": 1095,
            "bin_end": 1642,
            "count": 712
           },
           {
            "bin_start": 1642,
            "bin_end": 2189,
            "count": 165
           },
           {
            "bin_start": 2189,
            "bin_end": 2736,
            "count": 81
           },
           {
            "bin_start": 2736,
            "bin_end": 3283,
            "count": 31
           },
           {
            "bin_start": 3283,
            "bin_end": 3830,
            "count": 11
           },
           {
            "bin_start": 3830,
            "bin_end": 4377,
            "count": 11
           },
           {
            "bin_start": 4377,
            "bin_end": 4924,
            "count": 6
           },
           {
            "bin_start": 4924,
            "bin_end": 5471,
            "count": 4
           }
          ]
         }
        },
        {
         "name": "population",
         "dtype": "float64",
         "stats": {
          "unique_count": 3447,
          "nan_count": 0,
          "min": "3.0",
          "max": "35682.0",
          "histogram": [
           {
            "bin_start": 3,
            "bin_end": 3570.9,
            "count": 13272
           },
           {
            "bin_start": 3570.9,
            "bin_end": 7138.8,
            "count": 475
           },
           {
            "bin_start": 7138.8,
            "bin_end": 10706.7,
            "count": 69
           },
           {
            "bin_start": 10706.7,
            "bin_end": 14274.6,
            "count": 10
           },
           {
            "bin_start": 14274.6,
            "bin_end": 17842.5,
            "count": 1
           },
           {
            "bin_start": 17842.5,
            "bin_end": 21410.4,
            "count": 0
           },
           {
            "bin_start": 21410.4,
            "bin_end": 24978.3,
            "count": 0
           },
           {
            "bin_start": 24978.3,
            "bin_end": 28546.2,
            "count": 0
           },
           {
            "bin_start": 28546.2,
            "bin_end": 32114.100000000002,
            "count": 0
           },
           {
            "bin_start": 32114.100000000002,
            "bin_end": 35682,
            "count": 1
           }
          ]
         }
        },
        {
         "name": "households",
         "dtype": "float64",
         "stats": {
          "unique_count": 1632,
          "nan_count": 0,
          "min": "1.0",
          "max": "5189.0",
          "histogram": [
           {
            "bin_start": 1,
            "bin_end": 519.8,
            "count": 9134
           },
           {
            "bin_start": 519.8,
            "bin_end": 1038.6,
            "count": 3760
           },
           {
            "bin_start": 1038.6,
            "bin_end": 1557.3999999999999,
            "count": 653
           },
           {
            "bin_start": 1557.3999999999999,
            "bin_end": 2076.2,
            "count": 155
           },
           {
            "bin_start": 2076.2,
            "bin_end": 2595,
            "count": 66
           },
           {
            "bin_start": 2595,
            "bin_end": 3113.7999999999997,
            "count": 31
           },
           {
            "bin_start": 3113.7999999999997,
            "bin_end": 3632.5999999999995,
            "count": 13
           },
           {
            "bin_start": 3632.5999999999995,
            "bin_end": 4151.4,
            "count": 9
           },
           {
            "bin_start": 4151.4,
            "bin_end": 4670.2,
            "count": 4
           },
           {
            "bin_start": 4670.2,
            "bin_end": 5189,
            "count": 3
           }
          ]
         }
        },
        {
         "name": "median_income",
         "dtype": "float64"
        },
        {
         "name": "ocean_proximity",
         "dtype": "object"
        },
        {
         "name": "income_cat",
         "dtype": "category"
        },
        {
         "name": "_deepnote_index_column",
         "dtype": "int64"
        }
       ],
       "rows": [
        {
         "longitude": -117.14,
         "latitude": 33.94,
         "housing_median_age": 5,
         "total_rooms": 4873,
         "total_bedrooms": 639,
         "population": 1947,
         "households": 568,
         "median_income": 6.3223,
         "ocean_proximity": "INLAND",
         "income_cat": 5,
         "_deepnote_index_column": 12118
        },
        {
         "longitude": -120.61,
         "latitude": 35.06,
         "housing_median_age": 13,
         "total_rooms": 2364,
         "total_bedrooms": 421,
         "population": 1257,
         "households": 380,
         "median_income": 4.6167,
         "ocean_proximity": "<1H OCEAN",
         "income_cat": 4,
         "_deepnote_index_column": 16703
        },
        {
         "longitude": -118.07,
         "latitude": 33.93,
         "housing_median_age": 5,
         "total_rooms": 906,
         "total_bedrooms": 187,
         "population": 1453,
         "households": 158,
         "median_income": 4.125,
         "ocean_proximity": "<1H OCEAN",
         "income_cat": 3,
         "_deepnote_index_column": 7665
        },
        {
         "longitude": -122.46,
         "latitude": 37.74,
         "housing_median_age": 52,
         "total_rooms": 2180,
         "total_bedrooms": 326,
         "population": 856,
         "households": 326,
         "median_income": 5.3961,
         "ocean_proximity": "NEAR BAY",
         "income_cat": 4,
         "_deepnote_index_column": 16010
        },
        {
         "longitude": -122.48,
         "latitude": 38.54,
         "housing_median_age": 37,
         "total_rooms": 1898,
         "total_bedrooms": 359,
         "population": 973,
         "households": 340,
         "median_income": 4.2096,
         "ocean_proximity": "INLAND",
         "income_cat": 3,
         "_deepnote_index_column": 9977
        },
        {
         "longitude": -117.25,
         "latitude": 34.14,
         "housing_median_age": 19,
         "total_rooms": 5163,
         "total_bedrooms": 1229,
         "population": 2680,
         "households": 1141,
         "median_income": 2.2482,
         "ocean_proximity": "INLAND",
         "income_cat": 2,
         "_deepnote_index_column": 13608
        },
        {
         "longitude": -121.89,
         "latitude": 37.26,
         "housing_median_age": 26,
         "total_rooms": 1864,
         "total_bedrooms": 331,
         "population": 956,
         "households": 325,
         "median_income": 5.5,
         "ocean_proximity": "<1H OCEAN",
         "income_cat": 4,
         "_deepnote_index_column": 17649
        },
        {
         "longitude": -122.02,
         "latitude": 37.58,
         "housing_median_age": 15,
         "total_rooms": 3052,
         "total_bedrooms": 760,
         "population": 2097,
         "households": 728,
         "median_income": 3.3617,
         "ocean_proximity": "NEAR BAY",
         "income_cat": 3,
         "_deepnote_index_column": 855
        },
        {
         "longitude": -122.08,
         "latitude": 37.61,
         "housing_median_age": 26,
         "total_rooms": 2261,
         "total_bedrooms": 443,
         "population": 1039,
         "households": 395,
         "median_income": 3.7931,
         "ocean_proximity": "NEAR BAY",
         "income_cat": 3,
         "_deepnote_index_column": 829
        },
        {
         "longitude": -122.4,
         "latitude": 37.6,
         "housing_median_age": 30,
         "total_rooms": 5351,
         "total_bedrooms": 1134,
         "population": 2558,
         "households": 1074,
         "median_income": 3.5817,
         "ocean_proximity": "NEAR OCEAN",
         "income_cat": 3,
         "_deepnote_index_column": 16876
        }
       ]
      },
      "text/plain": "       longitude  latitude  housing_median_age  total_rooms  total_bedrooms  \\\n12118    -117.14     33.94                 5.0       4873.0           639.0   \n16703    -120.61     35.06                13.0       2364.0           421.0   \n7665     -118.07     33.93                 5.0        906.0           187.0   \n16010    -122.46     37.74                52.0       2180.0           326.0   \n9977     -122.48     38.54                37.0       1898.0           359.0   \n...          ...       ...                 ...          ...             ...   \n14666    -117.13     32.80                35.0       2129.0           382.0   \n13406    -117.46     34.09                 8.0       4711.0           963.0   \n20472    -118.76     34.26                26.0       1750.0           284.0   \n1704     -122.30     37.97                35.0       1811.0           377.0   \n8262     -118.17     33.77                45.0       2151.0           643.0   \n\n       population  households  median_income ocean_proximity income_cat  \n12118      1947.0       568.0         6.3223          INLAND          5  \n16703      1257.0       380.0         4.6167       <1H OCEAN          4  \n7665       1453.0       158.0         4.1250       <1H OCEAN          3  \n16010       856.0       326.0         5.3961        NEAR BAY          4  \n9977        973.0       340.0         4.2096          INLAND          3  \n...           ...         ...            ...             ...        ...  \n14666      1044.0       350.0         3.9732      NEAR OCEAN          3  \n13406      3310.0       988.0         3.5488          INLAND          3  \n20472       962.0       278.0         4.5673       <1H OCEAN          4  \n1704        911.0       340.0         3.3750        NEAR BAY          3  \n8262       1047.0       579.0         3.1149      NEAR OCEAN          3  \n\n[13828 rows x 10 columns]",
      "text/html": "<div>\n<style scoped>\n    .dataframe tbody tr th:only-of-type {\n        vertical-align: middle;\n    }\n\n    .dataframe tbody tr th {\n        vertical-align: top;\n    }\n\n    .dataframe thead th {\n        text-align: right;\n    }\n</style>\n<table border=\"1\" class=\"dataframe\">\n  <thead>\n    <tr style=\"text-align: right;\">\n      <th></th>\n      <th>longitude</th>\n      <th>latitude</th>\n      <th>housing_median_age</th>\n      <th>total_rooms</th>\n      <th>total_bedrooms</th>\n      <th>population</th>\n      <th>households</th>\n      <th>median_income</th>\n      <th>ocean_proximity</th>\n      <th>income_cat</th>\n    </tr>\n  </thead>\n  <tbody>\n    <tr>\n      <th>12118</th>\n      <td>-117.14</td>\n      <td>33.94</td>\n      <td>5.0</td>\n      <td>4873.0</td>\n      <td>639.0</td>\n      <td>1947.0</td>\n      <td>568.0</td>\n      <td>6.3223</td>\n      <td>INLAND</td>\n      <td>5</td>\n    </tr>\n    <tr>\n      <th>16703</th>\n      <td>-120.61</td>\n      <td>35.06</td>\n      <td>13.0</td>\n      <td>2364.0</td>\n      <td>421.0</td>\n      <td>1257.0</td>\n      <td>380.0</td>\n      <td>4.6167</td>\n      <td>&lt;1H OCEAN</td>\n      <td>4</td>\n    </tr>\n    <tr>\n      <th>7665</th>\n      <td>-118.07</td>\n      <td>33.93</td>\n      <td>5.0</td>\n      <td>906.0</td>\n      <td>187.0</td>\n      <td>1453.0</td>\n      <td>158.0</td>\n      <td>4.1250</td>\n      <td>&lt;1H OCEAN</td>\n      <td>3</td>\n    </tr>\n    <tr>\n      <th>16010</th>\n      <td>-122.46</td>\n      <td>37.74</td>\n      <td>52.0</td>\n      <td>2180.0</td>\n      <td>326.0</td>\n      <td>856.0</td>\n      <td>326.0</td>\n      <td>5.3961</td>\n      <td>NEAR BAY</td>\n      <td>4</td>\n    </tr>\n    <tr>\n      <th>9977</th>\n      <td>-122.48</td>\n      <td>38.54</td>\n      <td>37.0</td>\n      <td>1898.0</td>\n      <td>359.0</td>\n      <td>973.0</td>\n      <td>340.0</td>\n      <td>4.2096</td>\n      <td>INLAND</td>\n      <td>3</td>\n    </tr>\n    <tr>\n      <th>...</th>\n      <td>...</td>\n      <td>...</td>\n      <td>...</td>\n      <td>...</td>\n      <td>...</td>\n      <td>...</td>\n      <td>...</td>\n      <td>...</td>\n      <td>...</td>\n      <td>...</td>\n    </tr>\n    <tr>\n      <th>14666</th>\n      <td>-117.13</td>\n      <td>32.80</td>\n      <td>35.0</td>\n      <td>2129.0</td>\n      <td>382.0</td>\n      <td>1044.0</td>\n      <td>350.0</td>\n      <td>3.9732</td>\n      <td>NEAR OCEAN</td>\n      <td>3</td>\n    </tr>\n    <tr>\n      <th>13406</th>\n      <td>-117.46</td>\n      <td>34.09</td>\n      <td>8.0</td>\n      <td>4711.0</td>\n      <td>963.0</td>\n      <td>3310.0</td>\n      <td>988.0</td>\n      <td>3.5488</td>\n      <td>INLAND</td>\n      <td>3</td>\n    </tr>\n    <tr>\n      <th>20472</th>\n      <td>-118.76</td>\n      <td>34.26</td>\n      <td>26.0</td>\n      <td>1750.0</td>\n      <td>284.0</td>\n      <td>962.0</td>\n      <td>278.0</td>\n      <td>4.5673</td>\n      <td>&lt;1H OCEAN</td>\n      <td>4</td>\n    </tr>\n    <tr>\n      <th>1704</th>\n      <td>-122.30</td>\n      <td>37.97</td>\n      <td>35.0</td>\n      <td>1811.0</td>\n      <td>377.0</td>\n      <td>911.0</td>\n      <td>340.0</td>\n      <td>3.3750</td>\n      <td>NEAR BAY</td>\n      <td>3</td>\n    </tr>\n    <tr>\n      <th>8262</th>\n      <td>-118.17</td>\n      <td>33.77</td>\n      <td>45.0</td>\n      <td>2151.0</td>\n      <td>643.0</td>\n      <td>1047.0</td>\n      <td>579.0</td>\n      <td>3.1149</td>\n      <td>NEAR OCEAN</td>\n      <td>3</td>\n    </tr>\n  </tbody>\n</table>\n<p>13828 rows × 10 columns</p>\n</div>"
     },
     "metadata": {}
    }
   ],
   "execution_count": 11
  },
  {
   "cell_type": "code",
   "source": "housing_data[\"income_cat\"].hist()",
   "metadata": {
    "cell_id": "e469f4121b124c989f5b3af8e2cffd85",
    "tags": [],
    "deepnote_to_be_reexecuted": false,
    "source_hash": "c708b8f5",
    "execution_start": 1649071735451,
    "execution_millis": 527,
    "deepnote_cell_type": "code",
    "deepnote_cell_height": 399.1875,
    "deepnote_output_heights": [
     21.1875,
     250
    ]
   },
   "outputs": [
    {
     "output_type": "execute_result",
     "execution_count": 12,
     "data": {
      "text/plain": "<AxesSubplot:>"
     },
     "metadata": {}
    },
    {
     "data": {
      "text/plain": "<Figure size 432x288 with 1 Axes>",
      "image/png": "[encoded data removed]"
     },
     "metadata": {
      "needs_background": "light",
      "image/png": {
       "width": 381,
       "height": 248
      }
     },
     "output_type": "display_data"
    }
   ],
   "execution_count": 12
  },
  {
   "cell_type": "code",
   "source": "X_train[\"income_cat\"].hist()",
   "metadata": {
    "cell_id": "246b721675ec4a0a835554a122d91ddf",
    "tags": [],
    "deepnote_to_be_reexecuted": false,
    "source_hash": "39e324b4",
    "execution_start": 1649071735968,
    "execution_millis": 587,
    "deepnote_cell_type": "code",
    "deepnote_cell_height": 400.1875,
    "deepnote_output_heights": [
     21.1875,
     251
    ]
   },
   "outputs": [
    {
     "output_type": "execute_result",
     "execution_count": 13,
     "data": {
      "text/plain": "<AxesSubplot:>"
     },
     "metadata": {}
    },
    {
     "data": {
      "text/plain": "<Figure size 432x288 with 1 Axes>",
      "image/png": "[encoded data removed]"
     },
     "metadata": {
      "needs_background": "light",
      "image/png": {
       "width": 381,
       "height": 249
      }
     },
     "output_type": "display_data"
    }
   ],
   "execution_count": 13
  },
  {
   "cell_type": "markdown",
   "source": "# Stratified&nbsp;Split",
   "metadata": {
    "cell_id": "809f0bd5741542ddbe7f61d0939ce81d",
    "tags": [],
    "is_collapsed": false,
    "deepnote_cell_type": "text-cell-h1"
   }
  },
  {
   "cell_type": "code",
   "source": "from sklearn.model_selection import StratifiedShuffleSplit\n\nsplit = StratifiedShuffleSplit(n_splits=1, test_size=0.2, random_state=42)\nfor train_index, test_index in split.split(housing_data, housing_data['income_cat']):\n    strat_train_set = housing_data.loc[train_index]\n    strat_test_set = housing_data.loc[test_index] ",
   "metadata": {
    "cell_id": "37e902431982464a912e37d3f1776651",
    "tags": [],
    "deepnote_to_be_reexecuted": false,
    "source_hash": "c7f02eaf",
    "execution_start": 1649071736448,
    "execution_millis": 23,
    "deepnote_cell_type": "code",
    "deepnote_cell_height": 171
   },
   "outputs": [],
   "execution_count": 14
  },
  {
   "cell_type": "code",
   "source": "strat_test_set[\"income_cat\"].value_counts()/len(strat_test_set)",
   "metadata": {
    "cell_id": "6d3a2c910a8d4bc9863d1cc33c479c09",
    "tags": [],
    "deepnote_to_be_reexecuted": false,
    "source_hash": "c6c0c616",
    "execution_start": 1649071736475,
    "execution_millis": 81,
    "deepnote_cell_type": "code",
    "deepnote_cell_height": 214.1875,
    "deepnote_output_heights": [
     117.1875
    ]
   },
   "outputs": [
    {
     "output_type": "execute_result",
     "execution_count": 15,
     "data": {
      "text/plain": "3    0.350533\n2    0.318798\n4    0.176357\n5    0.114341\n1    0.039971\nName: income_cat, dtype: float64"
     },
     "metadata": {}
    }
   ],
   "execution_count": 15
  },
  {
   "cell_type": "code",
   "source": "housing_data[\"income_cat\"].value_counts()/len(housing_data)",
   "metadata": {
    "cell_id": "5e041fa3af894681a04a0c5f5aac814f",
    "tags": [],
    "deepnote_to_be_reexecuted": false,
    "source_hash": "f683fec5",
    "execution_start": 1649071736528,
    "execution_millis": 73,
    "deepnote_cell_type": "code",
    "deepnote_cell_height": 214.1875,
    "deepnote_output_heights": [
     117.1875
    ]
   },
   "outputs": [
    {
     "output_type": "execute_result",
     "execution_count": 16,
     "data": {
      "text/plain": "3    0.350581\n2    0.318847\n4    0.176308\n5    0.114438\n1    0.039826\nName: income_cat, dtype: float64"
     },
     "metadata": {}
    }
   ],
   "execution_count": 16
  },
  {
   "cell_type": "code",
   "source": "def income_cat_porpotions(data):\n    return data[\"income_cat\"].value_counts() / len(data)\ntrain_set, test_set = train_test_split(housing_data,test_size=0.2, random_state=42)\n\ncompare_props = pd.DataFrame({\n    \"Overall\": income_cat_porpotions(housing_data),\n    \"Stratified\": income_cat_porpotions(strat_test_set),\n    \"Random\": income_cat_porpotions(test_set),\n}).sort_index()\ncompare_props[\"Rand. %error\"] = 100 * compare_props[\"Random\"] / compare_props[\"Overall\"] -100\ncompare_props[\"Strat. %error\"] = 100 * compare_props[\"Stratified\"] / compare_props[\"Overall\"] -100\n\ncompare_props",
   "metadata": {
    "cell_id": "e425939af820456d9b68fee67e2336b2",
    "tags": [],
    "deepnote_to_be_reexecuted": false,
    "source_hash": "baef2193",
    "execution_start": 1649071736578,
    "execution_millis": 132,
    "deepnote_cell_type": "code",
    "deepnote_cell_height": 625.65625
   },
   "outputs": [
    {
     "output_type": "execute_result",
     "execution_count": 17,
     "data": {
      "application/vnd.deepnote.dataframe.v3+json": {
       "column_count": 5,
       "row_count": 5,
       "columns": [
        {
         "name": "Overall",
         "dtype": "float64",
         "stats": {
          "unique_count": 5,
          "nan_count": 0,
          "min": "0.039825581395348836",
          "max": "0.3505813953488372",
          "histogram": [
           {
            "bin_start": 0.039825581395348836,
            "bin_end": 0.07090116279069768,
            "count": 1
           },
           {
            "bin_start": 0.07090116279069768,
            "bin_end": 0.10197674418604652,
            "count": 0
           },
           {
            "bin_start": 0.10197674418604652,
            "bin_end": 0.13305232558139535,
            "count": 1
           },
           {
            "bin_start": 0.13305232558139535,
            "bin_end": 0.16412790697674418,
            "count": 0
           },
           {
            "bin_start": 0.16412790697674418,
            "bin_end": 0.19520348837209303,
            "count": 1
           },
           {
            "bin_start": 0.19520348837209303,
            "bin_end": 0.22627906976744186,
            "count": 0
           },
           {
            "bin_start": 0.22627906976744186,
            "bin_end": 0.2573546511627907,
            "count": 0
           },
           {
            "bin_start": 0.2573546511627907,
            "bin_end": 0.28843023255813954,
            "count": 0
           },
           {
            "bin_start": 0.28843023255813954,
            "bin_end": 0.3195058139534884,
            "count": 1
           },
           {
            "bin_start": 0.3195058139534884,
            "bin_end": 0.3505813953488372,
            "count": 1
           }
          ]
         }
        },
        {
         "name": "Stratified",
         "dtype": "float64",
         "stats": {
          "unique_count": 5,
          "nan_count": 0,
          "min": "0.03997093023255814",
          "max": "0.3505329457364341",
          "histogram": [
           {
            "bin_start": 0.03997093023255814,
            "bin_end": 0.07102713178294573,
            "count": 1
           },
           {
            "bin_start": 0.07102713178294573,
            "bin_end": 0.10208333333333333,
            "count": 0
           },
           {
            "bin_start": 0.10208333333333333,
            "bin_end": 0.13313953488372093,
            "count": 1
           },
           {
            "bin_start": 0.13313953488372093,
            "bin_end": 0.1641957364341085,
            "count": 0
           },
           {
            "bin_start": 0.1641957364341085,
            "bin_end": 0.19525193798449614,
            "count": 1
           },
           {
            "bin_start": 0.19525193798449614,
            "bin_end": 0.2263081395348837,
            "count": 0
           },
           {
            "bin_start": 0.2263081395348837,
            "bin_end": 0.2573643410852713,
            "count": 0
           },
           {
            "bin_start": 0.2573643410852713,
            "bin_end": 0.2884205426356589,
            "count": 0
           },
           {
            "bin_start": 0.2884205426356589,
            "bin_end": 0.3194767441860465,
            "count": 1
           },
           {
            "bin_start": 0.3194767441860465,
            "bin_end": 0.3505329457364341,
            "count": 1
           }
          ]
         }
        },
        {
         "name": "Random",
         "dtype": "float64",
         "stats": {
          "unique_count": 5,
          "nan_count": 0,
          "min": "0.040213178294573645",
          "max": "0.35852713178294576",
          "histogram": [
           {
            "bin_start": 0.040213178294573645,
            "bin_end": 0.07204457364341085,
            "count": 1
           },
           {
            "bin_start": 0.07204457364341085,
            "bin_end": 0.10387596899224806,
            "count": 0
           },
           {
            "bin_start": 0.10387596899224806,
            "bin_end": 0.13570736434108527,
            "count": 1
           },
           {
            "bin_start": 0.13570736434108527,
            "bin_end": 0.1675387596899225,
            "count": 1
           },
           {
            "bin_start": 0.1675387596899225,
            "bin_end": 0.1993701550387597,
            "count": 0
           },
           {
            "bin_start": 0.1993701550387597,
            "bin_end": 0.23120155038759688,
            "count": 0
           },
           {
            "bin_start": 0.23120155038759688,
            "bin_end": 0.2630329457364341,
            "count": 0
           },
           {
            "bin_start": 0.2630329457364341,
            "bin_end": 0.2948643410852713,
            "count": 0
           },
           {
            "bin_start": 0.2948643410852713,
            "bin_end": 0.32669573643410854,
            "count": 1
           },
           {
            "bin_start": 0.32669573643410854,
            "bin_end": 0.35852713178294576,
            "count": 1
           }
          ]
         }
        },
        {
         "name": "Rand. %error",
         "dtype": "float64",
         "stats": {
          "unique_count": 5,
          "nan_count": 0,
          "min": "-5.056334157735648",
          "max": "2.2664455500276546",
          "histogram": [
           {
            "bin_start": -5.056334157735648,
            "bin_end": -4.324056186959318,
            "count": 1
           },
           {
            "bin_start": -4.324056186959318,
            "bin_end": -3.5917782161829876,
            "count": 1
           },
           {
            "bin_start": -3.5917782161829876,
            "bin_end": -2.8595002454066574,
            "count": 0
           },
           {
            "bin_start": -2.8595002454066574,
            "bin_end": -2.127222274630327,
            "count": 0
           },
           {
            "bin_start": -2.127222274630327,
            "bin_end": -1.3949443038539968,
            "count": 0
           },
           {
            "bin_start": -1.3949443038539968,
            "bin_end": -0.6626663330776665,
            "count": 0
           },
           {
            "bin_start": -0.6626663330776665,
            "bin_end": 0.06961163769866374,
            "count": 0
           },
           {
            "bin_start": 0.06961163769866374,
            "bin_end": 0.801889608474994,
            "count": 0
           },
           {
            "bin_start": 0.801889608474994,
            "bin_end": 1.5341675792513243,
            "count": 1
           },
           {
            "bin_start": 1.5341675792513243,
            "bin_end": 2.2664455500276546,
            "count": 2
           }
          ]
         }
        },
        {
         "name": "Strat. %error",
         "dtype": "float64",
         "stats": {
          "unique_count": 5,
          "nan_count": 0,
          "min": "-0.08467400508045841",
          "max": "0.3649635036496477",
          "histogram": [
           {
            "bin_start": -0.08467400508045841,
            "bin_end": -0.0397102542074478,
            "count": 1
           },
           {
            "bin_start": -0.0397102542074478,
            "bin_end": 0.00525349666556281,
            "count": 2
           },
           {
            "bin_start": 0.00525349666556281,
            "bin_end": 0.05021724753857343,
            "count": 1
           },
           {
            "bin_start": 0.05021724753857343,
            "bin_end": 0.09518099841158403,
            "count": 0
           },
           {
            "bin_start": 0.09518099841158403,
            "bin_end": 0.14014474928459464,
            "count": 0
           },
           {
            "bin_start": 0.14014474928459464,
            "bin_end": 0.18510850015760527,
            "count": 0
           },
           {
            "bin_start": 0.18510850015760527,
            "bin_end": 0.23007225103061585,
            "count": 0
           },
           {
            "bin_start": 0.23007225103061585,
            "bin_end": 0.2750360019036265,
            "count": 0
           },
           {
            "bin_start": 0.2750360019036265,
            "bin_end": 0.3199997527766371,
            "count": 0
           },
           {
            "bin_start": 0.3199997527766371,
            "bin_end": 0.3649635036496477,
            "count": 1
           }
          ]
         }
        },
        {
         "name": "_deepnote_index_column",
         "dtype": "category"
        }
       ],
       "rows": [
        {
         "Overall": 0.039825581395348836,
         "Stratified": 0.03997093023255814,
         "Random": 0.040213178294573645,
         "Rand. %error": 0.9732360097323749,
         "Strat. %error": 0.3649635036496477,
         "_deepnote_index_column": 1
        },
        {
         "Overall": 0.3188468992248062,
         "Stratified": 0.3187984496124031,
         "Random": 0.3243701550387597,
         "Rand. %error": 1.7322595350250793,
         "Strat. %error": -0.015195259079149537,
         "_deepnote_index_column": 2
        },
        {
         "Overall": 0.3505813953488372,
         "Stratified": 0.3505329457364341,
         "Random": 0.35852713178294576,
         "Rand. %error": 2.2664455500276546,
         "Strat. %error": -0.013819789939176985,
         "_deepnote_index_column": 3
        },
        {
         "Overall": 0.17630813953488372,
         "Stratified": 0.17635658914728683,
         "Random": 0.16739341085271317,
         "Rand. %error": -5.056334157735648,
         "Strat. %error": 0.02748007694421517,
         "_deepnote_index_column": 4
        },
        {
         "Overall": 0.11443798449612404,
         "Stratified": 0.11434108527131782,
         "Random": 0.10949612403100775,
         "Rand. %error": -4.318374259102455,
         "Strat. %error": -0.08467400508045841,
         "_deepnote_index_column": 5
        }
       ]
      },
      "text/plain": "    Overall  Stratified    Random  Rand. %error  Strat. %error\n1  0.039826    0.039971  0.040213      0.973236       0.364964\n2  0.318847    0.318798  0.324370      1.732260      -0.015195\n3  0.350581    0.350533  0.358527      2.266446      -0.013820\n4  0.176308    0.176357  0.167393     -5.056334       0.027480\n5  0.114438    0.114341  0.109496     -4.318374      -0.084674",
      "text/html": "<div>\n<style scoped>\n    .dataframe tbody tr th:only-of-type {\n        vertical-align: middle;\n    }\n\n    .dataframe tbody tr th {\n        vertical-align: top;\n    }\n\n    .dataframe thead th {\n        text-align: right;\n    }\n</style>\n<table border=\"1\" class=\"dataframe\">\n  <thead>\n    <tr style=\"text-align: right;\">\n      <th></th>\n      <th>Overall</th>\n      <th>Stratified</th>\n      <th>Random</th>\n      <th>Rand. %error</th>\n      <th>Strat. %error</th>\n    </tr>\n  </thead>\n  <tbody>\n    <tr>\n      <th>1</th>\n      <td>0.039826</td>\n      <td>0.039971</td>\n      <td>0.040213</td>\n      <td>0.973236</td>\n      <td>0.364964</td>\n    </tr>\n    <tr>\n      <th>2</th>\n      <td>0.318847</td>\n      <td>0.318798</td>\n      <td>0.324370</td>\n      <td>1.732260</td>\n      <td>-0.015195</td>\n    </tr>\n    <tr>\n      <th>3</th>\n      <td>0.350581</td>\n      <td>0.350533</td>\n      <td>0.358527</td>\n      <td>2.266446</td>\n      <td>-0.013820</td>\n    </tr>\n    <tr>\n      <th>4</th>\n      <td>0.176308</td>\n      <td>0.176357</td>\n      <td>0.167393</td>\n      <td>-5.056334</td>\n      <td>0.027480</td>\n    </tr>\n    <tr>\n      <th>5</th>\n      <td>0.114438</td>\n      <td>0.114341</td>\n      <td>0.109496</td>\n      <td>-4.318374</td>\n      <td>-0.084674</td>\n    </tr>\n  </tbody>\n</table>\n</div>"
     },
     "metadata": {}
    }
   ],
   "execution_count": 17
  },
  {
   "cell_type": "code",
   "source": "strat_train_set.drop(\"income_cat\", axis=\"columns\", inplace=True)\nstrat_test_set.drop(\"income_cat\", axis=\"columns\", inplace=True)",
   "metadata": {
    "cell_id": "f1162917cc194d839cb005af3806efb6",
    "tags": [],
    "deepnote_to_be_reexecuted": false,
    "source_hash": "1d39b479",
    "execution_start": 1649071736696,
    "execution_millis": 27,
    "deepnote_cell_type": "code",
    "deepnote_cell_height": 99
   },
   "outputs": [],
   "execution_count": 18
  },
  {
   "cell_type": "markdown",
   "source": "# Visualizing our Data",
   "metadata": {
    "cell_id": "6d3be6aea7ed42ef9a56472a1d95a8c6",
    "tags": [],
    "is_collapsed": false,
    "deepnote_cell_type": "text-cell-h1"
   }
  },
  {
   "cell_type": "code",
   "source": "housing = strat_train_set.copy()",
   "metadata": {
    "cell_id": "afce1a21fc794ae18e42b3254a937867",
    "tags": [],
    "deepnote_to_be_reexecuted": false,
    "source_hash": "b1877e9b",
    "execution_start": 1649071736724,
    "execution_millis": 45,
    "deepnote_cell_type": "code",
    "deepnote_cell_height": 81
   },
   "outputs": [],
   "execution_count": 19
  },
  {
   "cell_type": "code",
   "source": "# You don't have to write down this code, it is purely here to illustrate the importance of data visualization\n\n# Code from: https://matplotlib.org/stable/gallery/specialty_plots/anscombe.html\n\nx = [10, 8, 13, 9, 11, 14, 6, 4, 12, 7, 5]\ny1 = [8.04, 6.95, 7.58, 8.81, 8.33, 9.96, 7.24, 4.26, 10.84, 4.82, 5.68]\ny2 = [9.14, 8.14, 8.74, 8.77, 9.26, 8.10, 6.13, 3.10, 9.13, 7.26, 4.74]\ny3 = [7.46, 6.77, 12.74, 7.11, 7.81, 8.84, 6.08, 5.39, 8.15, 6.42, 5.73]\nx4 = [8, 8, 8, 8, 8, 8, 8, 19, 8, 8, 8]\ny4 = [6.58, 5.76, 7.71, 8.84, 8.47, 7.04, 5.25, 12.50, 5.56, 7.91, 6.89]\n\ndatasets = {\n    'I': (x, y1),\n    'II': (x, y2),\n    'III': (x, y3),\n    'IV': (x4, y4)\n}\n\nfig, axs = plt.subplots(2, 2, sharex=True, sharey=True, figsize=(6, 6),\n                        gridspec_kw={'wspace': 0.08, 'hspace': 0.08})\naxs[0, 0].set(xlim=(0, 20), ylim=(2, 14))\naxs[0, 0].set(xticks=(0, 10, 20), yticks=(4, 8, 12))\n\nfor ax, (label, (x, y)) in zip(axs.flat, datasets.items()):\n    ax.text(0.1, 0.9, label, fontsize=20, transform=ax.transAxes, va='top')\n    ax.tick_params(direction='in', top=True, right=True)\n    ax.plot(x, y, 'o')\n\n    # linear regression\n    p1, p0 = np.polyfit(x, y, deg=1)  # slope, intercept\n    ax.axline(xy1=(0, p0), slope=p1, color='r', lw=2)\n\n    # add text box for the statistics\n    stats = (f'$\\\\mu$ = {np.mean(y):.2f}\\n'\n             f'$\\\\sigma$ = {np.std(y):.2f}\\n'\n             f'$r$ = {np.corrcoef(x, y)[0][1]:.2f}')\n    bbox = dict(boxstyle='round', fc='blanchedalmond', ec='orange', alpha=0.5)\n    ax.text(0.95, 0.07, stats, fontsize=9, bbox=bbox,\n            transform=ax.transAxes, horizontalalignment='right')",
   "metadata": {
    "cell_id": "fa30f6ebfea94bc4b0ea6a3282d38e45",
    "tags": [],
    "deepnote_to_be_reexecuted": false,
    "source_hash": "4c113417",
    "execution_start": 1649071736769,
    "execution_millis": 1082,
    "deepnote_cell_type": "code",
    "deepnote_cell_height": 1137,
    "deepnote_output_heights": [
     356,
     359
    ]
   },
   "outputs": [
    {
     "data": {
      "text/plain": "<Figure size 432x432 with 4 Axes>",
      "image/png": "[encoded data removed]"
     },
     "metadata": {
      "needs_background": "light",
      "image/png": {
       "width": 371,
       "height": 354
      }
     },
     "output_type": "display_data"
    }
   ],
   "execution_count": 20
  },
  {
   "cell_type": "markdown",
   "source": "# Histograms",
   "metadata": {
    "cell_id": "d7c6fc3d29a44c92bcd87ff5805d47bb",
    "tags": [],
    "is_collapsed": false,
    "deepnote_cell_type": "text-cell-h1"
   }
  },
  {
   "cell_type": "code",
   "source": "housing.hist(bins=50, figsize=(20,15))",
   "metadata": {
    "cell_id": "1200c868b7a64c298de29030e5691feb",
    "tags": [],
    "deepnote_to_be_reexecuted": false,
    "source_hash": "8e68497",
    "execution_start": 1649071737857,
    "execution_millis": 4914,
    "deepnote_cell_type": "code",
    "deepnote_cell_height": 745.96875,
    "deepnote_output_heights": [
     193.96875,
     424
    ]
   },
   "outputs": [
    {
     "output_type": "execute_result",
     "execution_count": 21,
     "data": {
      "text/plain": "array([[<AxesSubplot:title={'center':'longitude'}>,\n        <AxesSubplot:title={'center':'latitude'}>,\n        <AxesSubplot:title={'center':'housing_median_age'}>],\n       [<AxesSubplot:title={'center':'total_rooms'}>,\n        <AxesSubplot:title={'center':'total_bedrooms'}>,\n        <AxesSubplot:title={'center':'population'}>],\n       [<AxesSubplot:title={'center':'households'}>,\n        <AxesSubplot:title={'center':'median_income'}>,\n        <AxesSubplot:title={'center':'median_house_value'}>]],\n      dtype=object)"
     },
     "metadata": {}
    },
    {
     "data": {
      "text/plain": "<Figure size 1440x1080 with 9 Axes>",
      "image/png": "[encoded data removed]"
     },
     "metadata": {
      "needs_background": "light",
      "image/png": {
       "width": 1167,
       "height": 862
      }
     },
     "output_type": "display_data"
    }
   ],
   "execution_count": 21
  },
  {
   "cell_type": "code",
   "source": "housing[\"median_income\"].hist(bins=50)",
   "metadata": {
    "cell_id": "58e46d33cb8e49489f8313b423627dd8",
    "tags": [],
    "deepnote_to_be_reexecuted": false,
    "source_hash": "adf3c33a",
    "execution_start": 1649071742773,
    "execution_millis": 605,
    "deepnote_cell_type": "code",
    "deepnote_cell_height": 399,
    "deepnote_output_heights": [
     21.1875,
     250
    ]
   },
   "outputs": [
    {
     "output_type": "execute_result",
     "execution_count": 22,
     "data": {
      "text/plain": "<AxesSubplot:>"
     },
     "metadata": {}
    },
    {
     "data": {
      "text/plain": "<Figure size 432x288 with 1 Axes>",
      "image/png": "[encoded data removed]"
     },
     "metadata": {
      "needs_background": "light",
      "image/png": {
       "width": 381,
       "height": 248
      }
     },
     "output_type": "display_data"
    }
   ],
   "execution_count": 22
  },
  {
   "cell_type": "markdown",
   "source": "# Geographic Data",
   "metadata": {
    "cell_id": "d9d74fda52be4c2194842c2ec29c1f62",
    "tags": [],
    "is_collapsed": false,
    "deepnote_cell_type": "text-cell-h1"
   }
  },
  {
   "cell_type": "code",
   "source": "housing.plot(kind=\"scatter\", x=\"longitude\", y=\"latitude\", alpha=0.4,\n            s=housing[\"population\"]/100, label=\"population\", figsize=(10,7),\n            c=\"median_house_value\", cmap=plt.get_cmap(\"jet\"), colorbar=True, sharex=False)",
   "metadata": {
    "cell_id": "dbbb0adaacff46759d0af130783397d0",
    "tags": [],
    "deepnote_to_be_reexecuted": false,
    "source_hash": "1d765890",
    "execution_start": 1649071743386,
    "execution_millis": 1730,
    "deepnote_cell_type": "code",
    "deepnote_cell_height": 595,
    "deepnote_output_heights": [
     21.1875,
     410
    ]
   },
   "outputs": [
    {
     "output_type": "execute_result",
     "execution_count": 23,
     "data": {
      "text/plain": "<AxesSubplot:xlabel='longitude', ylabel='latitude'>"
     },
     "metadata": {}
    },
    {
     "data": {
      "text/plain": "<Figure size 720x504 with 2 Axes>",
      "image/png": "[encoded data removed]"
     },
     "metadata": {
      "needs_background": "light",
      "image/png": {
       "width": 600,
       "height": 429
      }
     },
     "output_type": "display_data"
    }
   ],
   "execution_count": 23
  },
  {
   "cell_type": "markdown",
   "source": "# Correlation Matrices",
   "metadata": {
    "cell_id": "2aa3486cf8a14b5da669e15077a4acd6",
    "tags": [],
    "is_collapsed": false,
    "deepnote_cell_type": "text-cell-h1"
   }
  },
  {
   "cell_type": "code",
   "source": "housing.corr()",
   "metadata": {
    "cell_id": "4182755bdd814aa4b36f6be4358b7e50",
    "tags": [],
    "deepnote_to_be_reexecuted": false,
    "source_hash": "162dcf43",
    "execution_start": 1649071745138,
    "execution_millis": 79,
    "deepnote_cell_type": "code",
    "deepnote_cell_height": 573.65625
   },
   "outputs": [
    {
     "output_type": "execute_result",
     "execution_count": 24,
     "data": {
      "application/vnd.deepnote.dataframe.v3+json": {
       "column_count": 9,
       "row_count": 9,
       "columns": [
        {
         "name": "longitude",
         "dtype": "float64",
         "stats": {
          "unique_count": 9,
          "nan_count": 0,
          "min": "-0.9244784106368543",
          "max": "1.0",
          "histogram": [
           {
            "bin_start": -0.9244784106368543,
            "bin_end": -0.7320305695731688,
            "count": 1
           },
           {
            "bin_start": -0.7320305695731688,
            "bin_end": -0.5395827285094834,
            "count": 0
           },
           {
            "bin_start": -0.5395827285094834,
            "bin_end": -0.3471348874457979,
            "count": 0
           },
           {
            "bin_start": -0.3471348874457979,
            "bin_end": -0.1546870463821125,
            "count": 0
           },
           {
            "bin_start": -0.1546870463821125,
            "bin_end": 0.037760794681572896,
            "count": 3
           },
           {
            "bin_start": 0.037760794681572896,
            "bin_end": 0.23020863574525852,
            "count": 4
           },
           {
            "bin_start": 0.23020863574525852,
            "bin_end": 0.4226564768089439,
            "count": 0
           },
           {
            "bin_start": 0.4226564768089439,
            "bin_end": 0.6151043178726293,
            "count": 0
           },
           {
            "bin_start": 0.6151043178726293,
            "bin_end": 0.8075521589363147,
            "count": 0
           },
           {
            "bin_start": 0.8075521589363147,
            "bin_end": 1,
            "count": 1
           }
          ]
         }
        },
        {
         "name": "latitude",
         "dtype": "float64",
         "stats": {
          "unique_count": 9,
          "nan_count": 0,
          "min": "-0.9244784106368543",
          "max": "1.0",
          "histogram": [
           {
            "bin_start": -0.9244784106368543,
            "bin_end": -0.7320305695731688,
            "count": 1
           },
           {
            "bin_start": -0.7320305695731688,
            "bin_end": -0.5395827285094834,
            "count": 0
           },
           {
            "bin_start": -0.5395827285094834,
            "bin_end": -0.3471348874457979,
            "count": 0
           },
           {
            "bin_start": -0.3471348874457979,
            "bin_end": -0.1546870463821125,
            "count": 0
           },
           {
            "bin_start": -0.1546870463821125,
            "bin_end": 0.037760794681572896,
            "count": 7
           },
           {
            "bin_start": 0.037760794681572896,
            "bin_end": 0.23020863574525852,
            "count": 0
           },
           {
            "bin_start": 0.23020863574525852,
            "bin_end": 0.4226564768089439,
            "count": 0
           },
           {
            "bin_start": 0.4226564768089439,
            "bin_end": 0.6151043178726293,
            "count": 0
           },
           {
            "bin_start": 0.6151043178726293,
            "bin_end": 0.8075521589363147,
            "count": 0
           },
           {
            "bin_start": 0.8075521589363147,
            "bin_end": 1,
            "count": 1
           }
          ]
         }
        },
        {
         "name": "housing_median_age",
         "dtype": "float64",
         "stats": {
          "unique_count": 9,
          "nan_count": 0,
          "min": "-0.36453468055387556",
          "max": "1.0",
          "histogram": [
           {
            "bin_start": -0.36453468055387556,
            "bin_end": -0.228081212498488,
            "count": 4
           },
           {
            "bin_start": -0.228081212498488,
            "bin_end": -0.09162774444310046,
            "count": 2
           },
           {
            "bin_start": -0.09162774444310046,
            "bin_end": 0.044825723612287094,
            "count": 1
           },
           {
            "bin_start": 0.044825723612287094,
            "bin_end": 0.18127919166767464,
            "count": 1
           },
           {
            "bin_start": 0.18127919166767464,
            "bin_end": 0.31773265972306214,
            "count": 0
           },
           {
            "bin_start": 0.31773265972306214,
            "bin_end": 0.45418612777844974,
            "count": 0
           },
           {
            "bin_start": 0.45418612777844974,
            "bin_end": 0.5906395958338373,
            "count": 0
           },
           {
            "bin_start": 0.5906395958338373,
            "bin_end": 0.7270930638892248,
            "count": 0
           },
           {
            "bin_start": 0.7270930638892248,
            "bin_end": 0.8635465319446123,
            "count": 0
           },
           {
            "bin_start": 0.8635465319446123,
            "bin_end": 1,
            "count": 1
           }
          ]
         }
        },
        {
         "name": "total_rooms",
         "dtype": "float64",
         "stats": {
          "unique_count": 9,
          "nan_count": 0,
          "min": "-0.36453468055387556",
          "max": "1.0",
          "histogram": [
           {
            "bin_start": -0.36453468055387556,
            "bin_end": -0.228081212498488,
            "count": 1
           },
           {
            "bin_start": -0.228081212498488,
            "bin_end": -0.09162774444310046,
            "count": 0
           },
           {
            "bin_start": -0.09162774444310046,
            "bin_end": 0.044825723612287094,
            "count": 1
           },
           {
            "bin_start": 0.044825723612287094,
            "bin_end": 0.18127919166767464,
            "count": 2
           },
           {
            "bin_start": 0.18127919166767464,
            "bin_end": 0.31773265972306214,
            "count": 1
           },
           {
            "bin_start": 0.31773265972306214,
            "bin_end": 0.45418612777844974,
            "count": 0
           },
           {
            "bin_start": 0.45418612777844974,
            "bin_end": 0.5906395958338373,
            "count": 0
           },
           {
            "bin_start": 0.5906395958338373,
            "bin_end": 0.7270930638892248,
            "count": 0
           },
           {
            "bin_start": 0.7270930638892248,
            "bin_end": 0.8635465319446123,
            "count": 1
           },
           {
            "bin_start": 0.8635465319446123,
            "bin_end": 1,
            "count": 3
           }
          ]
         }
        },
        {
         "name": "total_bedrooms",
         "dtype": "float64",
         "stats": {
          "unique_count": 9,
          "nan_count": 0,
          "min": "-0.32510095956700347",
          "max": "1.0",
          "histogram": [
           {
            "bin_start": -0.32510095956700347,
            "bin_end": -0.19259086361030311,
            "count": 1
           },
           {
            "bin_start": -0.19259086361030311,
            "bin_end": -0.06008076765360276,
            "count": 1
           },
           {
            "bin_start": -0.06008076765360276,
            "bin_end": 0.07242932830309756,
            "count": 2
           },
           {
            "bin_start": 0.07242932830309756,
            "bin_end": 0.20493942425979794,
            "count": 1
           },
           {
            "bin_start": 0.20493942425979794,
            "bin_end": 0.3374495202164983,
            "count": 0
           },
           {
            "bin_start": 0.3374495202164983,
            "bin_end": 0.4699596161731986,
            "count": 0
           },
           {
            "bin_start": 0.4699596161731986,
            "bin_end": 0.602469712129899,
            "count": 0
           },
           {
            "bin_start": 0.602469712129899,
            "bin_end": 0.7349798080865994,
            "count": 0
           },
           {
            "bin_start": 0.7349798080865994,
            "bin_end": 0.8674899040432996,
            "count": 0
           },
           {
            "bin_start": 0.8674899040432996,
            "bin_end": 1,
            "count": 4
           }
          ]
         }
        },
        {
         "name": "population",
         "dtype": "float64",
         "stats": {
          "unique_count": 9,
          "nan_count": 0,
          "min": "-0.29873740881082633",
          "max": "1.0",
          "histogram": [
           {
            "bin_start": -0.29873740881082633,
            "bin_end": -0.1688636679297437,
            "count": 1
           },
           {
            "bin_start": -0.1688636679297437,
            "bin_end": -0.038989927048661055,
            "count": 1
           },
           {
            "bin_start": -0.038989927048661055,
            "bin_end": 0.09088381383242161,
            "count": 2
           },
           {
            "bin_start": 0.09088381383242161,
            "bin_end": 0.22075755471350422,
            "count": 1
           },
           {
            "bin_start": 0.22075755471350422,
            "bin_end": 0.35063129559458683,
            "count": 0
           },
           {
            "bin_start": 0.35063129559458683,
            "bin_end": 0.48050503647566956,
            "count": 0
           },
           {
            "bin_start": 0.48050503647566956,
            "bin_end": 0.6103787773567522,
            "count": 0
           },
           {
            "bin_start": 0.6103787773567522,
            "bin_end": 0.7402525182378348,
            "count": 0
           },
           {
            "bin_start": 0.7402525182378348,
            "bin_end": 0.8701262591189174,
            "count": 1
           },
           {
            "bin_start": 0.8701262591189174,
            "bin_end": 1,
            "count": 3
           }
          ]
         }
        },
        {
         "name": "households",
         "dtype": "float64",
         "stats": {
          "unique_count": 9,
          "nan_count": 0,
          "min": "-0.30647336638581935",
          "max": "1.0",
          "histogram": [
           {
            "bin_start": -0.30647336638581935,
            "bin_end": -0.1758260297472374,
            "count": 1
           },
           {
            "bin_start": -0.1758260297472374,
            "bin_end": -0.045178693108655466,
            "count": 1
           },
           {
            "bin_start": -0.045178693108655466,
            "bin_end": 0.08546864352992645,
            "count": 3
           },
           {
            "bin_start": 0.08546864352992645,
            "bin_end": 0.21611598016850841,
            "count": 0
           },
           {
            "bin_start": 0.21611598016850841,
            "bin_end": 0.3467633168070904,
            "count": 0
           },
           {
            "bin_start": 0.3467633168070904,
            "bin_end": 0.47741065344567224,
            "count": 0
           },
           {
            "bin_start": 0.47741065344567224,
            "bin_end": 0.6080579900842542,
            "count": 0
           },
           {
            "bin_start": 0.6080579900842542,
            "bin_end": 0.7387053267228362,
            "count": 0
           },
           {
            "bin_start": 0.7387053267228362,
            "bin_end": 0.869352663361418,
            "count": 0
           },
           {
            "bin_start": 0.869352663361418,
            "bin_end": 1,
            "count": 4
           }
          ]
         }
        },
        {
         "name": "median_income",
         "dtype": "float64",
         "stats": {
          "unique_count": 9,
          "nan_count": 0,
          "min": "-0.11131463209114081",
          "max": "1.0",
          "histogram": [
           {
            "bin_start": -0.11131463209114081,
            "bin_end": -0.00018316888202672688,
            "count": 4
           },
           {
            "bin_start": -0.00018316888202672688,
            "bin_end": 0.11094829432708736,
            "count": 2
           },
           {
            "bin_start": 0.11094829432708736,
            "bin_end": 0.22207975753620143,
            "count": 1
           },
           {
            "bin_start": 0.22207975753620143,
            "bin_end": 0.3332112207453155,
            "count": 0
           },
           {
            "bin_start": 0.3332112207453155,
            "bin_end": 0.44434268395442966,
            "count": 0
           },
           {
            "bin_start": 0.44434268395442966,
            "bin_end": 0.5554741471635437,
            "count": 0
           },
           {
            "bin_start": 0.5554741471635437,
            "bin_end": 0.6666056103726579,
            "count": 0
           },
           {
            "bin_start": 0.6666056103726579,
            "bin_end": 0.7777370735817719,
            "count": 1
           },
           {
            "bin_start": 0.7777370735817719,
            "bin_end": 0.8888685367908861,
            "count": 0
           },
           {
            "bin_start": 0.8888685367908861,
            "bin_end": 1,
            "count": 1
           }
          ]
         }
        },
        {
         "name": "median_house_value",
         "dtype": "float64",
         "stats": {
          "unique_count": 9,
          "nan_count": 0,
          "min": "-0.14267273381760326",
          "max": "1.0",
          "histogram": [
           {
            "bin_start": -0.14267273381760326,
            "bin_end": -0.02840546043584294,
            "count": 2
           },
           {
            "bin_start": -0.02840546043584294,
            "bin_end": 0.08586181294591738,
            "count": 3
           },
           {
            "bin_start": 0.08586181294591738,
            "bin_end": 0.20012908632767767,
            "count": 2
           },
           {
            "bin_start": 0.20012908632767767,
            "bin_end": 0.314396359709438,
            "count": 0
           },
           {
            "bin_start": 0.314396359709438,
            "bin_end": 0.42866363309119837,
            "count": 0
           },
           {
            "bin_start": 0.42866363309119837,
            "bin_end": 0.5429309064729586,
            "count": 0
           },
           {
            "bin_start": 0.5429309064729586,
            "bin_end": 0.657198179854719,
            "count": 0
           },
           {
            "bin_start": 0.657198179854719,
            "bin_end": 0.7714654532364793,
            "count": 1
           },
           {
            "bin_start": 0.7714654532364793,
            "bin_end": 0.8857327266182395,
            "count": 0
           },
           {
            "bin_start": 0.8857327266182395,
            "bin_end": 1,
            "count": 1
           }
          ]
         }
        },
        {
         "name": "_deepnote_index_column",
         "dtype": "object"
        }
       ],
       "rows": [
        {
         "longitude": 1,
         "latitude": -0.9244784106368543,
         "housing_median_age": -0.10582252931187322,
         "total_rooms": 0.04890881674491839,
         "total_bedrooms": 0.07668565960341348,
         "population": 0.10807134741536562,
         "households": 0.06314613987847058,
         "median_income": -0.01961535530974201,
         "median_house_value": -0.04746586892332782,
         "_deepnote_index_column": "longitude"
        },
        {
         "longitude": -0.9244784106368543,
         "latitude": 1,
         "housing_median_age": 0.005737383504761118,
         "total_rooms": -0.039244953042034826,
         "total_bedrooms": -0.07254967197255485,
         "population": -0.11529048942309401,
         "households": -0.07776458852929122,
         "median_income": -0.07514569215882612,
         "median_house_value": -0.14267273381760326,
         "_deepnote_index_column": "latitude"
        },
        {
         "longitude": -0.10582252931187322,
         "latitude": 0.005737383504761118,
         "housing_median_age": 1,
         "total_rooms": -0.36453468055387556,
         "total_bedrooms": -0.32510095956700347,
         "population": -0.29873740881082633,
         "households": -0.30647336638581935,
         "median_income": -0.11131463209114081,
         "median_house_value": 0.11414595208124649,
         "_deepnote_index_column": "housing_median_age"
        },
        {
         "longitude": 0.04890881674491839,
         "latitude": -0.039244953042034826,
         "housing_median_age": -0.36453468055387556,
         "total_rooms": 1,
         "total_bedrooms": 0.9293908376102371,
         "population": 0.8551032098261867,
         "households": 0.9183964523512275,
         "median_income": 0.20013288250425368,
         "median_house_value": 0.13513957642648644,
         "_deepnote_index_column": "total_rooms"
        },
        {
         "longitude": 0.07668565960341348,
         "latitude": -0.07254967197255485,
         "housing_median_age": -0.32510095956700347,
         "total_rooms": 0.9293908376102371,
         "total_bedrooms": 1,
         "population": 0.8763241620130852,
         "households": 0.9801673686850522,
         "median_income": -0.009643162405338688,
         "median_house_value": 0.04778113589719114,
         "_deepnote_index_column": "total_bedrooms"
        },
        {
         "longitude": 0.10807134741536562,
         "latitude": -0.11529048942309401,
         "housing_median_age": -0.29873740881082633,
         "total_rooms": 0.8551032098261867,
         "total_bedrooms": 0.8763241620130852,
         "population": 1,
         "households": 0.9046391444859554,
         "median_income": 0.0024208098963615153,
         "median_house_value": -0.026882003551308122,
         "_deepnote_index_column": "population"
        },
        {
         "longitude": 0.06314613987847058,
         "latitude": -0.07776458852929122,
         "housing_median_age": -0.30647336638581935,
         "total_rooms": 0.9183964523512275,
         "total_bedrooms": 0.9801673686850522,
         "population": 0.9046391444859554,
         "households": 1,
         "median_income": 0.01086916059206619,
         "median_house_value": 0.0645901843467539,
         "_deepnote_index_column": "households"
        },
        {
         "longitude": -0.01961535530974201,
         "latitude": -0.07514569215882612,
         "housing_median_age": -0.11131463209114081,
         "total_rooms": 0.20013288250425368,
         "total_bedrooms": -0.009643162405338688,
         "population": 0.0024208098963615153,
         "households": 0.01086916059206619,
         "median_income": 1,
         "median_house_value": 0.6871505591484585,
         "_deepnote_index_column": "median_income"
        },
        {
         "longitude": -0.04746586892332782,
         "latitude": -0.14267273381760326,
         "housing_median_age": 0.11414595208124649,
         "total_rooms": 0.13513957642648644,
         "total_bedrooms": 0.04778113589719114,
         "population": -0.026882003551308122,
         "households": 0.0645901843467539,
         "median_income": 0.6871505591484585,
         "median_house_value": 1,
         "_deepnote_index_column": "median_house_value"
        }
       ]
      },
      "text/plain": "                    longitude  latitude  housing_median_age  total_rooms  \\\nlongitude            1.000000 -0.924478           -0.105823     0.048909   \nlatitude            -0.924478  1.000000            0.005737    -0.039245   \nhousing_median_age  -0.105823  0.005737            1.000000    -0.364535   \ntotal_rooms          0.048909 -0.039245           -0.364535     1.000000   \ntotal_bedrooms       0.076686 -0.072550           -0.325101     0.929391   \npopulation           0.108071 -0.115290           -0.298737     0.855103   \nhouseholds           0.063146 -0.077765           -0.306473     0.918396   \nmedian_income       -0.019615 -0.075146           -0.111315     0.200133   \nmedian_house_value  -0.047466 -0.142673            0.114146     0.135140   \n\n                    total_bedrooms  population  households  median_income  \\\nlongitude                 0.076686    0.108071    0.063146      -0.019615   \nlatitude                 -0.072550   -0.115290   -0.077765      -0.075146   \nhousing_median_age       -0.325101   -0.298737   -0.306473      -0.111315   \ntotal_rooms               0.929391    0.855103    0.918396       0.200133   \ntotal_bedrooms            1.000000    0.876324    0.980167      -0.009643   \npopulation                0.876324    1.000000    0.904639       0.002421   \nhouseholds                0.980167    0.904639    1.000000       0.010869   \nmedian_income            -0.009643    0.002421    0.010869       1.000000   \nmedian_house_value        0.047781   -0.026882    0.064590       0.687151   \n\n                    median_house_value  \nlongitude                    -0.047466  \nlatitude                     -0.142673  \nhousing_median_age            0.114146  \ntotal_rooms                   0.135140  \ntotal_bedrooms                0.047781  \npopulation                   -0.026882  \nhouseholds                    0.064590  \nmedian_income                 0.687151  \nmedian_house_value            1.000000  ",
      "text/html": "<div>\n<style scoped>\n    .dataframe tbody tr th:only-of-type {\n        vertical-align: middle;\n    }\n\n    .dataframe tbody tr th {\n        vertical-align: top;\n    }\n\n    .dataframe thead th {\n        text-align: right;\n    }\n</style>\n<table border=\"1\" class=\"dataframe\">\n  <thead>\n    <tr style=\"text-align: right;\">\n      <th></th>\n      <th>longitude</th>\n      <th>latitude</th>\n      <th>housing_median_age</th>\n      <th>total_rooms</th>\n      <th>total_bedrooms</th>\n      <th>population</th>\n      <th>households</th>\n      <th>median_income</th>\n      <th>median_house_value</th>\n    </tr>\n  </thead>\n  <tbody>\n    <tr>\n      <th>longitude</th>\n      <td>1.000000</td>\n      <td>-0.924478</td>\n      <td>-0.105823</td>\n      <td>0.048909</td>\n      <td>0.076686</td>\n      <td>0.108071</td>\n      <td>0.063146</td>\n      <td>-0.019615</td>\n      <td>-0.047466</td>\n    </tr>\n    <tr>\n      <th>latitude</th>\n      <td>-0.924478</td>\n      <td>1.000000</td>\n      <td>0.005737</td>\n      <td>-0.039245</td>\n      <td>-0.072550</td>\n      <td>-0.115290</td>\n      <td>-0.077765</td>\n      <td>-0.075146</td>\n      <td>-0.142673</td>\n    </tr>\n    <tr>\n      <th>housing_median_age</th>\n      <td>-0.105823</td>\n      <td>0.005737</td>\n      <td>1.000000</td>\n      <td>-0.364535</td>\n      <td>-0.325101</td>\n      <td>-0.298737</td>\n      <td>-0.306473</td>\n      <td>-0.111315</td>\n      <td>0.114146</td>\n    </tr>\n    <tr>\n      <th>total_rooms</th>\n      <td>0.048909</td>\n      <td>-0.039245</td>\n      <td>-0.364535</td>\n      <td>1.000000</td>\n      <td>0.929391</td>\n      <td>0.855103</td>\n      <td>0.918396</td>\n      <td>0.200133</td>\n      <td>0.135140</td>\n    </tr>\n    <tr>\n      <th>total_bedrooms</th>\n      <td>0.076686</td>\n      <td>-0.072550</td>\n      <td>-0.325101</td>\n      <td>0.929391</td>\n      <td>1.000000</td>\n      <td>0.876324</td>\n      <td>0.980167</td>\n      <td>-0.009643</td>\n      <td>0.047781</td>\n    </tr>\n    <tr>\n      <th>population</th>\n      <td>0.108071</td>\n      <td>-0.115290</td>\n      <td>-0.298737</td>\n      <td>0.855103</td>\n      <td>0.876324</td>\n      <td>1.000000</td>\n      <td>0.904639</td>\n      <td>0.002421</td>\n      <td>-0.026882</td>\n    </tr>\n    <tr>\n      <th>households</th>\n      <td>0.063146</td>\n      <td>-0.077765</td>\n      <td>-0.306473</td>\n      <td>0.918396</td>\n      <td>0.980167</td>\n      <td>0.904639</td>\n      <td>1.000000</td>\n      <td>0.010869</td>\n      <td>0.064590</td>\n    </tr>\n    <tr>\n      <th>median_income</th>\n      <td>-0.019615</td>\n      <td>-0.075146</td>\n      <td>-0.111315</td>\n      <td>0.200133</td>\n      <td>-0.009643</td>\n      <td>0.002421</td>\n      <td>0.010869</td>\n      <td>1.000000</td>\n      <td>0.687151</td>\n    </tr>\n    <tr>\n      <th>median_house_value</th>\n      <td>-0.047466</td>\n      <td>-0.142673</td>\n      <td>0.114146</td>\n      <td>0.135140</td>\n      <td>0.047781</td>\n      <td>-0.026882</td>\n      <td>0.064590</td>\n      <td>0.687151</td>\n      <td>1.000000</td>\n    </tr>\n  </tbody>\n</table>\n</div>"
     },
     "metadata": {}
    }
   ],
   "execution_count": 24
  },
  {
   "cell_type": "code",
   "source": "import seaborn as sns\n\ncorr = housing.corr()\n\nmask = np.triu(np.ones_like(corr, dtype=bool))\n\nf,ax = plt.subplots(figsize=(11,9))\ncmap = sns.diverging_palette(230, 20, as_cmap=True)\nsns.heatmap(corr, mask=mask, cmap=cmap, vmax=.3, center=0,\n            square=True, linewidths=.5, cbar_kws={\"shrink\":.5})",
   "metadata": {
    "cell_id": "6487e45c2452492ab08f09964a9d623a",
    "tags": [],
    "deepnote_to_be_reexecuted": false,
    "source_hash": "ee8d059d",
    "execution_start": 1649071745224,
    "execution_millis": 1371,
    "deepnote_cell_type": "code",
    "deepnote_cell_height": 823.21875,
    "deepnote_output_heights": [
     21.1875,
     512.046875
    ]
   },
   "outputs": [
    {
     "output_type": "execute_result",
     "execution_count": 25,
     "data": {
      "text/plain": "<AxesSubplot:>"
     },
     "metadata": {}
    },
    {
     "data": {
      "text/plain": "<Figure size 792x648 with 2 Axes>",
      "image/png": "[encoded data removed]"
     },
     "metadata": {
      "needs_background": "light",
      "image/png": {
       "width": 690,
       "height": 616
      }
     },
     "output_type": "display_data"
    }
   ],
   "execution_count": 25
  },
  {
   "cell_type": "markdown",
   "source": "# Preparing Data for Machine Learning",
   "metadata": {
    "cell_id": "9a925a341cb54252a268d1d0634fd479",
    "tags": [],
    "is_collapsed": false,
    "deepnote_cell_type": "text-cell-h1"
   }
  },
  {
   "cell_type": "code",
   "source": "housing = strat_train_set.drop(\"median_house_value\", axis = 1)\nhousing_labels = strat_train_set[\"median_house_value\"].copy()",
   "metadata": {
    "cell_id": "7082a8f0daab456aafe3e7eccf77615b",
    "tags": [],
    "deepnote_to_be_reexecuted": false,
    "source_hash": "fbff3760",
    "execution_start": 1649071746461,
    "execution_millis": 19,
    "deepnote_cell_type": "code",
    "deepnote_cell_height": 99
   },
   "outputs": [],
   "execution_count": 26
  },
  {
   "cell_type": "markdown",
   "source": "# Dealing with Missing Values",
   "metadata": {
    "cell_id": "4b2403b769da46c988b55e957e4c9573",
    "tags": [],
    "is_collapsed": false,
    "deepnote_cell_type": "text-cell-h1"
   }
  },
  {
   "cell_type": "code",
   "source": "sample_incomplete_rows = housing[housing.isnull().any(axis=1)].head()\nsample_incomplete_rows",
   "metadata": {
    "cell_id": "46eb0ddd44a740559d196d7c755793d1",
    "tags": [],
    "deepnote_to_be_reexecuted": false,
    "source_hash": "761d6b27",
    "execution_start": 1649071746484,
    "execution_millis": 112,
    "deepnote_cell_type": "code",
    "deepnote_cell_height": 427.65625
   },
   "outputs": [
    {
     "output_type": "execute_result",
     "execution_count": 27,
     "data": {
      "application/vnd.deepnote.dataframe.v3+json": {
       "column_count": 9,
       "row_count": 5,
       "columns": [
        {
         "name": "longitude",
         "dtype": "float64",
         "stats": {
          "unique_count": 5,
          "nan_count": 0,
          "min": "-122.7",
          "max": "-117.87",
          "histogram": [
           {
            "bin_start": -122.7,
            "bin_end": -122.217,
            "count": 2
           },
           {
            "bin_start": -122.217,
            "bin_end": -121.73400000000001,
            "count": 1
           },
           {
            "bin_start": -121.73400000000001,
            "bin_end": -121.251,
            "count": 0
           },
           {
            "bin_start": -121.251,
            "bin_end": -120.768,
            "count": 0
           },
           {
            "bin_start": -120.768,
            "bin_end": -120.285,
            "count": 0
           },
           {
            "bin_start": -120.285,
            "bin_end": -119.802,
            "count": 0
           },
           {
            "bin_start": -119.802,
            "bin_end": -119.319,
            "count": 0
           },
           {
            "bin_start": -119.319,
            "bin_end": -118.836,
            "count": 0
           },
           {
            "bin_start": -118.836,
            "bin_end": -118.35300000000001,
            "count": 0
           },
           {
            "bin_start": -118.35300000000001,
            "bin_end": -117.87,
            "count": 2
           }
          ]
         }
        },
        {
         "name": "latitude",
         "dtype": "float64",
         "stats": {
          "unique_count": 5,
          "nan_count": 0,
          "min": "33.73",
          "max": "38.35",
          "histogram": [
           {
            "bin_start": 33.73,
            "bin_end": 34.192,
            "count": 2
           },
           {
            "bin_start": 34.192,
            "bin_end": 34.653999999999996,
            "count": 0
           },
           {
            "bin_start": 34.653999999999996,
            "bin_end": 35.116,
            "count": 0
           },
           {
            "bin_start": 35.116,
            "bin_end": 35.577999999999996,
            "count": 0
           },
           {
            "bin_start": 35.577999999999996,
            "bin_end": 36.04,
            "count": 0
           },
           {
            "bin_start": 36.04,
            "bin_end": 36.502,
            "count": 0
           },
           {
            "bin_start": 36.502,
            "bin_end": 36.964,
            "count": 0
           },
           {
            "bin_start": 36.964,
            "bin_end": 37.426,
            "count": 0
           },
           {
            "bin_start": 37.426,
            "bin_end": 37.888,
            "count": 2
           },
           {
            "bin_start": 37.888,
            "bin_end": 38.35,
            "count": 1
           }
          ]
         }
        },
        {
         "name": "housing_median_age",
         "dtype": "float64",
         "stats": {
          "unique_count": 4,
          "nan_count": 0,
          "min": "14.0",
          "max": "48.0",
          "histogram": [
           {
            "bin_start": 14,
            "bin_end": 17.4,
            "count": 1
           },
           {
            "bin_start": 17.4,
            "bin_end": 20.8,
            "count": 0
           },
           {
            "bin_start": 20.8,
            "bin_end": 24.2,
            "count": 0
           },
           {
            "bin_start": 24.2,
            "bin_end": 27.6,
            "count": 2
           },
           {
            "bin_start": 27.6,
            "bin_end": 31,
            "count": 0
           },
           {
            "bin_start": 31,
            "bin_end": 34.4,
            "count": 0
           },
           {
            "bin_start": 34.4,
            "bin_end": 37.8,
            "count": 0
           },
           {
            "bin_start": 37.8,
            "bin_end": 41.2,
            "count": 0
           },
           {
            "bin_start": 41.2,
            "bin_end": 44.599999999999994,
            "count": 0
           },
           {
            "bin_start": 44.599999999999994,
            "bin_end": 48,
            "count": 2
           }
          ]
         }
        },
        {
         "name": "total_rooms",
         "dtype": "float64",
         "stats": {
          "unique_count": 5,
          "nan_count": 0,
          "min": "1308.0",
          "max": "3281.0",
          "histogram": [
           {
            "bin_start": 1308,
            "bin_end": 1505.3,
            "count": 1
           },
           {
            "bin_start": 1505.3,
            "bin_end": 1702.6,
            "count": 0
           },
           {
            "bin_start": 1702.6,
            "bin_end": 1899.9,
            "count": 0
           },
           {
            "bin_start": 1899.9,
            "bin_end": 2097.2,
            "count": 0
           },
           {
            "bin_start": 2097.2,
            "bin_end": 2294.5,
            "count": 1
           },
           {
            "bin_start": 2294.5,
            "bin_end": 2491.8,
            "count": 1
           },
           {
            "bin_start": 2491.8,
            "bin_end": 2689.1000000000004,
            "count": 0
           },
           {
            "bin_start": 2689.1000000000004,
            "bin_end": 2886.4,
            "count": 0
           },
           {
            "bin_start": 2886.4,
            "bin_end": 3083.7,
            "count": 1
           },
           {
            "bin_start": 3083.7,
            "bin_end": 3281,
            "count": 1
           }
          ]
         }
        },
        {
         "name": "total_bedrooms",
         "dtype": "float64",
         "stats": {
          "unique_count": 0,
          "nan_count": 5,
          "min": null,
          "max": null,
          "histogram": [
           {
            "bin_start": 0,
            "bin_end": 0.1,
            "count": 0
           },
           {
            "bin_start": 0.1,
            "bin_end": 0.2,
            "count": 0
           },
           {
            "bin_start": 0.2,
            "bin_end": 0.30000000000000004,
            "count": 0
           },
           {
            "bin_start": 0.30000000000000004,
            "bin_end": 0.4,
            "count": 0
           },
           {
            "bin_start": 0.4,
            "bin_end": 0.5,
            "count": 0
           },
           {
            "bin_start": 0.5,
            "bin_end": 0.6000000000000001,
            "count": 0
           },
           {
            "bin_start": 0.6000000000000001,
            "bin_end": 0.7000000000000001,
            "count": 0
           },
           {
            "bin_start": 0.7000000000000001,
            "bin_end": 0.8,
            "count": 0
           },
           {
            "bin_start": 0.8,
            "bin_end": 0.9,
            "count": 0
           },
           {
            "bin_start": 0.9,
            "bin_end": 1,
            "count": 0
           }
          ]
         }
        },
        {
         "name": "population",
         "dtype": "float64",
         "stats": {
          "unique_count": 5,
          "nan_count": 0,
          "min": "825.0",
          "max": "1970.0",
          "histogram": [
           {
            "bin_start": 825,
            "bin_end": 939.5,
            "count": 2
           },
           {
            "bin_start": 939.5,
            "bin_end": 1054,
            "count": 1
           },
           {
            "bin_start": 1054,
            "bin_end": 1168.5,
            "count": 1
           },
           {
            "bin_start": 1168.5,
            "bin_end": 1283,
            "count": 0
           },
           {
            "bin_start": 1283,
            "bin_end": 1397.5,
            "count": 0
           },
           {
            "bin_start": 1397.5,
            "bin_end": 1512,
            "count": 0
           },
           {
            "bin_start": 1512,
            "bin_end": 1626.5,
            "count": 0
           },
           {
            "bin_start": 1626.5,
            "bin_end": 1741,
            "count": 0
           },
           {
            "bin_start": 1741,
            "bin_end": 1855.5,
            "count": 0
           },
           {
            "bin_start": 1855.5,
            "bin_end": 1970,
            "count": 1
           }
          ]
         }
        },
        {
         "name": "households",
         "dtype": "float64",
         "stats": {
          "unique_count": 5,
          "nan_count": 0,
          "min": "294.0",
          "max": "626.0",
          "histogram": [
           {
            "bin_start": 294,
            "bin_end": 327.2,
            "count": 1
           },
           {
            "bin_start": 327.2,
            "bin_end": 360.4,
            "count": 0
           },
           {
            "bin_start": 360.4,
            "bin_end": 393.6,
            "count": 0
           },
           {
            "bin_start": 393.6,
            "bin_end": 426.8,
            "count": 1
           },
           {
            "bin_start": 426.8,
            "bin_end": 460,
            "count": 0
           },
           {
            "bin_start": 460,
            "bin_end": 493.20000000000005,
            "count": 1
           },
           {
            "bin_start": 493.20000000000005,
            "bin_end": 526.4000000000001,
            "count": 1
           },
           {
            "bin_start": 526.4000000000001,
            "bin_end": 559.6,
            "count": 0
           },
           {
            "bin_start": 559.6,
            "bin_end": 592.8,
            "count": 0
           },
           {
            "bin_start": 592.8,
            "bin_end": 626,
            "count": 1
           }
          ]
         }
        },
        {
         "name": "median_income",
         "dtype": "float64",
         "stats": {
          "unique_count": 5,
          "nan_count": 0,
          "min": "2.933",
          "max": "6.358",
          "histogram": [
           {
            "bin_start": 2.933,
            "bin_end": 3.2754999999999996,
            "count": 1
           },
           {
            "bin_start": 3.2754999999999996,
            "bin_end": 3.618,
            "count": 1
           },
           {
            "bin_start": 3.618,
            "bin_end": 3.9604999999999997,
            "count": 1
           },
           {
            "bin_start": 3.9604999999999997,
            "bin_end": 4.303,
            "count": 1
           },
           {
            "bin_start": 4.303,
            "bin_end": 4.6455,
            "count": 0
           },
           {
            "bin_start": 4.6455,
            "bin_end": 4.9879999999999995,
            "count": 0
           },
           {
            "bin_start": 4.9879999999999995,
            "bin_end": 5.3305,
            "count": 0
           },
           {
            "bin_start": 5.3305,
            "bin_end": 5.673,
            "count": 0
           },
           {
            "bin_start": 5.673,
            "bin_end": 6.015499999999999,
            "count": 0
           },
           {
            "bin_start": 6.015499999999999,
            "bin_end": 6.358,
            "count": 1
           }
          ]
         }
        },
        {
         "name": "ocean_proximity",
         "dtype": "object",
         "stats": {
          "unique_count": 3,
          "nan_count": 0,
          "categories": [
           {
            "name": "<1H OCEAN",
            "count": 3
           },
           {
            "name": "NEAR BAY",
            "count": 1
           },
           {
            "name": "NEAR OCEAN",
            "count": 1
           }
          ]
         }
        },
        {
         "name": "_deepnote_index_column",
         "dtype": "int64"
        }
       ],
       "rows": [
        {
         "longitude": -122.08,
         "latitude": 37.88,
         "housing_median_age": 26,
         "total_rooms": 2947,
         "total_bedrooms": "nan",
         "population": 825,
         "households": 626,
         "median_income": 2.933,
         "ocean_proximity": "NEAR BAY",
         "_deepnote_index_column": 1606
        },
        {
         "longitude": -117.87,
         "latitude": 33.73,
         "housing_median_age": 45,
         "total_rooms": 2264,
         "total_bedrooms": "nan",
         "population": 1970,
         "households": 499,
         "median_income": 3.4193,
         "ocean_proximity": "<1H OCEAN",
         "_deepnote_index_column": 10915
        },
        {
         "longitude": -122.7,
         "latitude": 38.35,
         "housing_median_age": 14,
         "total_rooms": 2313,
         "total_bedrooms": "nan",
         "population": 954,
         "households": 397,
         "median_income": 3.7813,
         "ocean_proximity": "<1H OCEAN",
         "_deepnote_index_column": 19150
        },
        {
         "longitude": -118.23,
         "latitude": 34.13,
         "housing_median_age": 48,
         "total_rooms": 1308,
         "total_bedrooms": "nan",
         "population": 835,
         "households": 294,
         "median_income": 4.2891,
         "ocean_proximity": "<1H OCEAN",
         "_deepnote_index_column": 4186
        },
        {
         "longitude": -122.4,
         "latitude": 37.58,
         "housing_median_age": 26,
         "total_rooms": 3281,
         "total_bedrooms": "nan",
         "population": 1145,
         "households": 480,
         "median_income": 6.358,
         "ocean_proximity": "NEAR OCEAN",
         "_deepnote_index_column": 16885
        }
       ]
      },
      "text/plain": "       longitude  latitude  housing_median_age  total_rooms  total_bedrooms  \\\n1606     -122.08     37.88                26.0       2947.0             NaN   \n10915    -117.87     33.73                45.0       2264.0             NaN   \n19150    -122.70     38.35                14.0       2313.0             NaN   \n4186     -118.23     34.13                48.0       1308.0             NaN   \n16885    -122.40     37.58                26.0       3281.0             NaN   \n\n       population  households  median_income ocean_proximity  \n1606        825.0       626.0         2.9330        NEAR BAY  \n10915      1970.0       499.0         3.4193       <1H OCEAN  \n19150       954.0       397.0         3.7813       <1H OCEAN  \n4186        835.0       294.0         4.2891       <1H OCEAN  \n16885      1145.0       480.0         6.3580      NEAR OCEAN  ",
      "text/html": "<div>\n<style scoped>\n    .dataframe tbody tr th:only-of-type {\n        vertical-align: middle;\n    }\n\n    .dataframe tbody tr th {\n        vertical-align: top;\n    }\n\n    .dataframe thead th {\n        text-align: right;\n    }\n</style>\n<table border=\"1\" class=\"dataframe\">\n  <thead>\n    <tr style=\"text-align: right;\">\n      <th></th>\n      <th>longitude</th>\n      <th>latitude</th>\n      <th>housing_median_age</th>\n      <th>total_rooms</th>\n      <th>total_bedrooms</th>\n      <th>population</th>\n      <th>households</th>\n      <th>median_income</th>\n      <th>ocean_proximity</th>\n    </tr>\n  </thead>\n  <tbody>\n    <tr>\n      <th>1606</th>\n      <td>-122.08</td>\n      <td>37.88</td>\n      <td>26.0</td>\n      <td>2947.0</td>\n      <td>NaN</td>\n      <td>825.0</td>\n      <td>626.0</td>\n      <td>2.9330</td>\n      <td>NEAR BAY</td>\n    </tr>\n    <tr>\n      <th>10915</th>\n      <td>-117.87</td>\n      <td>33.73</td>\n      <td>45.0</td>\n      <td>2264.0</td>\n      <td>NaN</td>\n      <td>1970.0</td>\n      <td>499.0</td>\n      <td>3.4193</td>\n      <td>&lt;1H OCEAN</td>\n    </tr>\n    <tr>\n      <th>19150</th>\n      <td>-122.70</td>\n      <td>38.35</td>\n      <td>14.0</td>\n      <td>2313.0</td>\n      <td>NaN</td>\n      <td>954.0</td>\n      <td>397.0</td>\n      <td>3.7813</td>\n      <td>&lt;1H OCEAN</td>\n    </tr>\n    <tr>\n      <th>4186</th>\n      <td>-118.23</td>\n      <td>34.13</td>\n      <td>48.0</td>\n      <td>1308.0</td>\n      <td>NaN</td>\n      <td>835.0</td>\n      <td>294.0</td>\n      <td>4.2891</td>\n      <td>&lt;1H OCEAN</td>\n    </tr>\n    <tr>\n      <th>16885</th>\n      <td>-122.40</td>\n      <td>37.58</td>\n      <td>26.0</td>\n      <td>3281.0</td>\n      <td>NaN</td>\n      <td>1145.0</td>\n      <td>480.0</td>\n      <td>6.3580</td>\n      <td>NEAR OCEAN</td>\n    </tr>\n  </tbody>\n</table>\n</div>"
     },
     "metadata": {}
    }
   ],
   "execution_count": 27
  },
  {
   "cell_type": "code",
   "source": "sample_incomplete_rows.dropna(subset=[\"total_bedrooms\"])",
   "metadata": {
    "cell_id": "2654ff37571941219467990dca14ff8b",
    "tags": [],
    "deepnote_to_be_reexecuted": false,
    "source_hash": "15213078",
    "execution_start": 1649071746557,
    "execution_millis": 103,
    "deepnote_cell_type": "code",
    "deepnote_cell_height": 204.65625
   },
   "outputs": [
    {
     "output_type": "execute_result",
     "execution_count": 28,
     "data": {
      "application/vnd.deepnote.dataframe.v3+json": {
       "column_count": 9,
       "row_count": 0,
       "columns": [
        {
         "name": "longitude",
         "dtype": "float64",
         "stats": {
          "unique_count": 0,
          "nan_count": 0,
          "min": null,
          "max": null,
          "histogram": [
           {
            "bin_start": 0,
            "bin_end": 0.1,
            "count": 0
           },
           {
            "bin_start": 0.1,
            "bin_end": 0.2,
            "count": 0
           },
           {
            "bin_start": 0.2,
            "bin_end": 0.30000000000000004,
            "count": 0
           },
           {
            "bin_start": 0.30000000000000004,
            "bin_end": 0.4,
            "count": 0
           },
           {
            "bin_start": 0.4,
            "bin_end": 0.5,
            "count": 0
           },
           {
            "bin_start": 0.5,
            "bin_end": 0.6000000000000001,
            "count": 0
           },
           {
            "bin_start": 0.6000000000000001,
            "bin_end": 0.7000000000000001,
            "count": 0
           },
           {
            "bin_start": 0.7000000000000001,
            "bin_end": 0.8,
            "count": 0
           },
           {
            "bin_start": 0.8,
            "bin_end": 0.9,
            "count": 0
           },
           {
            "bin_start": 0.9,
            "bin_end": 1,
            "count": 0
           }
          ]
         }
        },
        {
         "name": "latitude",
         "dtype": "float64",
         "stats": {
          "unique_count": 0,
          "nan_count": 0,
          "min": null,
          "max": null,
          "histogram": [
           {
            "bin_start": 0,
            "bin_end": 0.1,
            "count": 0
           },
           {
            "bin_start": 0.1,
            "bin_end": 0.2,
            "count": 0
           },
           {
            "bin_start": 0.2,
            "bin_end": 0.30000000000000004,
            "count": 0
           },
           {
            "bin_start": 0.30000000000000004,
            "bin_end": 0.4,
            "count": 0
           },
           {
            "bin_start": 0.4,
            "bin_end": 0.5,
            "count": 0
           },
           {
            "bin_start": 0.5,
            "bin_end": 0.6000000000000001,
            "count": 0
           },
           {
            "bin_start": 0.6000000000000001,
            "bin_end": 0.7000000000000001,
            "count": 0
           },
           {
            "bin_start": 0.7000000000000001,
            "bin_end": 0.8,
            "count": 0
           },
           {
            "bin_start": 0.8,
            "bin_end": 0.9,
            "count": 0
           },
           {
            "bin_start": 0.9,
            "bin_end": 1,
            "count": 0
           }
          ]
         }
        },
        {
         "name": "housing_median_age",
         "dtype": "float64",
         "stats": {
          "unique_count": 0,
          "nan_count": 0,
          "min": null,
          "max": null,
          "histogram": [
           {
            "bin_start": 0,
            "bin_end": 0.1,
            "count": 0
           },
           {
            "bin_start": 0.1,
            "bin_end": 0.2,
            "count": 0
           },
           {
            "bin_start": 0.2,
            "bin_end": 0.30000000000000004,
            "count": 0
           },
           {
            "bin_start": 0.30000000000000004,
            "bin_end": 0.4,
            "count": 0
           },
           {
            "bin_start": 0.4,
            "bin_end": 0.5,
            "count": 0
           },
           {
            "bin_start": 0.5,
            "bin_end": 0.6000000000000001,
            "count": 0
           },
           {
            "bin_start": 0.6000000000000001,
            "bin_end": 0.7000000000000001,
            "count": 0
           },
           {
            "bin_start": 0.7000000000000001,
            "bin_end": 0.8,
            "count": 0
           },
           {
            "bin_start": 0.8,
            "bin_end": 0.9,
            "count": 0
           },
           {
            "bin_start": 0.9,
            "bin_end": 1,
            "count": 0
           }
          ]
         }
        },
        {
         "name": "total_rooms",
         "dtype": "float64",
         "stats": {
          "unique_count": 0,
          "nan_count": 0,
          "min": null,
          "max": null,
          "histogram": [
           {
            "bin_start": 0,
            "bin_end": 0.1,
            "count": 0
           },
           {
            "bin_start": 0.1,
            "bin_end": 0.2,
            "count": 0
           },
           {
            "bin_start": 0.2,
            "bin_end": 0.30000000000000004,
            "count": 0
           },
           {
            "bin_start": 0.30000000000000004,
            "bin_end": 0.4,
            "count": 0
           },
           {
            "bin_start": 0.4,
            "bin_end": 0.5,
            "count": 0
           },
           {
            "bin_start": 0.5,
            "bin_end": 0.6000000000000001,
            "count": 0
           },
           {
            "bin_start": 0.6000000000000001,
            "bin_end": 0.7000000000000001,
            "count": 0
           },
           {
            "bin_start": 0.7000000000000001,
            "bin_end": 0.8,
            "count": 0
           },
           {
            "bin_start": 0.8,
            "bin_end": 0.9,
            "count": 0
           },
           {
            "bin_start": 0.9,
            "bin_end": 1,
            "count": 0
           }
          ]
         }
        },
        {
         "name": "total_bedrooms",
         "dtype": "float64",
         "stats": {
          "unique_count": 0,
          "nan_count": 0,
          "min": null,
          "max": null,
          "histogram": [
           {
            "bin_start": 0,
            "bin_end": 0.1,
            "count": 0
           },
           {
            "bin_start": 0.1,
            "bin_end": 0.2,
            "count": 0
           },
           {
            "bin_start": 0.2,
            "bin_end": 0.30000000000000004,
            "count": 0
           },
           {
            "bin_start": 0.30000000000000004,
            "bin_end": 0.4,
            "count": 0
           },
           {
            "bin_start": 0.4,
            "bin_end": 0.5,
            "count": 0
           },
           {
            "bin_start": 0.5,
            "bin_end": 0.6000000000000001,
            "count": 0
           },
           {
            "bin_start": 0.6000000000000001,
            "bin_end": 0.7000000000000001,
            "count": 0
           },
           {
            "bin_start": 0.7000000000000001,
            "bin_end": 0.8,
            "count": 0
           },
           {
            "bin_start": 0.8,
            "bin_end": 0.9,
            "count": 0
           },
           {
            "bin_start": 0.9,
            "bin_end": 1,
            "count": 0
           }
          ]
         }
        },
        {
         "name": "population",
         "dtype": "float64",
         "stats": {
          "unique_count": 0,
          "nan_count": 0,
          "min": null,
          "max": null,
          "histogram": [
           {
            "bin_start": 0,
            "bin_end": 0.1,
            "count": 0
           },
           {
            "bin_start": 0.1,
            "bin_end": 0.2,
            "count": 0
           },
           {
            "bin_start": 0.2,
            "bin_end": 0.30000000000000004,
            "count": 0
           },
           {
            "bin_start": 0.30000000000000004,
            "bin_end": 0.4,
            "count": 0
           },
           {
            "bin_start": 0.4,
            "bin_end": 0.5,
            "count": 0
           },
           {
            "bin_start": 0.5,
            "bin_end": 0.6000000000000001,
            "count": 0
           },
           {
            "bin_start": 0.6000000000000001,
            "bin_end": 0.7000000000000001,
            "count": 0
           },
           {
            "bin_start": 0.7000000000000001,
            "bin_end": 0.8,
            "count": 0
           },
           {
            "bin_start": 0.8,
            "bin_end": 0.9,
            "count": 0
           },
           {
            "bin_start": 0.9,
            "bin_end": 1,
            "count": 0
           }
          ]
         }
        },
        {
         "name": "households",
         "dtype": "float64",
         "stats": {
          "unique_count": 0,
          "nan_count": 0,
          "min": null,
          "max": null,
          "histogram": [
           {
            "bin_start": 0,
            "bin_end": 0.1,
            "count": 0
           },
           {
            "bin_start": 0.1,
            "bin_end": 0.2,
            "count": 0
           },
           {
            "bin_start": 0.2,
            "bin_end": 0.30000000000000004,
            "count": 0
           },
           {
            "bin_start": 0.30000000000000004,
            "bin_end": 0.4,
            "count": 0
           },
           {
            "bin_start": 0.4,
            "bin_end": 0.5,
            "count": 0
           },
           {
            "bin_start": 0.5,
            "bin_end": 0.6000000000000001,
            "count": 0
           },
           {
            "bin_start": 0.6000000000000001,
            "bin_end": 0.7000000000000001,
            "count": 0
           },
           {
            "bin_start": 0.7000000000000001,
            "bin_end": 0.8,
            "count": 0
           },
           {
            "bin_start": 0.8,
            "bin_end": 0.9,
            "count": 0
           },
           {
            "bin_start": 0.9,
            "bin_end": 1,
            "count": 0
           }
          ]
         }
        },
        {
         "name": "median_income",
         "dtype": "float64",
         "stats": {
          "unique_count": 0,
          "nan_count": 0,
          "min": null,
          "max": null,
          "histogram": [
           {
            "bin_start": 0,
            "bin_end": 0.1,
            "count": 0
           },
           {
            "bin_start": 0.1,
            "bin_end": 0.2,
            "count": 0
           },
           {
            "bin_start": 0.2,
            "bin_end": 0.30000000000000004,
            "count": 0
           },
           {
            "bin_start": 0.30000000000000004,
            "bin_end": 0.4,
            "count": 0
           },
           {
            "bin_start": 0.4,
            "bin_end": 0.5,
            "count": 0
           },
           {
            "bin_start": 0.5,
            "bin_end": 0.6000000000000001,
            "count": 0
           },
           {
            "bin_start": 0.6000000000000001,
            "bin_end": 0.7000000000000001,
            "count": 0
           },
           {
            "bin_start": 0.7000000000000001,
            "bin_end": 0.8,
            "count": 0
           },
           {
            "bin_start": 0.8,
            "bin_end": 0.9,
            "count": 0
           },
           {
            "bin_start": 0.9,
            "bin_end": 1,
            "count": 0
           }
          ]
         }
        },
        {
         "name": "ocean_proximity",
         "dtype": "object",
         "stats": {
          "unique_count": 0,
          "nan_count": 0,
          "categories": []
         }
        },
        {
         "name": "_deepnote_index_column",
         "dtype": "int64"
        }
       ],
       "rows": []
      },
      "text/plain": "Empty DataFrame\nColumns: [longitude, latitude, housing_median_age, total_rooms, total_bedrooms, population, households, median_income, ocean_proximity]\nIndex: []",
      "text/html": "<div>\n<style scoped>\n    .dataframe tbody tr th:only-of-type {\n        vertical-align: middle;\n    }\n\n    .dataframe tbody tr th {\n        vertical-align: top;\n    }\n\n    .dataframe thead th {\n        text-align: right;\n    }\n</style>\n<table border=\"1\" class=\"dataframe\">\n  <thead>\n    <tr style=\"text-align: right;\">\n      <th></th>\n      <th>longitude</th>\n      <th>latitude</th>\n      <th>housing_median_age</th>\n      <th>total_rooms</th>\n      <th>total_bedrooms</th>\n      <th>population</th>\n      <th>households</th>\n      <th>median_income</th>\n      <th>ocean_proximity</th>\n    </tr>\n  </thead>\n  <tbody>\n  </tbody>\n</table>\n</div>"
     },
     "metadata": {}
    }
   ],
   "execution_count": 28
  },
  {
   "cell_type": "code",
   "source": "sample_incomplete_rows.drop(\"total_bedrooms\", axis=1)",
   "metadata": {
    "cell_id": "74027b51e1d145bcb82daa12f63bfbd2",
    "tags": [],
    "deepnote_to_be_reexecuted": false,
    "source_hash": "92b65505",
    "execution_start": 1649071746698,
    "execution_millis": 40,
    "deepnote_cell_type": "code",
    "deepnote_cell_height": 409.65625
   },
   "outputs": [
    {
     "output_type": "execute_result",
     "execution_count": 29,
     "data": {
      "application/vnd.deepnote.dataframe.v3+json": {
       "column_count": 8,
       "row_count": 5,
       "columns": [
        {
         "name": "longitude",
         "dtype": "float64",
         "stats": {
          "unique_count": 5,
          "nan_count": 0,
          "min": "-122.7",
          "max": "-117.87",
          "histogram": [
           {
            "bin_start": -122.7,
            "bin_end": -122.217,
            "count": 2
           },
           {
            "bin_start": -122.217,
            "bin_end": -121.73400000000001,
            "count": 1
           },
           {
            "bin_start": -121.73400000000001,
            "bin_end": -121.251,
            "count": 0
           },
           {
            "bin_start": -121.251,
            "bin_end": -120.768,
            "count": 0
           },
           {
            "bin_start": -120.768,
            "bin_end": -120.285,
            "count": 0
           },
           {
            "bin_start": -120.285,
            "bin_end": -119.802,
            "count": 0
           },
           {
            "bin_start": -119.802,
            "bin_end": -119.319,
            "count": 0
           },
           {
            "bin_start": -119.319,
            "bin_end": -118.836,
            "count": 0
           },
           {
            "bin_start": -118.836,
            "bin_end": -118.35300000000001,
            "count": 0
           },
           {
            "bin_start": -118.35300000000001,
            "bin_end": -117.87,
            "count": 2
           }
          ]
         }
        },
        {
         "name": "latitude",
         "dtype": "float64",
         "stats": {
          "unique_count": 5,
          "nan_count": 0,
          "min": "33.73",
          "max": "38.35",
          "histogram": [
           {
            "bin_start": 33.73,
            "bin_end": 34.192,
            "count": 2
           },
           {
            "bin_start": 34.192,
            "bin_end": 34.653999999999996,
            "count": 0
           },
           {
            "bin_start": 34.653999999999996,
            "bin_end": 35.116,
            "count": 0
           },
           {
            "bin_start": 35.116,
            "bin_end": 35.577999999999996,
            "count": 0
           },
           {
            "bin_start": 35.577999999999996,
            "bin_end": 36.04,
            "count": 0
           },
           {
            "bin_start": 36.04,
            "bin_end": 36.502,
            "count": 0
           },
           {
            "bin_start": 36.502,
            "bin_end": 36.964,
            "count": 0
           },
           {
            "bin_start": 36.964,
            "bin_end": 37.426,
            "count": 0
           },
           {
            "bin_start": 37.426,
            "bin_end": 37.888,
            "count": 2
           },
           {
            "bin_start": 37.888,
            "bin_end": 38.35,
            "count": 1
           }
          ]
         }
        },
        {
         "name": "housing_median_age",
         "dtype": "float64",
         "stats": {
          "unique_count": 4,
          "nan_count": 0,
          "min": "14.0",
          "max": "48.0",
          "histogram": [
           {
            "bin_start": 14,
            "bin_end": 17.4,
            "count": 1
           },
           {
            "bin_start": 17.4,
            "bin_end": 20.8,
            "count": 0
           },
           {
            "bin_start": 20.8,
            "bin_end": 24.2,
            "count": 0
           },
           {
            "bin_start": 24.2,
            "bin_end": 27.6,
            "count": 2
           },
           {
            "bin_start": 27.6,
            "bin_end": 31,
            "count": 0
           },
           {
            "bin_start": 31,
            "bin_end": 34.4,
            "count": 0
           },
           {
            "bin_start": 34.4,
            "bin_end": 37.8,
            "count": 0
           },
           {
            "bin_start": 37.8,
            "bin_end": 41.2,
            "count": 0
           },
           {
            "bin_start": 41.2,
            "bin_end": 44.599999999999994,
            "count": 0
           },
           {
            "bin_start": 44.599999999999994,
            "bin_end": 48,
            "count": 2
           }
          ]
         }
        },
        {
         "name": "total_rooms",
         "dtype": "float64",
         "stats": {
          "unique_count": 5,
          "nan_count": 0,
          "min": "1308.0",
          "max": "3281.0",
          "histogram": [
           {
            "bin_start": 1308,
            "bin_end": 1505.3,
            "count": 1
           },
           {
            "bin_start": 1505.3,
            "bin_end": 1702.6,
            "count": 0
           },
           {
            "bin_start": 1702.6,
            "bin_end": 1899.9,
            "count": 0
           },
           {
            "bin_start": 1899.9,
            "bin_end": 2097.2,
            "count": 0
           },
           {
            "bin_start": 2097.2,
            "bin_end": 2294.5,
            "count": 1
           },
           {
            "bin_start": 2294.5,
            "bin_end": 2491.8,
            "count": 1
           },
           {
            "bin_start": 2491.8,
            "bin_end": 2689.1000000000004,
            "count": 0
           },
           {
            "bin_start": 2689.1000000000004,
            "bin_end": 2886.4,
            "count": 0
           },
           {
            "bin_start": 2886.4,
            "bin_end": 3083.7,
            "count": 1
           },
           {
            "bin_start": 3083.7,
            "bin_end": 3281,
            "count": 1
           }
          ]
         }
        },
        {
         "name": "population",
         "dtype": "float64",
         "stats": {
          "unique_count": 5,
          "nan_count": 0,
          "min": "825.0",
          "max": "1970.0",
          "histogram": [
           {
            "bin_start": 825,
            "bin_end": 939.5,
            "count": 2
           },
           {
            "bin_start": 939.5,
            "bin_end": 1054,
            "count": 1
           },
           {
            "bin_start": 1054,
            "bin_end": 1168.5,
            "count": 1
           },
           {
            "bin_start": 1168.5,
            "bin_end": 1283,
            "count": 0
           },
           {
            "bin_start": 1283,
            "bin_end": 1397.5,
            "count": 0
           },
           {
            "bin_start": 1397.5,
            "bin_end": 1512,
            "count": 0
           },
           {
            "bin_start": 1512,
            "bin_end": 1626.5,
            "count": 0
           },
           {
            "bin_start": 1626.5,
            "bin_end": 1741,
            "count": 0
           },
           {
            "bin_start": 1741,
            "bin_end": 1855.5,
            "count": 0
           },
           {
            "bin_start": 1855.5,
            "bin_end": 1970,
            "count": 1
           }
          ]
         }
        },
        {
         "name": "households",
         "dtype": "float64",
         "stats": {
          "unique_count": 5,
          "nan_count": 0,
          "min": "294.0",
          "max": "626.0",
          "histogram": [
           {
            "bin_start": 294,
            "bin_end": 327.2,
            "count": 1
           },
           {
            "bin_start": 327.2,
            "bin_end": 360.4,
            "count": 0
           },
           {
            "bin_start": 360.4,
            "bin_end": 393.6,
            "count": 0
           },
           {
            "bin_start": 393.6,
            "bin_end": 426.8,
            "count": 1
           },
           {
            "bin_start": 426.8,
            "bin_end": 460,
            "count": 0
           },
           {
            "bin_start": 460,
            "bin_end": 493.20000000000005,
            "count": 1
           },
           {
            "bin_start": 493.20000000000005,
            "bin_end": 526.4000000000001,
            "count": 1
           },
           {
            "bin_start": 526.4000000000001,
            "bin_end": 559.6,
            "count": 0
           },
           {
            "bin_start": 559.6,
            "bin_end": 592.8,
            "count": 0
           },
           {
            "bin_start": 592.8,
            "bin_end": 626,
            "count": 1
           }
          ]
         }
        },
        {
         "name": "median_income",
         "dtype": "float64",
         "stats": {
          "unique_count": 5,
          "nan_count": 0,
          "min": "2.933",
          "max": "6.358",
          "histogram": [
           {
            "bin_start": 2.933,
            "bin_end": 3.2754999999999996,
            "count": 1
           },
           {
            "bin_start": 3.2754999999999996,
            "bin_end": 3.618,
            "count": 1
           },
           {
            "bin_start": 3.618,
            "bin_end": 3.9604999999999997,
            "count": 1
           },
           {
            "bin_start": 3.9604999999999997,
            "bin_end": 4.303,
            "count": 1
           },
           {
            "bin_start": 4.303,
            "bin_end": 4.6455,
            "count": 0
           },
           {
            "bin_start": 4.6455,
            "bin_end": 4.9879999999999995,
            "count": 0
           },
           {
            "bin_start": 4.9879999999999995,
            "bin_end": 5.3305,
            "count": 0
           },
           {
            "bin_start": 5.3305,
            "bin_end": 5.673,
            "count": 0
           },
           {
            "bin_start": 5.673,
            "bin_end": 6.015499999999999,
            "count": 0
           },
           {
            "bin_start": 6.015499999999999,
            "bin_end": 6.358,
            "count": 1
           }
          ]
         }
        },
        {
         "name": "ocean_proximity",
         "dtype": "object",
         "stats": {
          "unique_count": 3,
          "nan_count": 0,
          "categories": [
           {
            "name": "<1H OCEAN",
            "count": 3
           },
           {
            "name": "NEAR BAY",
            "count": 1
           },
           {
            "name": "NEAR OCEAN",
            "count": 1
           }
          ]
         }
        },
        {
         "name": "_deepnote_index_column",
         "dtype": "int64"
        }
       ],
       "rows": [
        {
         "longitude": -122.08,
         "latitude": 37.88,
         "housing_median_age": 26,
         "total_rooms": 2947,
         "population": 825,
         "households": 626,
         "median_income": 2.933,
         "ocean_proximity": "NEAR BAY",
         "_deepnote_index_column": 1606
        },
        {
         "longitude": -117.87,
         "latitude": 33.73,
         "housing_median_age": 45,
         "total_rooms": 2264,
         "population": 1970,
         "households": 499,
         "median_income": 3.4193,
         "ocean_proximity": "<1H OCEAN",
         "_deepnote_index_column": 10915
        },
        {
         "longitude": -122.7,
         "latitude": 38.35,
         "housing_median_age": 14,
         "total_rooms": 2313,
         "population": 954,
         "households": 397,
         "median_income": 3.7813,
         "ocean_proximity": "<1H OCEAN",
         "_deepnote_index_column": 19150
        },
        {
         "longitude": -118.23,
         "latitude": 34.13,
         "housing_median_age": 48,
         "total_rooms": 1308,
         "population": 835,
         "households": 294,
         "median_income": 4.2891,
         "ocean_proximity": "<1H OCEAN",
         "_deepnote_index_column": 4186
        },
        {
         "longitude": -122.4,
         "latitude": 37.58,
         "housing_median_age": 26,
         "total_rooms": 3281,
         "population": 1145,
         "households": 480,
         "median_income": 6.358,
         "ocean_proximity": "NEAR OCEAN",
         "_deepnote_index_column": 16885
        }
       ]
      },
      "text/plain": "       longitude  latitude  housing_median_age  total_rooms  population  \\\n1606     -122.08     37.88                26.0       2947.0       825.0   \n10915    -117.87     33.73                45.0       2264.0      1970.0   \n19150    -122.70     38.35                14.0       2313.0       954.0   \n4186     -118.23     34.13                48.0       1308.0       835.0   \n16885    -122.40     37.58                26.0       3281.0      1145.0   \n\n       households  median_income ocean_proximity  \n1606        626.0         2.9330        NEAR BAY  \n10915       499.0         3.4193       <1H OCEAN  \n19150       397.0         3.7813       <1H OCEAN  \n4186        294.0         4.2891       <1H OCEAN  \n16885       480.0         6.3580      NEAR OCEAN  ",
      "text/html": "<div>\n<style scoped>\n    .dataframe tbody tr th:only-of-type {\n        vertical-align: middle;\n    }\n\n    .dataframe tbody tr th {\n        vertical-align: top;\n    }\n\n    .dataframe thead th {\n        text-align: right;\n    }\n</style>\n<table border=\"1\" class=\"dataframe\">\n  <thead>\n    <tr style=\"text-align: right;\">\n      <th></th>\n      <th>longitude</th>\n      <th>latitude</th>\n      <th>housing_median_age</th>\n      <th>total_rooms</th>\n      <th>population</th>\n      <th>households</th>\n      <th>median_income</th>\n      <th>ocean_proximity</th>\n    </tr>\n  </thead>\n  <tbody>\n    <tr>\n      <th>1606</th>\n      <td>-122.08</td>\n      <td>37.88</td>\n      <td>26.0</td>\n      <td>2947.0</td>\n      <td>825.0</td>\n      <td>626.0</td>\n      <td>2.9330</td>\n      <td>NEAR BAY</td>\n    </tr>\n    <tr>\n      <th>10915</th>\n      <td>-117.87</td>\n      <td>33.73</td>\n      <td>45.0</td>\n      <td>2264.0</td>\n      <td>1970.0</td>\n      <td>499.0</td>\n      <td>3.4193</td>\n      <td>&lt;1H OCEAN</td>\n    </tr>\n    <tr>\n      <th>19150</th>\n      <td>-122.70</td>\n      <td>38.35</td>\n      <td>14.0</td>\n      <td>2313.0</td>\n      <td>954.0</td>\n      <td>397.0</td>\n      <td>3.7813</td>\n      <td>&lt;1H OCEAN</td>\n    </tr>\n    <tr>\n      <th>4186</th>\n      <td>-118.23</td>\n      <td>34.13</td>\n      <td>48.0</td>\n      <td>1308.0</td>\n      <td>835.0</td>\n      <td>294.0</td>\n      <td>4.2891</td>\n      <td>&lt;1H OCEAN</td>\n    </tr>\n    <tr>\n      <th>16885</th>\n      <td>-122.40</td>\n      <td>37.58</td>\n      <td>26.0</td>\n      <td>3281.0</td>\n      <td>1145.0</td>\n      <td>480.0</td>\n      <td>6.3580</td>\n      <td>NEAR OCEAN</td>\n    </tr>\n  </tbody>\n</table>\n</div>"
     },
     "metadata": {}
    }
   ],
   "execution_count": 29
  },
  {
   "cell_type": "code",
   "source": "median = housing[\"total_bedrooms\"].median()\nsample_incomplete_rows[\"total_bedrooms\"].fillna(median, inplace=True)\nsample_incomplete_rows",
   "metadata": {
    "cell_id": "a30d30bd9ed24dec9eb1b274ac0c6266",
    "tags": [],
    "deepnote_to_be_reexecuted": false,
    "source_hash": "96991df4",
    "execution_start": 1649071746740,
    "execution_millis": 138,
    "deepnote_cell_type": "code",
    "deepnote_cell_height": 446
   },
   "outputs": [
    {
     "output_type": "execute_result",
     "execution_count": 30,
     "data": {
      "application/vnd.deepnote.dataframe.v3+json": {
       "column_count": 9,
       "row_count": 5,
       "columns": [
        {
         "name": "longitude",
         "dtype": "float64",
         "stats": {
          "unique_count": 5,
          "nan_count": 0,
          "min": "-122.7",
          "max": "-117.87",
          "histogram": [
           {
            "bin_start": -122.7,
            "bin_end": -122.217,
            "count": 2
           },
           {
            "bin_start": -122.217,
            "bin_end": -121.73400000000001,
            "count": 1
           },
           {
            "bin_start": -121.73400000000001,
            "bin_end": -121.251,
            "count": 0
           },
           {
            "bin_start": -121.251,
            "bin_end": -120.768,
            "count": 0
           },
           {
            "bin_start": -120.768,
            "bin_end": -120.285,
            "count": 0
           },
           {
            "bin_start": -120.285,
            "bin_end": -119.802,
            "count": 0
           },
           {
            "bin_start": -119.802,
            "bin_end": -119.319,
            "count": 0
           },
           {
            "bin_start": -119.319,
            "bin_end": -118.836,
            "count": 0
           },
           {
            "bin_start": -118.836,
            "bin_end": -118.35300000000001,
            "count": 0
           },
           {
            "bin_start": -118.35300000000001,
            "bin_end": -117.87,
            "count": 2
           }
          ]
         }
        },
        {
         "name": "latitude",
         "dtype": "float64",
         "stats": {
          "unique_count": 5,
          "nan_count": 0,
          "min": "33.73",
          "max": "38.35",
          "histogram": [
           {
            "bin_start": 33.73,
            "bin_end": 34.192,
            "count": 2
           },
           {
            "bin_start": 34.192,
            "bin_end": 34.653999999999996,
            "count": 0
           },
           {
            "bin_start": 34.653999999999996,
            "bin_end": 35.116,
            "count": 0
           },
           {
            "bin_start": 35.116,
            "bin_end": 35.577999999999996,
            "count": 0
           },
           {
            "bin_start": 35.577999999999996,
            "bin_end": 36.04,
            "count": 0
           },
           {
            "bin_start": 36.04,
            "bin_end": 36.502,
            "count": 0
           },
           {
            "bin_start": 36.502,
            "bin_end": 36.964,
            "count": 0
           },
           {
            "bin_start": 36.964,
            "bin_end": 37.426,
            "count": 0
           },
           {
            "bin_start": 37.426,
            "bin_end": 37.888,
            "count": 2
           },
           {
            "bin_start": 37.888,
            "bin_end": 38.35,
            "count": 1
           }
          ]
         }
        },
        {
         "name": "housing_median_age",
         "dtype": "float64",
         "stats": {
          "unique_count": 4,
          "nan_count": 0,
          "min": "14.0",
          "max": "48.0",
          "histogram": [
           {
            "bin_start": 14,
            "bin_end": 17.4,
            "count": 1
           },
           {
            "bin_start": 17.4,
            "bin_end": 20.8,
            "count": 0
           },
           {
            "bin_start": 20.8,
            "bin_end": 24.2,
            "count": 0
           },
           {
            "bin_start": 24.2,
            "bin_end": 27.6,
            "count": 2
           },
           {
            "bin_start": 27.6,
            "bin_end": 31,
            "count": 0
           },
           {
            "bin_start": 31,
            "bin_end": 34.4,
            "count": 0
           },
           {
            "bin_start": 34.4,
            "bin_end": 37.8,
            "count": 0
           },
           {
            "bin_start": 37.8,
            "bin_end": 41.2,
            "count": 0
           },
           {
            "bin_start": 41.2,
            "bin_end": 44.599999999999994,
            "count": 0
           },
           {
            "bin_start": 44.599999999999994,
            "bin_end": 48,
            "count": 2
           }
          ]
         }
        },
        {
         "name": "total_rooms",
         "dtype": "float64",
         "stats": {
          "unique_count": 5,
          "nan_count": 0,
          "min": "1308.0",
          "max": "3281.0",
          "histogram": [
           {
            "bin_start": 1308,
            "bin_end": 1505.3,
            "count": 1
           },
           {
            "bin_start": 1505.3,
            "bin_end": 1702.6,
            "count": 0
           },
           {
            "bin_start": 1702.6,
            "bin_end": 1899.9,
            "count": 0
           },
           {
            "bin_start": 1899.9,
            "bin_end": 2097.2,
            "count": 0
           },
           {
            "bin_start": 2097.2,
            "bin_end": 2294.5,
            "count": 1
           },
           {
            "bin_start": 2294.5,
            "bin_end": 2491.8,
            "count": 1
           },
           {
            "bin_start": 2491.8,
            "bin_end": 2689.1000000000004,
            "count": 0
           },
           {
            "bin_start": 2689.1000000000004,
            "bin_end": 2886.4,
            "count": 0
           },
           {
            "bin_start": 2886.4,
            "bin_end": 3083.7,
            "count": 1
           },
           {
            "bin_start": 3083.7,
            "bin_end": 3281,
            "count": 1
           }
          ]
         }
        },
        {
         "name": "total_bedrooms",
         "dtype": "float64",
         "stats": {
          "unique_count": 1,
          "nan_count": 0,
          "min": "433.0",
          "max": "433.0",
          "histogram": [
           {
            "bin_start": 432.5,
            "bin_end": 432.6,
            "count": 0
           },
           {
            "bin_start": 432.6,
            "bin_end": 432.7,
            "count": 0
           },
           {
            "bin_start": 432.7,
            "bin_end": 432.8,
            "count": 0
           },
           {
            "bin_start": 432.8,
            "bin_end": 432.9,
            "count": 0
           },
           {
            "bin_start": 432.9,
            "bin_end": 433,
            "count": 0
           },
           {
            "bin_start": 433,
            "bin_end": 433.1,
            "count": 5
           },
           {
            "bin_start": 433.1,
            "bin_end": 433.2,
            "count": 0
           },
           {
            "bin_start": 433.2,
            "bin_end": 433.3,
            "count": 0
           },
           {
            "bin_start": 433.3,
            "bin_end": 433.4,
            "count": 0
           },
           {
            "bin_start": 433.4,
            "bin_end": 433.5,
            "count": 0
           }
          ]
         }
        },
        {
         "name": "population",
         "dtype": "float64",
         "stats": {
          "unique_count": 5,
          "nan_count": 0,
          "min": "825.0",
          "max": "1970.0",
          "histogram": [
           {
            "bin_start": 825,
            "bin_end": 939.5,
            "count": 2
           },
           {
            "bin_start": 939.5,
            "bin_end": 1054,
            "count": 1
           },
           {
            "bin_start": 1054,
            "bin_end": 1168.5,
            "count": 1
           },
           {
            "bin_start": 1168.5,
            "bin_end": 1283,
            "count": 0
           },
           {
            "bin_start": 1283,
            "bin_end": 1397.5,
            "count": 0
           },
           {
            "bin_start": 1397.5,
            "bin_end": 1512,
            "count": 0
           },
           {
            "bin_start": 1512,
            "bin_end": 1626.5,
            "count": 0
           },
           {
            "bin_start": 1626.5,
            "bin_end": 1741,
            "count": 0
           },
           {
            "bin_start": 1741,
            "bin_end": 1855.5,
            "count": 0
           },
           {
            "bin_start": 1855.5,
            "bin_end": 1970,
            "count": 1
           }
          ]
         }
        },
        {
         "name": "households",
         "dtype": "float64",
         "stats": {
          "unique_count": 5,
          "nan_count": 0,
          "min": "294.0",
          "max": "626.0",
          "histogram": [
           {
            "bin_start": 294,
            "bin_end": 327.2,
            "count": 1
           },
           {
            "bin_start": 327.2,
            "bin_end": 360.4,
            "count": 0
           },
           {
            "bin_start": 360.4,
            "bin_end": 393.6,
            "count": 0
           },
           {
            "bin_start": 393.6,
            "bin_end": 426.8,
            "count": 1
           },
           {
            "bin_start": 426.8,
            "bin_end": 460,
            "count": 0
           },
           {
            "bin_start": 460,
            "bin_end": 493.20000000000005,
            "count": 1
           },
           {
            "bin_start": 493.20000000000005,
            "bin_end": 526.4000000000001,
            "count": 1
           },
           {
            "bin_start": 526.4000000000001,
            "bin_end": 559.6,
            "count": 0
           },
           {
            "bin_start": 559.6,
            "bin_end": 592.8,
            "count": 0
           },
           {
            "bin_start": 592.8,
            "bin_end": 626,
            "count": 1
           }
          ]
         }
        },
        {
         "name": "median_income",
         "dtype": "float64",
         "stats": {
          "unique_count": 5,
          "nan_count": 0,
          "min": "2.933",
          "max": "6.358",
          "histogram": [
           {
            "bin_start": 2.933,
            "bin_end": 3.2754999999999996,
            "count": 1
           },
           {
            "bin_start": 3.2754999999999996,
            "bin_end": 3.618,
            "count": 1
           },
           {
            "bin_start": 3.618,
            "bin_end": 3.9604999999999997,
            "count": 1
           },
           {
            "bin_start": 3.9604999999999997,
            "bin_end": 4.303,
            "count": 1
           },
           {
            "bin_start": 4.303,
            "bin_end": 4.6455,
            "count": 0
           },
           {
            "bin_start": 4.6455,
            "bin_end": 4.9879999999999995,
            "count": 0
           },
           {
            "bin_start": 4.9879999999999995,
            "bin_end": 5.3305,
            "count": 0
           },
           {
            "bin_start": 5.3305,
            "bin_end": 5.673,
            "count": 0
           },
           {
            "bin_start": 5.673,
            "bin_end": 6.015499999999999,
            "count": 0
           },
           {
            "bin_start": 6.015499999999999,
            "bin_end": 6.358,
            "count": 1
           }
          ]
         }
        },
        {
         "name": "ocean_proximity",
         "dtype": "object",
         "stats": {
          "unique_count": 3,
          "nan_count": 0,
          "categories": [
           {
            "name": "<1H OCEAN",
            "count": 3
           },
           {
            "name": "NEAR BAY",
            "count": 1
           },
           {
            "name": "NEAR OCEAN",
            "count": 1
           }
          ]
         }
        },
        {
         "name": "_deepnote_index_column",
         "dtype": "int64"
        }
       ],
       "rows": [
        {
         "longitude": -122.08,
         "latitude": 37.88,
         "housing_median_age": 26,
         "total_rooms": 2947,
         "total_bedrooms": 433,
         "population": 825,
         "households": 626,
         "median_income": 2.933,
         "ocean_proximity": "NEAR BAY",
         "_deepnote_index_column": 1606
        },
        {
         "longitude": -117.87,
         "latitude": 33.73,
         "housing_median_age": 45,
         "total_rooms": 2264,
         "total_bedrooms": 433,
         "population": 1970,
         "households": 499,
         "median_income": 3.4193,
         "ocean_proximity": "<1H OCEAN",
         "_deepnote_index_column": 10915
        },
        {
         "longitude": -122.7,
         "latitude": 38.35,
         "housing_median_age": 14,
         "total_rooms": 2313,
         "total_bedrooms": 433,
         "population": 954,
         "households": 397,
         "median_income": 3.7813,
         "ocean_proximity": "<1H OCEAN",
         "_deepnote_index_column": 19150
        },
        {
         "longitude": -118.23,
         "latitude": 34.13,
         "housing_median_age": 48,
         "total_rooms": 1308,
         "total_bedrooms": 433,
         "population": 835,
         "households": 294,
         "median_income": 4.2891,
         "ocean_proximity": "<1H OCEAN",
         "_deepnote_index_column": 4186
        },
        {
         "longitude": -122.4,
         "latitude": 37.58,
         "housing_median_age": 26,
         "total_rooms": 3281,
         "total_bedrooms": 433,
         "population": 1145,
         "households": 480,
         "median_income": 6.358,
         "ocean_proximity": "NEAR OCEAN",
         "_deepnote_index_column": 16885
        }
       ]
      },
      "text/plain": "       longitude  latitude  housing_median_age  total_rooms  total_bedrooms  \\\n1606     -122.08     37.88                26.0       2947.0           433.0   \n10915    -117.87     33.73                45.0       2264.0           433.0   \n19150    -122.70     38.35                14.0       2313.0           433.0   \n4186     -118.23     34.13                48.0       1308.0           433.0   \n16885    -122.40     37.58                26.0       3281.0           433.0   \n\n       population  households  median_income ocean_proximity  \n1606        825.0       626.0         2.9330        NEAR BAY  \n10915      1970.0       499.0         3.4193       <1H OCEAN  \n19150       954.0       397.0         3.7813       <1H OCEAN  \n4186        835.0       294.0         4.2891       <1H OCEAN  \n16885      1145.0       480.0         6.3580      NEAR OCEAN  ",
      "text/html": "<div>\n<style scoped>\n    .dataframe tbody tr th:only-of-type {\n        vertical-align: middle;\n    }\n\n    .dataframe tbody tr th {\n        vertical-align: top;\n    }\n\n    .dataframe thead th {\n        text-align: right;\n    }\n</style>\n<table border=\"1\" class=\"dataframe\">\n  <thead>\n    <tr style=\"text-align: right;\">\n      <th></th>\n      <th>longitude</th>\n      <th>latitude</th>\n      <th>housing_median_age</th>\n      <th>total_rooms</th>\n      <th>total_bedrooms</th>\n      <th>population</th>\n      <th>households</th>\n      <th>median_income</th>\n      <th>ocean_proximity</th>\n    </tr>\n  </thead>\n  <tbody>\n    <tr>\n      <th>1606</th>\n      <td>-122.08</td>\n      <td>37.88</td>\n      <td>26.0</td>\n      <td>2947.0</td>\n      <td>433.0</td>\n      <td>825.0</td>\n      <td>626.0</td>\n      <td>2.9330</td>\n      <td>NEAR BAY</td>\n    </tr>\n    <tr>\n      <th>10915</th>\n      <td>-117.87</td>\n      <td>33.73</td>\n      <td>45.0</td>\n      <td>2264.0</td>\n      <td>433.0</td>\n      <td>1970.0</td>\n      <td>499.0</td>\n      <td>3.4193</td>\n      <td>&lt;1H OCEAN</td>\n    </tr>\n    <tr>\n      <th>19150</th>\n      <td>-122.70</td>\n      <td>38.35</td>\n      <td>14.0</td>\n      <td>2313.0</td>\n      <td>433.0</td>\n      <td>954.0</td>\n      <td>397.0</td>\n      <td>3.7813</td>\n      <td>&lt;1H OCEAN</td>\n    </tr>\n    <tr>\n      <th>4186</th>\n      <td>-118.23</td>\n      <td>34.13</td>\n      <td>48.0</td>\n      <td>1308.0</td>\n      <td>433.0</td>\n      <td>835.0</td>\n      <td>294.0</td>\n      <td>4.2891</td>\n      <td>&lt;1H OCEAN</td>\n    </tr>\n    <tr>\n      <th>16885</th>\n      <td>-122.40</td>\n      <td>37.58</td>\n      <td>26.0</td>\n      <td>3281.0</td>\n      <td>433.0</td>\n      <td>1145.0</td>\n      <td>480.0</td>\n      <td>6.3580</td>\n      <td>NEAR OCEAN</td>\n    </tr>\n  </tbody>\n</table>\n</div>"
     },
     "metadata": {}
    }
   ],
   "execution_count": 30
  },
  {
   "cell_type": "code",
   "source": "from sklearn.impute import SimpleImputer\nimputer = SimpleImputer(strategy=\"median\")",
   "metadata": {
    "cell_id": "e3874d8a127a413cb56a6092dcf337f4",
    "tags": [],
    "deepnote_to_be_reexecuted": false,
    "source_hash": "ef549bfe",
    "execution_start": 1649071746870,
    "execution_millis": 149,
    "deepnote_cell_type": "code",
    "deepnote_cell_height": 99
   },
   "outputs": [],
   "execution_count": 31
  },
  {
   "cell_type": "code",
   "source": "housing_num = housing.select_dtypes(include=[np.number])\nhousing_num",
   "metadata": {
    "cell_id": "a36f372d4d2f4b04ab04c81a85432bd7",
    "tags": [],
    "deepnote_to_be_reexecuted": false,
    "source_hash": "3d8f5051",
    "execution_start": 1649071747060,
    "execution_millis": 155,
    "deepnote_cell_type": "code",
    "deepnote_cell_height": 656.65625
   },
   "outputs": [
    {
     "output_type": "execute_result",
     "execution_count": 32,
     "data": {
      "application/vnd.deepnote.dataframe.v3+json": {
       "column_count": 8,
       "row_count": 16512,
       "columns": [
        {
         "name": "longitude",
         "dtype": "float64",
         "stats": {
          "unique_count": 825,
          "nan_count": 0,
          "min": "-124.35",
          "max": "-114.31",
          "histogram": [
           {
            "bin_start": -124.35,
            "bin_end": -123.34599999999999,
            "count": 154
           },
           {
            "bin_start": -123.34599999999999,
            "bin_end": -122.342,
            "count": 1232
           },
           {
            "bin_start": -122.342,
            "bin_end": -121.338,
            "count": 3665
           },
           {
            "bin_start": -121.338,
            "bin_end": -120.334,
            "count": 1351
           },
           {
            "bin_start": -120.334,
            "bin_end": -119.33,
            "count": 886
           },
           {
            "bin_start": -119.33,
            "bin_end": -118.326,
            "count": 2328
           },
           {
            "bin_start": -118.326,
            "bin_end": -117.322,
            "count": 4935
           },
           {
            "bin_start": -117.322,
            "bin_end": -116.318,
            "count": 1787
           },
           {
            "bin_start": -116.318,
            "bin_end": -115.31400000000001,
            "count": 152
           },
           {
            "bin_start": -115.31400000000001,
            "bin_end": -114.31,
            "count": 22
           }
          ]
         }
        },
        {
         "name": "latitude",
         "dtype": "float64",
         "stats": {
          "unique_count": 839,
          "nan_count": 0,
          "min": "32.54",
          "max": "41.95",
          "histogram": [
           {
            "bin_start": 32.54,
            "bin_end": 33.481,
            "count": 1445
           },
           {
            "bin_start": 33.481,
            "bin_end": 34.422,
            "count": 7144
           },
           {
            "bin_start": 34.422,
            "bin_end": 35.363,
            "count": 614
           },
           {
            "bin_start": 35.363,
            "bin_end": 36.304,
            "count": 379
           },
           {
            "bin_start": 36.304,
            "bin_end": 37.245000000000005,
            "count": 1031
           },
           {
            "bin_start": 37.245000000000005,
            "bin_end": 38.186,
            "count": 3786
           },
           {
            "bin_start": 38.186,
            "bin_end": 39.127,
            "count": 1406
           },
           {
            "bin_start": 39.127,
            "bin_end": 40.068000000000005,
            "count": 377
           },
           {
            "bin_start": 40.068000000000005,
            "bin_end": 41.009,
            "count": 264
           },
           {
            "bin_start": 41.009,
            "bin_end": 41.95,
            "count": 66
           }
          ]
         }
        },
        {
         "name": "housing_median_age",
         "dtype": "float64",
         "stats": {
          "unique_count": 52,
          "nan_count": 0,
          "min": "1.0",
          "max": "52.0",
          "histogram": [
           {
            "bin_start": 1,
            "bin_end": 6.1,
            "count": 569
           },
           {
            "bin_start": 6.1,
            "bin_end": 11.2,
            "count": 890
           },
           {
            "bin_start": 11.2,
            "bin_end": 16.299999999999997,
            "count": 1780
           },
           {
            "bin_start": 16.299999999999997,
            "bin_end": 21.4,
            "count": 2155
           },
           {
            "bin_start": 21.4,
            "bin_end": 26.5,
            "count": 1981
           },
           {
            "bin_start": 26.5,
            "bin_end": 31.599999999999998,
            "count": 1892
           },
           {
            "bin_start": 31.599999999999998,
            "bin_end": 36.699999999999996,
            "count": 2874
           },
           {
            "bin_start": 36.699999999999996,
            "bin_end": 41.8,
            "count": 1522
           },
           {
            "bin_start": 41.8,
            "bin_end": 46.9,
            "count": 1271
           },
           {
            "bin_start": 46.9,
            "bin_end": 52,
            "count": 1578
           }
          ]
         }
        },
        {
         "name": "total_rooms",
         "dtype": "float64",
         "stats": {
          "unique_count": 5494,
          "nan_count": 0,
          "min": "6.0",
          "max": "39320.0",
          "histogram": [
           {
            "bin_start": 6,
            "bin_end": 3937.4,
            "count": 14040
           },
           {
            "bin_start": 3937.4,
            "bin_end": 7868.8,
            "count": 2034
           },
           {
            "bin_start": 7868.8,
            "bin_end": 11800.2,
            "count": 298
           },
           {
            "bin_start": 11800.2,
            "bin_end": 15731.6,
            "count": 84
           },
           {
            "bin_start": 15731.6,
            "bin_end": 19663,
            "count": 35
           },
           {
            "bin_start": 19663,
            "bin_end": 23594.4,
            "count": 11
           },
           {
            "bin_start": 23594.4,
            "bin_end": 27525.8,
            "count": 3
           },
           {
            "bin_start": 27525.8,
            "bin_end": 31457.2,
            "count": 4
           },
           {
            "bin_start": 31457.2,
            "bin_end": 35388.6,
            "count": 1
           },
           {
            "bin_start": 35388.6,
            "bin_end": 39320,
            "count": 2
           }
          ]
         }
        },
        {
         "name": "total_bedrooms",
         "dtype": "float64",
         "stats": {
          "unique_count": 1810,
          "nan_count": 158,
          "min": "2.0",
          "max": "6210.0",
          "histogram": [
           {
            "bin_start": 2,
            "bin_end": 622.8,
            "count": 11940
           },
           {
            "bin_start": 622.8,
            "bin_end": 1243.6,
            "count": 3548
           },
           {
            "bin_start": 1243.6,
            "bin_end": 1864.3999999999999,
            "count": 612
           },
           {
            "bin_start": 1864.3999999999999,
            "bin_end": 2485.2,
            "count": 144
           },
           {
            "bin_start": 2485.2,
            "bin_end": 3106,
            "count": 69
           },
           {
            "bin_start": 3106,
            "bin_end": 3726.7999999999997,
            "count": 20
           },
           {
            "bin_start": 3726.7999999999997,
            "bin_end": 4347.599999999999,
            "count": 11
           },
           {
            "bin_start": 4347.599999999999,
            "bin_end": 4968.4,
            "count": 6
           },
           {
            "bin_start": 4968.4,
            "bin_end": 5589.2,
            "count": 3
           },
           {
            "bin_start": 5589.2,
            "bin_end": 6210,
            "count": 1
           }
          ]
         }
        },
        {
         "name": "population",
         "dtype": "float64",
         "stats": {
          "unique_count": 3619,
          "nan_count": 0,
          "min": "3.0",
          "max": "35682.0",
          "histogram": [
           {
            "bin_start": 3,
            "bin_end": 3570.9,
            "count": 15862
           },
           {
            "bin_start": 3570.9,
            "bin_end": 7138.8,
            "count": 562
           },
           {
            "bin_start": 7138.8,
            "bin_end": 10706.7,
            "count": 75
           },
           {
            "bin_start": 10706.7,
            "bin_end": 14274.6,
            "count": 8
           },
           {
            "bin_start": 14274.6,
            "bin_end": 17842.5,
            "count": 4
           },
           {
            "bin_start": 17842.5,
            "bin_end": 21410.4,
            "count": 0
           },
           {
            "bin_start": 21410.4,
            "bin_end": 24978.3,
            "count": 0
           },
           {
            "bin_start": 24978.3,
            "bin_end": 28546.2,
            "count": 0
           },
           {
            "bin_start": 28546.2,
            "bin_end": 32114.100000000002,
            "count": 0
           },
           {
            "bin_start": 32114.100000000002,
            "bin_end": 35682,
            "count": 1
           }
          ]
         }
        },
        {
         "name": "households",
         "dtype": "float64"
        },
        {
         "name": "median_income",
         "dtype": "float64"
        },
        {
         "name": "_deepnote_index_column",
         "dtype": "int64"
        }
       ],
       "rows": [
        {
         "longitude": -121.46,
         "latitude": 38.52,
         "housing_median_age": 29,
         "total_rooms": 3873,
         "total_bedrooms": 797,
         "population": 2237,
         "households": 706,
         "median_income": 2.1736,
         "_deepnote_index_column": 12655
        },
        {
         "longitude": -117.23,
         "latitude": 33.09,
         "housing_median_age": 7,
         "total_rooms": 5320,
         "total_bedrooms": 855,
         "population": 2015,
         "households": 768,
         "median_income": 6.3373,
         "_deepnote_index_column": 15502
        },
        {
         "longitude": -119.04,
         "latitude": 35.37,
         "housing_median_age": 44,
         "total_rooms": 1618,
         "total_bedrooms": 310,
         "population": 667,
         "households": 300,
         "median_income": 2.875,
         "_deepnote_index_column": 2908
        },
        {
         "longitude": -117.13,
         "latitude": 32.75,
         "housing_median_age": 24,
         "total_rooms": 1877,
         "total_bedrooms": 519,
         "population": 898,
         "households": 483,
         "median_income": 2.2264,
         "_deepnote_index_column": 14053
        },
        {
         "longitude": -118.7,
         "latitude": 34.28,
         "housing_median_age": 27,
         "total_rooms": 3536,
         "total_bedrooms": 646,
         "population": 1837,
         "households": 580,
         "median_income": 4.4964,
         "_deepnote_index_column": 20496
        },
        {
         "longitude": -122.04,
         "latitude": 37.96,
         "housing_median_age": 28,
         "total_rooms": 1207,
         "total_bedrooms": 252,
         "population": 724,
         "households": 252,
         "median_income": 3.6964,
         "_deepnote_index_column": 1481
        },
        {
         "longitude": -122.03,
         "latitude": 37.33,
         "housing_median_age": 23,
         "total_rooms": 4221,
         "total_bedrooms": 671,
         "population": 1782,
         "households": 641,
         "median_income": 7.4863,
         "_deepnote_index_column": 18125
        },
        {
         "longitude": -118.31,
         "latitude": 34.2,
         "housing_median_age": 36,
         "total_rooms": 1692,
         "total_bedrooms": 263,
         "population": 778,
         "households": 278,
         "median_income": 5.0865,
         "_deepnote_index_column": 5830
        },
        {
         "longitude": -121.95,
         "latitude": 37.27,
         "housing_median_age": 17,
         "total_rooms": 1330,
         "total_bedrooms": 271,
         "population": 408,
         "households": 258,
         "median_income": 1.7171,
         "_deepnote_index_column": 17989
        },
        {
         "longitude": -118.28,
         "latitude": 34.02,
         "housing_median_age": 29,
         "total_rooms": 515,
         "total_bedrooms": 229,
         "population": 2690,
         "households": 217,
         "median_income": 0.4999,
         "_deepnote_index_column": 4861
        }
       ]
      },
      "text/plain": "       longitude  latitude  housing_median_age  total_rooms  total_bedrooms  \\\n12655    -121.46     38.52                29.0       3873.0           797.0   \n15502    -117.23     33.09                 7.0       5320.0           855.0   \n2908     -119.04     35.37                44.0       1618.0           310.0   \n14053    -117.13     32.75                24.0       1877.0           519.0   \n20496    -118.70     34.28                27.0       3536.0           646.0   \n...          ...       ...                 ...          ...             ...   \n15174    -117.07     33.03                14.0       6665.0          1231.0   \n12661    -121.42     38.51                15.0       7901.0          1422.0   \n19263    -122.72     38.44                48.0        707.0           166.0   \n19140    -122.70     38.31                14.0       3155.0           580.0   \n19773    -122.14     39.97                27.0       1079.0           222.0   \n\n       population  households  median_income  \n12655      2237.0       706.0         2.1736  \n15502      2015.0       768.0         6.3373  \n2908        667.0       300.0         2.8750  \n14053       898.0       483.0         2.2264  \n20496      1837.0       580.0         4.4964  \n...           ...         ...            ...  \n15174      2026.0      1001.0         5.0900  \n12661      4769.0      1418.0         2.8139  \n19263       458.0       172.0         3.1797  \n19140      1208.0       501.0         4.1964  \n19773       625.0       197.0         3.1319  \n\n[16512 rows x 8 columns]",
      "text/html": "<div>\n<style scoped>\n    .dataframe tbody tr th:only-of-type {\n        vertical-align: middle;\n    }\n\n    .dataframe tbody tr th {\n        vertical-align: top;\n    }\n\n    .dataframe thead th {\n        text-align: right;\n    }\n</style>\n<table border=\"1\" class=\"dataframe\">\n  <thead>\n    <tr style=\"text-align: right;\">\n      <th></th>\n      <th>longitude</th>\n      <th>latitude</th>\n      <th>housing_median_age</th>\n      <th>total_rooms</th>\n      <th>total_bedrooms</th>\n      <th>population</th>\n      <th>households</th>\n      <th>median_income</th>\n    </tr>\n  </thead>\n  <tbody>\n    <tr>\n      <th>12655</th>\n      <td>-121.46</td>\n      <td>38.52</td>\n      <td>29.0</td>\n      <td>3873.0</td>\n      <td>797.0</td>\n      <td>2237.0</td>\n      <td>706.0</td>\n      <td>2.1736</td>\n    </tr>\n    <tr>\n      <th>15502</th>\n      <td>-117.23</td>\n      <td>33.09</td>\n      <td>7.0</td>\n      <td>5320.0</td>\n      <td>855.0</td>\n      <td>2015.0</td>\n      <td>768.0</td>\n      <td>6.3373</td>\n    </tr>\n    <tr>\n      <th>2908</th>\n      <td>-119.04</td>\n      <td>35.37</td>\n      <td>44.0</td>\n      <td>1618.0</td>\n      <td>310.0</td>\n      <td>667.0</td>\n      <td>300.0</td>\n      <td>2.8750</td>\n    </tr>\n    <tr>\n      <th>14053</th>\n      <td>-117.13</td>\n      <td>32.75</td>\n      <td>24.0</td>\n      <td>1877.0</td>\n      <td>519.0</td>\n      <td>898.0</td>\n      <td>483.0</td>\n      <td>2.2264</td>\n    </tr>\n    <tr>\n      <th>20496</th>\n      <td>-118.70</td>\n      <td>34.28</td>\n      <td>27.0</td>\n      <td>3536.0</td>\n      <td>646.0</td>\n      <td>1837.0</td>\n      <td>580.0</td>\n      <td>4.4964</td>\n    </tr>\n    <tr>\n      <th>...</th>\n      <td>...</td>\n      <td>...</td>\n      <td>...</td>\n      <td>...</td>\n      <td>...</td>\n      <td>...</td>\n      <td>...</td>\n      <td>...</td>\n    </tr>\n    <tr>\n      <th>15174</th>\n      <td>-117.07</td>\n      <td>33.03</td>\n      <td>14.0</td>\n      <td>6665.0</td>\n      <td>1231.0</td>\n      <td>2026.0</td>\n      <td>1001.0</td>\n      <td>5.0900</td>\n    </tr>\n    <tr>\n      <th>12661</th>\n      <td>-121.42</td>\n      <td>38.51</td>\n      <td>15.0</td>\n      <td>7901.0</td>\n      <td>1422.0</td>\n      <td>4769.0</td>\n      <td>1418.0</td>\n      <td>2.8139</td>\n    </tr>\n    <tr>\n      <th>19263</th>\n      <td>-122.72</td>\n      <td>38.44</td>\n      <td>48.0</td>\n      <td>707.0</td>\n      <td>166.0</td>\n      <td>458.0</td>\n      <td>172.0</td>\n      <td>3.1797</td>\n    </tr>\n    <tr>\n      <th>19140</th>\n      <td>-122.70</td>\n      <td>38.31</td>\n      <td>14.0</td>\n      <td>3155.0</td>\n      <td>580.0</td>\n      <td>1208.0</td>\n      <td>501.0</td>\n      <td>4.1964</td>\n    </tr>\n    <tr>\n      <th>19773</th>\n      <td>-122.14</td>\n      <td>39.97</td>\n      <td>27.0</td>\n      <td>1079.0</td>\n      <td>222.0</td>\n      <td>625.0</td>\n      <td>197.0</td>\n      <td>3.1319</td>\n    </tr>\n  </tbody>\n</table>\n<p>16512 rows × 8 columns</p>\n</div>"
     },
     "metadata": {}
    }
   ],
   "execution_count": 32
  },
  {
   "cell_type": "code",
   "source": "imputer.fit(housing_num)",
   "metadata": {
    "cell_id": "f13e6c17dc1b4ea1bbace7dfc2f4c24a",
    "tags": [],
    "deepnote_to_be_reexecuted": false,
    "source_hash": "7087e29a",
    "execution_start": 1649071747217,
    "execution_millis": 30,
    "deepnote_cell_type": "code",
    "deepnote_cell_height": 118.1875,
    "deepnote_output_heights": [
     21.1875
    ]
   },
   "outputs": [
    {
     "output_type": "execute_result",
     "execution_count": 33,
     "data": {
      "text/plain": "SimpleImputer(strategy='median')"
     },
     "metadata": {}
    }
   ],
   "execution_count": 33
  },
  {
   "cell_type": "code",
   "source": "X = imputer.transform(housing_num)\n\nhousing_tr = pd.DataFrame(X, columns=housing_num.columns, index=housing_num.index)\nhousing_tr",
   "metadata": {
    "cell_id": "d13db417fae54f26bdbd29ae7a3fc1cd",
    "tags": [],
    "deepnote_to_be_reexecuted": false,
    "source_hash": "9c95c2ad",
    "execution_start": 1649071747253,
    "execution_millis": 165,
    "deepnote_cell_type": "code",
    "deepnote_cell_height": 692.65625
   },
   "outputs": [
    {
     "output_type": "execute_result",
     "execution_count": 34,
     "data": {
      "application/vnd.deepnote.dataframe.v3+json": {
       "column_count": 8,
       "row_count": 16512,
       "columns": [
        {
         "name": "longitude",
         "dtype": "float64",
         "stats": {
          "unique_count": 825,
          "nan_count": 0,
          "min": "-124.35",
          "max": "-114.31",
          "histogram": [
           {
            "bin_start": -124.35,
            "bin_end": -123.34599999999999,
            "count": 154
           },
           {
            "bin_start": -123.34599999999999,
            "bin_end": -122.342,
            "count": 1232
           },
           {
            "bin_start": -122.342,
            "bin_end": -121.338,
            "count": 3665
           },
           {
            "bin_start": -121.338,
            "bin_end": -120.334,
            "count": 1351
           },
           {
            "bin_start": -120.334,
            "bin_end": -119.33,
            "count": 886
           },
           {
            "bin_start": -119.33,
            "bin_end": -118.326,
            "count": 2328
           },
           {
            "bin_start": -118.326,
            "bin_end": -117.322,
            "count": 4935
           },
           {
            "bin_start": -117.322,
            "bin_end": -116.318,
            "count": 1787
           },
           {
            "bin_start": -116.318,
            "bin_end": -115.31400000000001,
            "count": 152
           },
           {
            "bin_start": -115.31400000000001,
            "bin_end": -114.31,
            "count": 22
           }
          ]
         }
        },
        {
         "name": "latitude",
         "dtype": "float64",
         "stats": {
          "unique_count": 839,
          "nan_count": 0,
          "min": "32.54",
          "max": "41.95",
          "histogram": [
           {
            "bin_start": 32.54,
            "bin_end": 33.481,
            "count": 1445
           },
           {
            "bin_start": 33.481,
            "bin_end": 34.422,
            "count": 7144
           },
           {
            "bin_start": 34.422,
            "bin_end": 35.363,
            "count": 614
           },
           {
            "bin_start": 35.363,
            "bin_end": 36.304,
            "count": 379
           },
           {
            "bin_start": 36.304,
            "bin_end": 37.245000000000005,
            "count": 1031
           },
           {
            "bin_start": 37.245000000000005,
            "bin_end": 38.186,
            "count": 3786
           },
           {
            "bin_start": 38.186,
            "bin_end": 39.127,
            "count": 1406
           },
           {
            "bin_start": 39.127,
            "bin_end": 40.068000000000005,
            "count": 377
           },
           {
            "bin_start": 40.068000000000005,
            "bin_end": 41.009,
            "count": 264
           },
           {
            "bin_start": 41.009,
            "bin_end": 41.95,
            "count": 66
           }
          ]
         }
        },
        {
         "name": "housing_median_age",
         "dtype": "float64",
         "stats": {
          "unique_count": 52,
          "nan_count": 0,
          "min": "1.0",
          "max": "52.0",
          "histogram": [
           {
            "bin_start": 1,
            "bin_end": 6.1,
            "count": 569
           },
           {
            "bin_start": 6.1,
            "bin_end": 11.2,
            "count": 890
           },
           {
            "bin_start": 11.2,
            "bin_end": 16.299999999999997,
            "count": 1780
           },
           {
            "bin_start": 16.299999999999997,
            "bin_end": 21.4,
            "count": 2155
           },
           {
            "bin_start": 21.4,
            "bin_end": 26.5,
            "count": 1981
           },
           {
            "bin_start": 26.5,
            "bin_end": 31.599999999999998,
            "count": 1892
           },
           {
            "bin_start": 31.599999999999998,
            "bin_end": 36.699999999999996,
            "count": 2874
           },
           {
            "bin_start": 36.699999999999996,
            "bin_end": 41.8,
            "count": 1522
           },
           {
            "bin_start": 41.8,
            "bin_end": 46.9,
            "count": 1271
           },
           {
            "bin_start": 46.9,
            "bin_end": 52,
            "count": 1578
           }
          ]
         }
        },
        {
         "name": "total_rooms",
         "dtype": "float64",
         "stats": {
          "unique_count": 5494,
          "nan_count": 0,
          "min": "6.0",
          "max": "39320.0",
          "histogram": [
           {
            "bin_start": 6,
            "bin_end": 3937.4,
            "count": 14040
           },
           {
            "bin_start": 3937.4,
            "bin_end": 7868.8,
            "count": 2034
           },
           {
            "bin_start": 7868.8,
            "bin_end": 11800.2,
            "count": 298
           },
           {
            "bin_start": 11800.2,
            "bin_end": 15731.6,
            "count": 84
           },
           {
            "bin_start": 15731.6,
            "bin_end": 19663,
            "count": 35
           },
           {
            "bin_start": 19663,
            "bin_end": 23594.4,
            "count": 11
           },
           {
            "bin_start": 23594.4,
            "bin_end": 27525.8,
            "count": 3
           },
           {
            "bin_start": 27525.8,
            "bin_end": 31457.2,
            "count": 4
           },
           {
            "bin_start": 31457.2,
            "bin_end": 35388.6,
            "count": 1
           },
           {
            "bin_start": 35388.6,
            "bin_end": 39320,
            "count": 2
           }
          ]
         }
        },
        {
         "name": "total_bedrooms",
         "dtype": "float64",
         "stats": {
          "unique_count": 1810,
          "nan_count": 0,
          "min": "2.0",
          "max": "6210.0",
          "histogram": [
           {
            "bin_start": 2,
            "bin_end": 622.8,
            "count": 12098
           },
           {
            "bin_start": 622.8,
            "bin_end": 1243.6,
            "count": 3548
           },
           {
            "bin_start": 1243.6,
            "bin_end": 1864.3999999999999,
            "count": 612
           },
           {
            "bin_start": 1864.3999999999999,
            "bin_end": 2485.2,
            "count": 144
           },
           {
            "bin_start": 2485.2,
            "bin_end": 3106,
            "count": 69
           },
           {
            "bin_start": 3106,
            "bin_end": 3726.7999999999997,
            "count": 20
           },
           {
            "bin_start": 3726.7999999999997,
            "bin_end": 4347.599999999999,
            "count": 11
           },
           {
            "bin_start": 4347.599999999999,
            "bin_end": 4968.4,
            "count": 6
           },
           {
            "bin_start": 4968.4,
            "bin_end": 5589.2,
            "count": 3
           },
           {
            "bin_start": 5589.2,
            "bin_end": 6210,
            "count": 1
           }
          ]
         }
        },
        {
         "name": "population",
         "dtype": "float64",
         "stats": {
          "unique_count": 3619,
          "nan_count": 0,
          "min": "3.0",
          "max": "35682.0",
          "histogram": [
           {
            "bin_start": 3,
            "bin_end": 3570.9,
            "count": 15862
           },
           {
            "bin_start": 3570.9,
            "bin_end": 7138.8,
            "count": 562
           },
           {
            "bin_start": 7138.8,
            "bin_end": 10706.7,
            "count": 75
           },
           {
            "bin_start": 10706.7,
            "bin_end": 14274.6,
            "count": 8
           },
           {
            "bin_start": 14274.6,
            "bin_end": 17842.5,
            "count": 4
           },
           {
            "bin_start": 17842.5,
            "bin_end": 21410.4,
            "count": 0
           },
           {
            "bin_start": 21410.4,
            "bin_end": 24978.3,
            "count": 0
           },
           {
            "bin_start": 24978.3,
            "bin_end": 28546.2,
            "count": 0
           },
           {
            "bin_start": 28546.2,
            "bin_end": 32114.100000000002,
            "count": 0
           },
           {
            "bin_start": 32114.100000000002,
            "bin_end": 35682,
            "count": 1
           }
          ]
         }
        },
        {
         "name": "households",
         "dtype": "float64"
        },
        {
         "name": "median_income",
         "dtype": "float64"
        },
        {
         "name": "_deepnote_index_column",
         "dtype": "int64"
        }
       ],
       "rows": [
        {
         "longitude": -121.46,
         "latitude": 38.52,
         "housing_median_age": 29,
         "total_rooms": 3873,
         "total_bedrooms": 797,
         "population": 2237,
         "households": 706,
         "median_income": 2.1736,
         "_deepnote_index_column": 12655
        },
        {
         "longitude": -117.23,
         "latitude": 33.09,
         "housing_median_age": 7,
         "total_rooms": 5320,
         "total_bedrooms": 855,
         "population": 2015,
         "households": 768,
         "median_income": 6.3373,
         "_deepnote_index_column": 15502
        },
        {
         "longitude": -119.04,
         "latitude": 35.37,
         "housing_median_age": 44,
         "total_rooms": 1618,
         "total_bedrooms": 310,
         "population": 667,
         "households": 300,
         "median_income": 2.875,
         "_deepnote_index_column": 2908
        },
        {
         "longitude": -117.13,
         "latitude": 32.75,
         "housing_median_age": 24,
         "total_rooms": 1877,
         "total_bedrooms": 519,
         "population": 898,
         "households": 483,
         "median_income": 2.2264,
         "_deepnote_index_column": 14053
        },
        {
         "longitude": -118.7,
         "latitude": 34.28,
         "housing_median_age": 27,
         "total_rooms": 3536,
         "total_bedrooms": 646,
         "population": 1837,
         "households": 580,
         "median_income": 4.4964,
         "_deepnote_index_column": 20496
        },
        {
         "longitude": -122.04,
         "latitude": 37.96,
         "housing_median_age": 28,
         "total_rooms": 1207,
         "total_bedrooms": 252,
         "population": 724,
         "households": 252,
         "median_income": 3.6964,
         "_deepnote_index_column": 1481
        },
        {
         "longitude": -122.03,
         "latitude": 37.33,
         "housing_median_age": 23,
         "total_rooms": 4221,
         "total_bedrooms": 671,
         "population": 1782,
         "households": 641,
         "median_income": 7.4863,
         "_deepnote_index_column": 18125
        },
        {
         "longitude": -118.31,
         "latitude": 34.2,
         "housing_median_age": 36,
         "total_rooms": 1692,
         "total_bedrooms": 263,
         "population": 778,
         "households": 278,
         "median_income": 5.0865,
         "_deepnote_index_column": 5830
        },
        {
         "longitude": -121.95,
         "latitude": 37.27,
         "housing_median_age": 17,
         "total_rooms": 1330,
         "total_bedrooms": 271,
         "population": 408,
         "households": 258,
         "median_income": 1.7171,
         "_deepnote_index_column": 17989
        },
        {
         "longitude": -118.28,
         "latitude": 34.02,
         "housing_median_age": 29,
         "total_rooms": 515,
         "total_bedrooms": 229,
         "population": 2690,
         "households": 217,
         "median_income": 0.4999,
         "_deepnote_index_column": 4861
        }
       ]
      },
      "text/plain": "       longitude  latitude  housing_median_age  total_rooms  total_bedrooms  \\\n12655    -121.46     38.52                29.0       3873.0           797.0   \n15502    -117.23     33.09                 7.0       5320.0           855.0   \n2908     -119.04     35.37                44.0       1618.0           310.0   \n14053    -117.13     32.75                24.0       1877.0           519.0   \n20496    -118.70     34.28                27.0       3536.0           646.0   \n...          ...       ...                 ...          ...             ...   \n15174    -117.07     33.03                14.0       6665.0          1231.0   \n12661    -121.42     38.51                15.0       7901.0          1422.0   \n19263    -122.72     38.44                48.0        707.0           166.0   \n19140    -122.70     38.31                14.0       3155.0           580.0   \n19773    -122.14     39.97                27.0       1079.0           222.0   \n\n       population  households  median_income  \n12655      2237.0       706.0         2.1736  \n15502      2015.0       768.0         6.3373  \n2908        667.0       300.0         2.8750  \n14053       898.0       483.0         2.2264  \n20496      1837.0       580.0         4.4964  \n...           ...         ...            ...  \n15174      2026.0      1001.0         5.0900  \n12661      4769.0      1418.0         2.8139  \n19263       458.0       172.0         3.1797  \n19140      1208.0       501.0         4.1964  \n19773       625.0       197.0         3.1319  \n\n[16512 rows x 8 columns]",
      "text/html": "<div>\n<style scoped>\n    .dataframe tbody tr th:only-of-type {\n        vertical-align: middle;\n    }\n\n    .dataframe tbody tr th {\n        vertical-align: top;\n    }\n\n    .dataframe thead th {\n        text-align: right;\n    }\n</style>\n<table border=\"1\" class=\"dataframe\">\n  <thead>\n    <tr style=\"text-align: right;\">\n      <th></th>\n      <th>longitude</th>\n      <th>latitude</th>\n      <th>housing_median_age</th>\n      <th>total_rooms</th>\n      <th>total_bedrooms</th>\n      <th>population</th>\n      <th>households</th>\n      <th>median_income</th>\n    </tr>\n  </thead>\n  <tbody>\n    <tr>\n      <th>12655</th>\n      <td>-121.46</td>\n      <td>38.52</td>\n      <td>29.0</td>\n      <td>3873.0</td>\n      <td>797.0</td>\n      <td>2237.0</td>\n      <td>706.0</td>\n      <td>2.1736</td>\n    </tr>\n    <tr>\n      <th>15502</th>\n      <td>-117.23</td>\n      <td>33.09</td>\n      <td>7.0</td>\n      <td>5320.0</td>\n      <td>855.0</td>\n      <td>2015.0</td>\n      <td>768.0</td>\n      <td>6.3373</td>\n    </tr>\n    <tr>\n      <th>2908</th>\n      <td>-119.04</td>\n      <td>35.37</td>\n      <td>44.0</td>\n      <td>1618.0</td>\n      <td>310.0</td>\n      <td>667.0</td>\n      <td>300.0</td>\n      <td>2.8750</td>\n    </tr>\n    <tr>\n      <th>14053</th>\n      <td>-117.13</td>\n      <td>32.75</td>\n      <td>24.0</td>\n      <td>1877.0</td>\n      <td>519.0</td>\n      <td>898.0</td>\n      <td>483.0</td>\n      <td>2.2264</td>\n    </tr>\n    <tr>\n      <th>20496</th>\n      <td>-118.70</td>\n      <td>34.28</td>\n      <td>27.0</td>\n      <td>3536.0</td>\n      <td>646.0</td>\n      <td>1837.0</td>\n      <td>580.0</td>\n      <td>4.4964</td>\n    </tr>\n    <tr>\n      <th>...</th>\n      <td>...</td>\n      <td>...</td>\n      <td>...</td>\n      <td>...</td>\n      <td>...</td>\n      <td>...</td>\n      <td>...</td>\n      <td>...</td>\n    </tr>\n    <tr>\n      <th>15174</th>\n      <td>-117.07</td>\n      <td>33.03</td>\n      <td>14.0</td>\n      <td>6665.0</td>\n      <td>1231.0</td>\n      <td>2026.0</td>\n      <td>1001.0</td>\n      <td>5.0900</td>\n    </tr>\n    <tr>\n      <th>12661</th>\n      <td>-121.42</td>\n      <td>38.51</td>\n      <td>15.0</td>\n      <td>7901.0</td>\n      <td>1422.0</td>\n      <td>4769.0</td>\n      <td>1418.0</td>\n      <td>2.8139</td>\n    </tr>\n    <tr>\n      <th>19263</th>\n      <td>-122.72</td>\n      <td>38.44</td>\n      <td>48.0</td>\n      <td>707.0</td>\n      <td>166.0</td>\n      <td>458.0</td>\n      <td>172.0</td>\n      <td>3.1797</td>\n    </tr>\n    <tr>\n      <th>19140</th>\n      <td>-122.70</td>\n      <td>38.31</td>\n      <td>14.0</td>\n      <td>3155.0</td>\n      <td>580.0</td>\n      <td>1208.0</td>\n      <td>501.0</td>\n      <td>4.1964</td>\n    </tr>\n    <tr>\n      <th>19773</th>\n      <td>-122.14</td>\n      <td>39.97</td>\n      <td>27.0</td>\n      <td>1079.0</td>\n      <td>222.0</td>\n      <td>625.0</td>\n      <td>197.0</td>\n      <td>3.1319</td>\n    </tr>\n  </tbody>\n</table>\n<p>16512 rows × 8 columns</p>\n</div>"
     },
     "metadata": {}
    }
   ],
   "execution_count": 34
  },
  {
   "cell_type": "code",
   "source": "imputer.strategy",
   "metadata": {
    "cell_id": "eab34c9974434be9b411d6c12264a765",
    "tags": [],
    "deepnote_to_be_reexecuted": false,
    "source_hash": "8bd337b3",
    "execution_start": 1649071747484,
    "execution_millis": 4030976,
    "deepnote_cell_type": "code",
    "deepnote_cell_height": 118.1875,
    "deepnote_output_heights": [
     21.1875
    ]
   },
   "outputs": [
    {
     "output_type": "execute_result",
     "execution_count": 35,
     "data": {
      "text/plain": "'median'"
     },
     "metadata": {}
    }
   ],
   "execution_count": 35
  },
  {
   "cell_type": "markdown",
   "source": "# Encode Categorical Variables",
   "metadata": {
    "cell_id": "66f633dd42ce462a8e495c6c4ff7a035",
    "tags": [],
    "is_collapsed": false,
    "deepnote_cell_type": "text-cell-h1"
   }
  },
  {
   "cell_type": "code",
   "source": "housing_cat = housing[[\"ocean_proximity\"]]\nhousing_cat.head(10)",
   "metadata": {
    "cell_id": "252dbfa766354a37976e5940c95c8daf",
    "tags": [],
    "deepnote_to_be_reexecuted": false,
    "source_hash": "d3699539",
    "execution_start": 1649071747523,
    "execution_millis": 2,
    "deepnote_cell_type": "code",
    "deepnote_cell_height": 616
   },
   "outputs": [
    {
     "output_type": "execute_result",
     "execution_count": 36,
     "data": {
      "application/vnd.deepnote.dataframe.v3+json": {
       "column_count": 1,
       "row_count": 10,
       "columns": [
        {
         "name": "ocean_proximity",
         "dtype": "object",
         "stats": {
          "unique_count": 4,
          "nan_count": 0,
          "categories": [
           {
            "name": "<1H OCEAN",
            "count": 5
           },
           {
            "name": "INLAND",
            "count": 2
           },
           {
            "name": "2 others",
            "count": 3
           }
          ]
         }
        },
        {
         "name": "_deepnote_index_column",
         "dtype": "int64"
        }
       ],
       "rows": [
        {
         "ocean_proximity": "INLAND",
         "_deepnote_index_column": 12655
        },
        {
         "ocean_proximity": "NEAR OCEAN",
         "_deepnote_index_column": 15502
        },
        {
         "ocean_proximity": "INLAND",
         "_deepnote_index_column": 2908
        },
        {
         "ocean_proximity": "NEAR OCEAN",
         "_deepnote_index_column": 14053
        },
        {
         "ocean_proximity": "<1H OCEAN",
         "_deepnote_index_column": 20496
        },
        {
         "ocean_proximity": "NEAR BAY",
         "_deepnote_index_column": 1481
        },
        {
         "ocean_proximity": "<1H OCEAN",
         "_deepnote_index_column": 18125
        },
        {
         "ocean_proximity": "<1H OCEAN",
         "_deepnote_index_column": 5830
        },
        {
         "ocean_proximity": "<1H OCEAN",
         "_deepnote_index_column": 17989
        },
        {
         "ocean_proximity": "<1H OCEAN",
         "_deepnote_index_column": 4861
        }
       ]
      },
      "text/plain": "      ocean_proximity\n12655          INLAND\n15502      NEAR OCEAN\n2908           INLAND\n14053      NEAR OCEAN\n20496       <1H OCEAN\n1481         NEAR BAY\n18125       <1H OCEAN\n5830        <1H OCEAN\n17989       <1H OCEAN\n4861        <1H OCEAN",
      "text/html": "<div>\n<style scoped>\n    .dataframe tbody tr th:only-of-type {\n        vertical-align: middle;\n    }\n\n    .dataframe tbody tr th {\n        vertical-align: top;\n    }\n\n    .dataframe thead th {\n        text-align: right;\n    }\n</style>\n<table border=\"1\" class=\"dataframe\">\n  <thead>\n    <tr style=\"text-align: right;\">\n      <th></th>\n      <th>ocean_proximity</th>\n    </tr>\n  </thead>\n  <tbody>\n    <tr>\n      <th>12655</th>\n      <td>INLAND</td>\n    </tr>\n    <tr>\n      <th>15502</th>\n      <td>NEAR OCEAN</td>\n    </tr>\n    <tr>\n      <th>2908</th>\n      <td>INLAND</td>\n    </tr>\n    <tr>\n      <th>14053</th>\n      <td>NEAR OCEAN</td>\n    </tr>\n    <tr>\n      <th>20496</th>\n      <td>&lt;1H OCEAN</td>\n    </tr>\n    <tr>\n      <th>1481</th>\n      <td>NEAR BAY</td>\n    </tr>\n    <tr>\n      <th>18125</th>\n      <td>&lt;1H OCEAN</td>\n    </tr>\n    <tr>\n      <th>5830</th>\n      <td>&lt;1H OCEAN</td>\n    </tr>\n    <tr>\n      <th>17989</th>\n      <td>&lt;1H OCEAN</td>\n    </tr>\n    <tr>\n      <th>4861</th>\n      <td>&lt;1H OCEAN</td>\n    </tr>\n  </tbody>\n</table>\n</div>"
     },
     "metadata": {}
    }
   ],
   "execution_count": 36
  },
  {
   "cell_type": "code",
   "source": "from sklearn.preprocessing import OrdinalEncoder\n\nordinal_encoder = OrdinalEncoder()\nhousing_cat_encoded = ordinal_encoder.fit_transform(housing_cat)\nhousing_cat_encoded[:10]",
   "metadata": {
    "cell_id": "b47b978cc4624c2f85d8daeb0a9b8631",
    "tags": [],
    "deepnote_to_be_reexecuted": false,
    "source_hash": "1a09c5fb",
    "execution_start": 1649071747524,
    "execution_millis": 2,
    "deepnote_cell_type": "code",
    "deepnote_cell_height": 362.96875,
    "deepnote_output_heights": [
     193.96875
    ]
   },
   "outputs": [
    {
     "output_type": "execute_result",
     "execution_count": 37,
     "data": {
      "text/plain": "array([[1.],\n       [4.],\n       [1.],\n       [4.],\n       [0.],\n       [3.],\n       [0.],\n       [0.],\n       [0.],\n       [0.]])"
     },
     "metadata": {}
    }
   ],
   "execution_count": 37
  },
  {
   "cell_type": "code",
   "source": "from sklearn.preprocessing import OneHotEncoder\n\ncat_encoder = OneHotEncoder(sparse=False)\nhousing_cat_1hot = cat_encoder.fit_transform(housing_cat)\n\nhousing_cat_1hot # Creates a \"dense array\" meaning that all instances have a value not just the ones that are encoded",
   "metadata": {
    "cell_id": "575b9c541c864a0e8b63c35f4a5acc16",
    "tags": [],
    "deepnote_to_be_reexecuted": false,
    "source_hash": "8bcec73a",
    "execution_start": 1649071747528,
    "execution_millis": 8,
    "deepnote_cell_type": "code",
    "deepnote_cell_height": 323.375,
    "deepnote_output_heights": [
     136.375
    ]
   },
   "outputs": [
    {
     "output_type": "execute_result",
     "execution_count": 38,
     "data": {
      "text/plain": "array([[0., 1., 0., 0., 0.],\n       [0., 0., 0., 0., 1.],\n       [0., 1., 0., 0., 0.],\n       ...,\n       [1., 0., 0., 0., 0.],\n       [1., 0., 0., 0., 0.],\n       [0., 1., 0., 0., 0.]])"
     },
     "metadata": {}
    }
   ],
   "execution_count": 38
  },
  {
   "cell_type": "markdown",
   "source": "# Feature Engineering",
   "metadata": {
    "cell_id": "0e80d7910d764f2b81ea2e6e43076acc",
    "tags": [],
    "is_collapsed": false,
    "deepnote_cell_type": "text-cell-h1"
   }
  },
  {
   "cell_type": "code",
   "source": "def feature_engineering(data):\n    data[\"bedrooms_per_household\"] = data[\"total_bedrooms\"] / data[\"households\"]\n    data[\"population_per_household\"] = data[\"population\"] / data[\"households\"]\n    data[\"rooms_per_household\"] = data[\"total_rooms\"] / data[\"households\"]\n\n    return data",
   "metadata": {
    "cell_id": "e48b520cc6fd4208b56ae3fb9a34eb52",
    "tags": [],
    "deepnote_to_be_reexecuted": false,
    "source_hash": "babd7fb9",
    "execution_start": 1649071747544,
    "execution_millis": 4,
    "deepnote_cell_type": "code",
    "deepnote_cell_height": 171
   },
   "outputs": [],
   "execution_count": 39
  },
  {
   "cell_type": "code",
   "source": "housing_feature_engineered = feature_engineering(housing_num)\nhousing_feature_engineered",
   "metadata": {
    "cell_id": "95599fe1849644ef9a5d7cb9ae4a5409",
    "tags": [],
    "deepnote_to_be_reexecuted": false,
    "source_hash": "30801353",
    "execution_start": 1649071747596,
    "execution_millis": 149,
    "deepnote_cell_type": "code",
    "deepnote_cell_height": 656.65625
   },
   "outputs": [
    {
     "output_type": "execute_result",
     "execution_count": 40,
     "data": {
      "application/vnd.deepnote.dataframe.v3+json": {
       "column_count": 11,
       "row_count": 16512,
       "columns": [
        {
         "name": "longitude",
         "dtype": "float64",
         "stats": {
          "unique_count": 825,
          "nan_count": 0,
          "min": "-124.35",
          "max": "-114.31",
          "histogram": [
           {
            "bin_start": -124.35,
            "bin_end": -123.34599999999999,
            "count": 154
           },
           {
            "bin_start": -123.34599999999999,
            "bin_end": -122.342,
            "count": 1232
           },
           {
            "bin_start": -122.342,
            "bin_end": -121.338,
            "count": 3665
           },
           {
            "bin_start": -121.338,
            "bin_end": -120.334,
            "count": 1351
           },
           {
            "bin_start": -120.334,
            "bin_end": -119.33,
            "count": 886
           },
           {
            "bin_start": -119.33,
            "bin_end": -118.326,
            "count": 2328
           },
           {
            "bin_start": -118.326,
            "bin_end": -117.322,
            "count": 4935
           },
           {
            "bin_start": -117.322,
            "bin_end": -116.318,
            "count": 1787
           },
           {
            "bin_start": -116.318,
            "bin_end": -115.31400000000001,
            "count": 152
           },
           {
            "bin_start": -115.31400000000001,
            "bin_end": -114.31,
            "count": 22
           }
          ]
         }
        },
        {
         "name": "latitude",
         "dtype": "float64",
         "stats": {
          "unique_count": 839,
          "nan_count": 0,
          "min": "32.54",
          "max": "41.95",
          "histogram": [
           {
            "bin_start": 32.54,
            "bin_end": 33.481,
            "count": 1445
           },
           {
            "bin_start": 33.481,
            "bin_end": 34.422,
            "count": 7144
           },
           {
            "bin_start": 34.422,
            "bin_end": 35.363,
            "count": 614
           },
           {
            "bin_start": 35.363,
            "bin_end": 36.304,
            "count": 379
           },
           {
            "bin_start": 36.304,
            "bin_end": 37.245000000000005,
            "count": 1031
           },
           {
            "bin_start": 37.245000000000005,
            "bin_end": 38.186,
            "count": 3786
           },
           {
            "bin_start": 38.186,
            "bin_end": 39.127,
            "count": 1406
           },
           {
            "bin_start": 39.127,
            "bin_end": 40.068000000000005,
            "count": 377
           },
           {
            "bin_start": 40.068000000000005,
            "bin_end": 41.009,
            "count": 264
           },
           {
            "bin_start": 41.009,
            "bin_end": 41.95,
            "count": 66
           }
          ]
         }
        },
        {
         "name": "housing_median_age",
         "dtype": "float64",
         "stats": {
          "unique_count": 52,
          "nan_count": 0,
          "min": "1.0",
          "max": "52.0",
          "histogram": [
           {
            "bin_start": 1,
            "bin_end": 6.1,
            "count": 569
           },
           {
            "bin_start": 6.1,
            "bin_end": 11.2,
            "count": 890
           },
           {
            "bin_start": 11.2,
            "bin_end": 16.299999999999997,
            "count": 1780
           },
           {
            "bin_start": 16.299999999999997,
            "bin_end": 21.4,
            "count": 2155
           },
           {
            "bin_start": 21.4,
            "bin_end": 26.5,
            "count": 1981
           },
           {
            "bin_start": 26.5,
            "bin_end": 31.599999999999998,
            "count": 1892
           },
           {
            "bin_start": 31.599999999999998,
            "bin_end": 36.699999999999996,
            "count": 2874
           },
           {
            "bin_start": 36.699999999999996,
            "bin_end": 41.8,
            "count": 1522
           },
           {
            "bin_start": 41.8,
            "bin_end": 46.9,
            "count": 1271
           },
           {
            "bin_start": 46.9,
            "bin_end": 52,
            "count": 1578
           }
          ]
         }
        },
        {
         "name": "total_rooms",
         "dtype": "float64",
         "stats": {
          "unique_count": 5494,
          "nan_count": 0,
          "min": "6.0",
          "max": "39320.0",
          "histogram": [
           {
            "bin_start": 6,
            "bin_end": 3937.4,
            "count": 14040
           },
           {
            "bin_start": 3937.4,
            "bin_end": 7868.8,
            "count": 2034
           },
           {
            "bin_start": 7868.8,
            "bin_end": 11800.2,
            "count": 298
           },
           {
            "bin_start": 11800.2,
            "bin_end": 15731.6,
            "count": 84
           },
           {
            "bin_start": 15731.6,
            "bin_end": 19663,
            "count": 35
           },
           {
            "bin_start": 19663,
            "bin_end": 23594.4,
            "count": 11
           },
           {
            "bin_start": 23594.4,
            "bin_end": 27525.8,
            "count": 3
           },
           {
            "bin_start": 27525.8,
            "bin_end": 31457.2,
            "count": 4
           },
           {
            "bin_start": 31457.2,
            "bin_end": 35388.6,
            "count": 1
           },
           {
            "bin_start": 35388.6,
            "bin_end": 39320,
            "count": 2
           }
          ]
         }
        },
        {
         "name": "total_bedrooms",
         "dtype": "float64",
         "stats": {
          "unique_count": 1810,
          "nan_count": 158,
          "min": "2.0",
          "max": "6210.0",
          "histogram": [
           {
            "bin_start": 2,
            "bin_end": 622.8,
            "count": 11940
           },
           {
            "bin_start": 622.8,
            "bin_end": 1243.6,
            "count": 3548
           },
           {
            "bin_start": 1243.6,
            "bin_end": 1864.3999999999999,
            "count": 612
           },
           {
            "bin_start": 1864.3999999999999,
            "bin_end": 2485.2,
            "count": 144
           },
           {
            "bin_start": 2485.2,
            "bin_end": 3106,
            "count": 69
           },
           {
            "bin_start": 3106,
            "bin_end": 3726.7999999999997,
            "count": 20
           },
           {
            "bin_start": 3726.7999999999997,
            "bin_end": 4347.599999999999,
            "count": 11
           },
           {
            "bin_start": 4347.599999999999,
            "bin_end": 4968.4,
            "count": 6
           },
           {
            "bin_start": 4968.4,
            "bin_end": 5589.2,
            "count": 3
           },
           {
            "bin_start": 5589.2,
            "bin_end": 6210,
            "count": 1
           }
          ]
         }
        },
        {
         "name": "population",
         "dtype": "float64",
         "stats": {
          "unique_count": 3619,
          "nan_count": 0,
          "min": "3.0",
          "max": "35682.0",
          "histogram": [
           {
            "bin_start": 3,
            "bin_end": 3570.9,
            "count": 15862
           },
           {
            "bin_start": 3570.9,
            "bin_end": 7138.8,
            "count": 562
           },
           {
            "bin_start": 7138.8,
            "bin_end": 10706.7,
            "count": 75
           },
           {
            "bin_start": 10706.7,
            "bin_end": 14274.6,
            "count": 8
           },
           {
            "bin_start": 14274.6,
            "bin_end": 17842.5,
            "count": 4
           },
           {
            "bin_start": 17842.5,
            "bin_end": 21410.4,
            "count": 0
           },
           {
            "bin_start": 21410.4,
            "bin_end": 24978.3,
            "count": 0
           },
           {
            "bin_start": 24978.3,
            "bin_end": 28546.2,
            "count": 0
           },
           {
            "bin_start": 28546.2,
            "bin_end": 32114.100000000002,
            "count": 0
           },
           {
            "bin_start": 32114.100000000002,
            "bin_end": 35682,
            "count": 1
           }
          ]
         }
        },
        {
         "name": "households",
         "dtype": "float64"
        },
        {
         "name": "median_income",
         "dtype": "float64"
        },
        {
         "name": "bedrooms_per_household",
         "dtype": "float64"
        },
        {
         "name": "population_per_household",
         "dtype": "float64"
        },
        {
         "name": "rooms_per_household",
         "dtype": "float64"
        },
        {
         "name": "_deepnote_index_column",
         "dtype": "int64"
        }
       ],
       "rows": [
        {
         "longitude": -121.46,
         "latitude": 38.52,
         "housing_median_age": 29,
         "total_rooms": 3873,
         "total_bedrooms": 797,
         "population": 2237,
         "households": 706,
         "median_income": 2.1736,
         "bedrooms_per_household": 1.1288951841359773,
         "population_per_household": 3.168555240793201,
         "rooms_per_household": 5.485835694050992,
         "_deepnote_index_column": 12655
        },
        {
         "longitude": -117.23,
         "latitude": 33.09,
         "housing_median_age": 7,
         "total_rooms": 5320,
         "total_bedrooms": 855,
         "population": 2015,
         "households": 768,
         "median_income": 6.3373,
         "bedrooms_per_household": 1.11328125,
         "population_per_household": 2.6236979166666665,
         "rooms_per_household": 6.927083333333333,
         "_deepnote_index_column": 15502
        },
        {
         "longitude": -119.04,
         "latitude": 35.37,
         "housing_median_age": 44,
         "total_rooms": 1618,
         "total_bedrooms": 310,
         "population": 667,
         "households": 300,
         "median_income": 2.875,
         "bedrooms_per_household": 1.0333333333333334,
         "population_per_household": 2.223333333333333,
         "rooms_per_household": 5.3933333333333335,
         "_deepnote_index_column": 2908
        },
        {
         "longitude": -117.13,
         "latitude": 32.75,
         "housing_median_age": 24,
         "total_rooms": 1877,
         "total_bedrooms": 519,
         "population": 898,
         "households": 483,
         "median_income": 2.2264,
         "bedrooms_per_household": 1.0745341614906831,
         "population_per_household": 1.8592132505175984,
         "rooms_per_household": 3.886128364389234,
         "_deepnote_index_column": 14053
        },
        {
         "longitude": -118.7,
         "latitude": 34.28,
         "housing_median_age": 27,
         "total_rooms": 3536,
         "total_bedrooms": 646,
         "population": 1837,
         "households": 580,
         "median_income": 4.4964,
         "bedrooms_per_household": 1.1137931034482758,
         "population_per_household": 3.1672413793103447,
         "rooms_per_household": 6.096551724137931,
         "_deepnote_index_column": 20496
        },
        {
         "longitude": -122.04,
         "latitude": 37.96,
         "housing_median_age": 28,
         "total_rooms": 1207,
         "total_bedrooms": 252,
         "population": 724,
         "households": 252,
         "median_income": 3.6964,
         "bedrooms_per_household": 1,
         "population_per_household": 2.873015873015873,
         "rooms_per_household": 4.7896825396825395,
         "_deepnote_index_column": 1481
        },
        {
         "longitude": -122.03,
         "latitude": 37.33,
         "housing_median_age": 23,
         "total_rooms": 4221,
         "total_bedrooms": 671,
         "population": 1782,
         "households": 641,
         "median_income": 7.4863,
         "bedrooms_per_household": 1.046801872074883,
         "population_per_household": 2.78003120124805,
         "rooms_per_household": 6.585023400936038,
         "_deepnote_index_column": 18125
        },
        {
         "longitude": -118.31,
         "latitude": 34.2,
         "housing_median_age": 36,
         "total_rooms": 1692,
         "total_bedrooms": 263,
         "population": 778,
         "households": 278,
         "median_income": 5.0865,
         "bedrooms_per_household": 0.9460431654676259,
         "population_per_household": 2.7985611510791366,
         "rooms_per_household": 6.086330935251799,
         "_deepnote_index_column": 5830
        },
        {
         "longitude": -121.95,
         "latitude": 37.27,
         "housing_median_age": 17,
         "total_rooms": 1330,
         "total_bedrooms": 271,
         "population": 408,
         "households": 258,
         "median_income": 1.7171,
         "bedrooms_per_household": 1.050387596899225,
         "population_per_household": 1.5813953488372092,
         "rooms_per_household": 5.155038759689923,
         "_deepnote_index_column": 17989
        },
        {
         "longitude": -118.28,
         "latitude": 34.02,
         "housing_median_age": 29,
         "total_rooms": 515,
         "total_bedrooms": 229,
         "population": 2690,
         "households": 217,
         "median_income": 0.4999,
         "bedrooms_per_household": 1.055299539170507,
         "population_per_household": 12.396313364055299,
         "rooms_per_household": 2.3732718894009217,
         "_deepnote_index_column": 4861
        }
       ]
      },
      "text/plain": "       longitude  latitude  housing_median_age  total_rooms  total_bedrooms  \\\n12655    -121.46     38.52                29.0       3873.0           797.0   \n15502    -117.23     33.09                 7.0       5320.0           855.0   \n2908     -119.04     35.37                44.0       1618.0           310.0   \n14053    -117.13     32.75                24.0       1877.0           519.0   \n20496    -118.70     34.28                27.0       3536.0           646.0   \n...          ...       ...                 ...          ...             ...   \n15174    -117.07     33.03                14.0       6665.0          1231.0   \n12661    -121.42     38.51                15.0       7901.0          1422.0   \n19263    -122.72     38.44                48.0        707.0           166.0   \n19140    -122.70     38.31                14.0       3155.0           580.0   \n19773    -122.14     39.97                27.0       1079.0           222.0   \n\n       population  households  median_income  bedrooms_per_household  \\\n12655      2237.0       706.0         2.1736                1.128895   \n15502      2015.0       768.0         6.3373                1.113281   \n2908        667.0       300.0         2.8750                1.033333   \n14053       898.0       483.0         2.2264                1.074534   \n20496      1837.0       580.0         4.4964                1.113793   \n...           ...         ...            ...                     ...   \n15174      2026.0      1001.0         5.0900                1.229770   \n12661      4769.0      1418.0         2.8139                1.002821   \n19263       458.0       172.0         3.1797                0.965116   \n19140      1208.0       501.0         4.1964                1.157685   \n19773       625.0       197.0         3.1319                1.126904   \n\n       population_per_household  rooms_per_household  \n12655                  3.168555             5.485836  \n15502                  2.623698             6.927083  \n2908                   2.223333             5.393333  \n14053                  1.859213             3.886128  \n20496                  3.167241             6.096552  \n...                         ...                  ...  \n15174                  2.023976             6.658342  \n12661                  3.363188             5.571932  \n19263                  2.662791             4.110465  \n19140                  2.411178             6.297405  \n19773                  3.172589             5.477157  \n\n[16512 rows x 11 columns]",
      "text/html": "<div>\n<style scoped>\n    .dataframe tbody tr th:only-of-type {\n        vertical-align: middle;\n    }\n\n    .dataframe tbody tr th {\n        vertical-align: top;\n    }\n\n    .dataframe thead th {\n        text-align: right;\n    }\n</style>\n<table border=\"1\" class=\"dataframe\">\n  <thead>\n    <tr style=\"text-align: right;\">\n      <th></th>\n      <th>longitude</th>\n      <th>latitude</th>\n      <th>housing_median_age</th>\n      <th>total_rooms</th>\n      <th>total_bedrooms</th>\n      <th>population</th>\n      <th>households</th>\n      <th>median_income</th>\n      <th>bedrooms_per_household</th>\n      <th>population_per_household</th>\n      <th>rooms_per_household</th>\n    </tr>\n  </thead>\n  <tbody>\n    <tr>\n      <th>12655</th>\n      <td>-121.46</td>\n      <td>38.52</td>\n      <td>29.0</td>\n      <td>3873.0</td>\n      <td>797.0</td>\n      <td>2237.0</td>\n      <td>706.0</td>\n      <td>2.1736</td>\n      <td>1.128895</td>\n      <td>3.168555</td>\n      <td>5.485836</td>\n    </tr>\n    <tr>\n      <th>15502</th>\n      <td>-117.23</td>\n      <td>33.09</td>\n      <td>7.0</td>\n      <td>5320.0</td>\n      <td>855.0</td>\n      <td>2015.0</td>\n      <td>768.0</td>\n      <td>6.3373</td>\n      <td>1.113281</td>\n      <td>2.623698</td>\n      <td>6.927083</td>\n    </tr>\n    <tr>\n      <th>2908</th>\n      <td>-119.04</td>\n      <td>35.37</td>\n      <td>44.0</td>\n      <td>1618.0</td>\n      <td>310.0</td>\n      <td>667.0</td>\n      <td>300.0</td>\n      <td>2.8750</td>\n      <td>1.033333</td>\n      <td>2.223333</td>\n      <td>5.393333</td>\n    </tr>\n    <tr>\n      <th>14053</th>\n      <td>-117.13</td>\n      <td>32.75</td>\n      <td>24.0</td>\n      <td>1877.0</td>\n      <td>519.0</td>\n      <td>898.0</td>\n      <td>483.0</td>\n      <td>2.2264</td>\n      <td>1.074534</td>\n      <td>1.859213</td>\n      <td>3.886128</td>\n    </tr>\n    <tr>\n      <th>20496</th>\n      <td>-118.70</td>\n      <td>34.28</td>\n      <td>27.0</td>\n      <td>3536.0</td>\n      <td>646.0</td>\n      <td>1837.0</td>\n      <td>580.0</td>\n      <td>4.4964</td>\n      <td>1.113793</td>\n      <td>3.167241</td>\n      <td>6.096552</td>\n    </tr>\n    <tr>\n      <th>...</th>\n      <td>...</td>\n      <td>...</td>\n      <td>...</td>\n      <td>...</td>\n      <td>...</td>\n      <td>...</td>\n      <td>...</td>\n      <td>...</td>\n      <td>...</td>\n      <td>...</td>\n      <td>...</td>\n    </tr>\n    <tr>\n      <th>15174</th>\n      <td>-117.07</td>\n      <td>33.03</td>\n      <td>14.0</td>\n      <td>6665.0</td>\n      <td>1231.0</td>\n      <td>2026.0</td>\n      <td>1001.0</td>\n      <td>5.0900</td>\n      <td>1.229770</td>\n      <td>2.023976</td>\n      <td>6.658342</td>\n    </tr>\n    <tr>\n      <th>12661</th>\n      <td>-121.42</td>\n      <td>38.51</td>\n      <td>15.0</td>\n      <td>7901.0</td>\n      <td>1422.0</td>\n      <td>4769.0</td>\n      <td>1418.0</td>\n      <td>2.8139</td>\n      <td>1.002821</td>\n      <td>3.363188</td>\n      <td>5.571932</td>\n    </tr>\n    <tr>\n      <th>19263</th>\n      <td>-122.72</td>\n      <td>38.44</td>\n      <td>48.0</td>\n      <td>707.0</td>\n      <td>166.0</td>\n      <td>458.0</td>\n      <td>172.0</td>\n      <td>3.1797</td>\n      <td>0.965116</td>\n      <td>2.662791</td>\n      <td>4.110465</td>\n    </tr>\n    <tr>\n      <th>19140</th>\n      <td>-122.70</td>\n      <td>38.31</td>\n      <td>14.0</td>\n      <td>3155.0</td>\n      <td>580.0</td>\n      <td>1208.0</td>\n      <td>501.0</td>\n      <td>4.1964</td>\n      <td>1.157685</td>\n      <td>2.411178</td>\n      <td>6.297405</td>\n    </tr>\n    <tr>\n      <th>19773</th>\n      <td>-122.14</td>\n      <td>39.97</td>\n      <td>27.0</td>\n      <td>1079.0</td>\n      <td>222.0</td>\n      <td>625.0</td>\n      <td>197.0</td>\n      <td>3.1319</td>\n      <td>1.126904</td>\n      <td>3.172589</td>\n      <td>5.477157</td>\n    </tr>\n  </tbody>\n</table>\n<p>16512 rows × 11 columns</p>\n</div>"
     },
     "metadata": {}
    }
   ],
   "execution_count": 40
  },
  {
   "cell_type": "markdown",
   "source": "# Scaling our Data",
   "metadata": {
    "cell_id": "a7fb0919f75e43c9af76ff579ab26e11",
    "tags": [],
    "is_collapsed": false,
    "deepnote_cell_type": "text-cell-h1"
   }
  },
  {
   "cell_type": "code",
   "source": "from sklearn.preprocessing import StandardScaler\n\nscaler = StandardScaler()\n\nhousing_scaled = scaler.fit_transform(housing_feature_engineered)\nhousing_scaled",
   "metadata": {
    "cell_id": "7c3f544abb5f4a6090118cf0d51f56c6",
    "tags": [],
    "deepnote_to_be_reexecuted": false,
    "source_hash": "23228da7",
    "execution_start": 1649071747753,
    "execution_millis": 84,
    "deepnote_cell_type": "code",
    "deepnote_cell_height": 439,
    "deepnote_output_heights": [
     251.5625
    ]
   },
   "outputs": [
    {
     "output_type": "execute_result",
     "execution_count": 41,
     "data": {
      "text/plain": "array([[-0.94135046,  1.34743822,  0.02756357, ...,  0.05896205,\n         0.00622264,  0.01739526],\n       [ 1.17178212, -1.19243966, -1.72201763, ...,  0.02830837,\n        -0.04081077,  0.56925554],\n       [ 0.26758118, -0.1259716 ,  1.22045984, ..., -0.1286475 ,\n        -0.07537122, -0.01802432],\n       ...,\n       [-1.5707942 ,  1.31001828,  1.53856552, ..., -0.26257303,\n        -0.03743619, -0.5092404 ],\n       [-1.56080303,  1.2492109 , -1.1653327 , ...,  0.11548226,\n        -0.05915604,  0.32814891],\n       [-1.28105026,  2.02567448, -0.13148926, ...,  0.05505203,\n         0.00657083,  0.01407228]])"
     },
     "metadata": {}
    }
   ],
   "execution_count": 41
  },
  {
   "cell_type": "code",
   "source": "housing = strat_train_set.drop(\"median_house_value\",axis=1)\nhousing_labels =strat_train_set[\"median_house_value\"].copy()\n\ndef data_transformations(data):\n\n    ### Separate Labels if they Exist ###\n\n    if \"median_house_value\" in data.columns:\n        labels = data[\"median_house_value\"]\n        data = data.drop(\"median_house_value\", axis=1)\n    else:\n        labels =None\n    \n    ### Feature Engineering ###\n    feature_engineered_data = feature_engineering(data)\n    features = list(feature_engineered_data.columns)  # Creating a list of our features for future use\n\n    ### Imputing Data ###\n    from sklearn.impute import SimpleImputer\n    imputer = SimpleImputer(strategy=\"median\")\n\n    housing_num = feature_engineered_data.select_dtypes(include=[np.number])\n    imputed = imputer.fit_transform(housing_num)\n\n    ### Encoding Categorical Data ###\n    housing_cat = feature_engineered_data.select_dtypes(exclude=[np.number])\n\n    from sklearn.preprocessing import OneHotEncoder\n    cat_encoder = OneHotEncoder(sparse=False)\n    housing_cat_1hot = cat_encoder.fit_transform(housing_cat)\n    features = features + cat_encoder.categories_[0].tolist()\n    features.remove(\"ocean_proximity\") # We're encoding this variable, so we don't need it in our list anymore\n\n\n    ### Scaling Numerical Data ###\n    from sklearn.preprocessing import StandardScaler\n    scaler = StandardScaler()\n\n    housing_scaled = scaler.fit_transform(imputed)\n\n    ### Concatening all Data ###\n    output = np.hstack([housing_scaled, housing_cat_1hot])\n\n    return output, labels, features ",
   "metadata": {
    "cell_id": "e2dbdf4e07c74c17b02efbbd916f8021",
    "tags": [],
    "deepnote_to_be_reexecuted": false,
    "source_hash": "877f04dd",
    "execution_start": 1649071747844,
    "execution_millis": 16,
    "deepnote_cell_type": "code",
    "deepnote_cell_height": 855
   },
   "outputs": [],
   "execution_count": 42
  },
  {
   "cell_type": "markdown",
   "source": "# Select and Train Model",
   "metadata": {
    "cell_id": "bd96c494f3c44f7cbfdd3e055ab953ee",
    "tags": [],
    "is_collapsed": false,
    "deepnote_cell_type": "text-cell-h1"
   }
  },
  {
   "cell_type": "code",
   "source": "train_data, train_labels, features= data_transformations(strat_train_set)\ntrain_data",
   "metadata": {
    "cell_id": "2d45ff3924354d1890dac61634230667",
    "tags": [],
    "deepnote_to_be_reexecuted": false,
    "source_hash": "f129385b",
    "execution_start": 1649071747863,
    "execution_millis": 121,
    "deepnote_cell_type": "code",
    "deepnote_cell_height": 367,
    "deepnote_output_heights": [
     251.5625
    ]
   },
   "outputs": [
    {
     "output_type": "execute_result",
     "execution_count": 43,
     "data": {
      "text/plain": "array([[-0.94135046,  1.34743822,  0.02756357, ...,  0.        ,\n         0.        ,  0.        ],\n       [ 1.17178212, -1.19243966, -1.72201763, ...,  0.        ,\n         0.        ,  1.        ],\n       [ 0.26758118, -0.1259716 ,  1.22045984, ...,  0.        ,\n         0.        ,  0.        ],\n       ...,\n       [-1.5707942 ,  1.31001828,  1.53856552, ...,  0.        ,\n         0.        ,  0.        ],\n       [-1.56080303,  1.2492109 , -1.1653327 , ...,  0.        ,\n         0.        ,  0.        ],\n       [-1.28105026,  2.02567448, -0.13148926, ...,  0.        ,\n         0.        ,  0.        ]])"
     },
     "metadata": {}
    }
   ],
   "execution_count": 43
  },
  {
   "cell_type": "code",
   "source": "features",
   "metadata": {
    "cell_id": "57355bb4171641d2b47b5c1494d2a1b2",
    "tags": [],
    "deepnote_to_be_reexecuted": false,
    "source_hash": "c80c10ef",
    "execution_start": 1649071748025,
    "execution_millis": 3,
    "deepnote_cell_type": "code",
    "deepnote_cell_height": 406.15625,
    "deepnote_output_heights": [
     309.15625
    ]
   },
   "outputs": [
    {
     "output_type": "execute_result",
     "execution_count": 44,
     "data": {
      "text/plain": "['longitude',\n 'latitude',\n 'housing_median_age',\n 'total_rooms',\n 'total_bedrooms',\n 'population',\n 'households',\n 'median_income',\n 'bedrooms_per_household',\n 'population_per_household',\n 'rooms_per_household',\n '<1H OCEAN',\n 'INLAND',\n 'ISLAND',\n 'NEAR BAY',\n 'NEAR OCEAN']"
     },
     "metadata": {}
    }
   ],
   "execution_count": 44
  },
  {
   "cell_type": "code",
   "source": "test_data, test_labels, features = data_transformations(strat_test_set)\ntest_data",
   "metadata": {
    "cell_id": "43d6e19062ce4c44853f80f0f6e83a36",
    "tags": [],
    "deepnote_to_be_reexecuted": false,
    "source_hash": "1404fdeb",
    "execution_start": 1649071748025,
    "execution_millis": 44,
    "deepnote_cell_type": "code",
    "deepnote_cell_height": 367,
    "deepnote_output_heights": [
     251.5625
    ]
   },
   "outputs": [
    {
     "output_type": "execute_result",
     "execution_count": 45,
     "data": {
      "text/plain": "array([[ 0.57507019, -0.69657252,  0.0329564 , ...,  0.        ,\n         0.        ,  0.        ],\n       [-0.43480141, -0.33466769, -0.36298077, ...,  0.        ,\n         0.        ,  0.        ],\n       [ 0.54522177, -0.63547171,  0.58726843, ...,  0.        ,\n         0.        ,  0.        ],\n       ...,\n       [-0.08656982, -0.54617051,  1.14158047, ...,  0.        ,\n         0.        ,  0.        ],\n       [ 0.81385757, -0.92687559,  0.11214383, ...,  0.        ,\n         0.        ,  0.        ],\n       [ 0.49049967, -0.66367208,  0.58726843, ...,  0.        ,\n         0.        ,  0.        ]])"
     },
     "metadata": {}
    }
   ],
   "execution_count": 45
  },
  {
   "cell_type": "markdown",
   "source": "# Linear Regression",
   "metadata": {
    "cell_id": "6fa91c9dbd6a49c58deef7e80b3393d1",
    "tags": [],
    "is_collapsed": false,
    "deepnote_cell_type": "text-cell-h1"
   }
  },
  {
   "cell_type": "code",
   "source": "from sklearn.linear_model import LinearRegression\n\nlin_reg = LinearRegression()\n\nlin_reg.fit(train_data, train_labels)",
   "metadata": {
    "cell_id": "a2fb11b63c7f41488243302bda8bedd6",
    "tags": [],
    "deepnote_to_be_reexecuted": false,
    "source_hash": "cf12d947",
    "execution_start": 1649071748112,
    "execution_millis": 53,
    "deepnote_cell_type": "code",
    "deepnote_cell_height": 190.1875,
    "deepnote_output_heights": [
     21.1875
    ]
   },
   "outputs": [
    {
     "output_type": "execute_result",
     "execution_count": 46,
     "data": {
      "text/plain": "LinearRegression()"
     },
     "metadata": {}
    }
   ],
   "execution_count": 46
  },
  {
   "cell_type": "code",
   "source": "original_values = test_labels[:5]\n\npredicted_values = lin_reg.predict(test_data[:5])\n\ncomparison_dataframe = pd.DataFrame(data={\"Original Values\":original_values, \"Predicted Values\":predicted_values})\n\ncomparison_dataframe[\"Differences\"] = comparison_dataframe[\"Original Values\"] - comparison_dataframe[\"Predicted Values\"]\n\ncomparison_dataframe",
   "metadata": {
    "cell_id": "217b97fca23d4338b772d598088298da",
    "tags": [],
    "deepnote_to_be_reexecuted": false,
    "source_hash": "f749ce08",
    "execution_start": 1649071748274,
    "execution_millis": 47,
    "deepnote_cell_type": "code",
    "deepnote_cell_height": 537
   },
   "outputs": [
    {
     "output_type": "execute_result",
     "execution_count": 47,
     "data": {
      "application/vnd.deepnote.dataframe.v3+json": {
       "column_count": 3,
       "row_count": 5,
       "columns": [
        {
         "name": "Original Values",
         "dtype": "float64",
         "stats": {
          "unique_count": 5,
          "nan_count": 0,
          "min": "159700.0",
          "max": "500001.0",
          "histogram": [
           {
            "bin_start": 159700,
            "bin_end": 193730.1,
            "count": 3
           },
           {
            "bin_start": 193730.1,
            "bin_end": 227760.2,
            "count": 1
           },
           {
            "bin_start": 227760.2,
            "bin_end": 261790.3,
            "count": 0
           },
           {
            "bin_start": 261790.3,
            "bin_end": 295820.4,
            "count": 0
           },
           {
            "bin_start": 295820.4,
            "bin_end": 329850.5,
            "count": 0
           },
           {
            "bin_start": 329850.5,
            "bin_end": 363880.6,
            "count": 0
           },
           {
            "bin_start": 363880.6,
            "bin_end": 397910.69999999995,
            "count": 0
           },
           {
            "bin_start": 397910.69999999995,
            "bin_end": 431940.8,
            "count": 0
           },
           {
            "bin_start": 431940.8,
            "bin_end": 465970.89999999997,
            "count": 0
           },
           {
            "bin_start": 465970.89999999997,
            "bin_end": 500001,
            "count": 1
           }
          ]
         }
        },
        {
         "name": "Predicted Values",
         "dtype": "float64",
         "stats": {
          "unique_count": 5,
          "nan_count": 0,
          "min": "195506.02722272012",
          "max": "421436.9859822639",
          "histogram": [
           {
            "bin_start": 195506.02722272012,
            "bin_end": 218099.1230986745,
            "count": 1
           },
           {
            "bin_start": 218099.1230986745,
            "bin_end": 240692.2189746289,
            "count": 0
           },
           {
            "bin_start": 240692.2189746289,
            "bin_end": 263285.31485058327,
            "count": 2
           },
           {
            "bin_start": 263285.31485058327,
            "bin_end": 285878.41072653764,
            "count": 0
           },
           {
            "bin_start": 285878.41072653764,
            "bin_end": 308471.506602492,
            "count": 1
           },
           {
            "bin_start": 308471.506602492,
            "bin_end": 331064.60247844644,
            "count": 0
           },
           {
            "bin_start": 331064.60247844644,
            "bin_end": 353657.6983544008,
            "count": 0
           },
           {
            "bin_start": 353657.6983544008,
            "bin_end": 376250.7942303552,
            "count": 0
           },
           {
            "bin_start": 376250.7942303552,
            "bin_end": 398843.89010630955,
            "count": 0
           },
           {
            "bin_start": 398843.89010630955,
            "bin_end": 421436.9859822639,
            "count": 1
           }
          ]
         }
        },
        {
         "name": "Differences",
         "dtype": "float64",
         "stats": {
          "unique_count": 5,
          "nan_count": 0,
          "min": "-126455.57706620032",
          "max": "78564.01401773607",
          "histogram": [
           {
            "bin_start": -126455.57706620032,
            "bin_end": -105953.61795780668,
            "count": 1
           },
           {
            "bin_start": -105953.61795780668,
            "bin_end": -85451.65884941304,
            "count": 0
           },
           {
            "bin_start": -85451.65884941304,
            "bin_end": -64949.6997410194,
            "count": 1
           },
           {
            "bin_start": -64949.6997410194,
            "bin_end": -44447.74063262576,
            "count": 0
           },
           {
            "bin_start": -44447.74063262576,
            "bin_end": -23945.781524232123,
            "count": 2
           },
           {
            "bin_start": -23945.781524232123,
            "bin_end": -3443.8224158384837,
            "count": 0
           },
           {
            "bin_start": -3443.8224158384837,
            "bin_end": 17058.136692555156,
            "count": 0
           },
           {
            "bin_start": 17058.136692555156,
            "bin_end": 37560.095800948795,
            "count": 0
           },
           {
            "bin_start": 37560.095800948795,
            "bin_end": 58062.054909342434,
            "count": 0
           },
           {
            "bin_start": 58062.054909342434,
            "bin_end": 78564.01401773607,
            "count": 1
           }
          ]
         }
        },
        {
         "name": "_deepnote_index_column",
         "dtype": "int64"
        }
       ],
       "rows": [
        {
         "Original Values": 500001,
         "Predicted Values": 421436.9859822639,
         "Differences": 78564.01401773607,
         "_deepnote_index_column": 5241
        },
        {
         "Original Values": 162500,
         "Predicted Values": 288955.5770662003,
         "Differences": -126455.57706620032,
         "_deepnote_index_column": 17352
        },
        {
         "Original Values": 204600,
         "Predicted Values": 244465.2972152792,
         "Differences": -39865.29721527919,
         "_deepnote_index_column": 3505
        },
        {
         "Original Values": 159700,
         "Predicted Values": 195506.02722272012,
         "Differences": -35806.02722272012,
         "_deepnote_index_column": 7777
        },
        {
         "Original Values": 184000,
         "Predicted Values": 259951.75076698037,
         "Differences": -75951.75076698037,
         "_deepnote_index_column": 14155
        }
       ]
      },
      "text/plain": "       Original Values  Predicted Values    Differences\n5241          500001.0     421436.985982   78564.014018\n17352         162500.0     288955.577066 -126455.577066\n3505          204600.0     244465.297215  -39865.297215\n7777          159700.0     195506.027223  -35806.027223\n14155         184000.0     259951.750767  -75951.750767",
      "text/html": "<div>\n<style scoped>\n    .dataframe tbody tr th:only-of-type {\n        vertical-align: middle;\n    }\n\n    .dataframe tbody tr th {\n        vertical-align: top;\n    }\n\n    .dataframe thead th {\n        text-align: right;\n    }\n</style>\n<table border=\"1\" class=\"dataframe\">\n  <thead>\n    <tr style=\"text-align: right;\">\n      <th></th>\n      <th>Original Values</th>\n      <th>Predicted Values</th>\n      <th>Differences</th>\n    </tr>\n  </thead>\n  <tbody>\n    <tr>\n      <th>5241</th>\n      <td>500001.0</td>\n      <td>421436.985982</td>\n      <td>78564.014018</td>\n    </tr>\n    <tr>\n      <th>17352</th>\n      <td>162500.0</td>\n      <td>288955.577066</td>\n      <td>-126455.577066</td>\n    </tr>\n    <tr>\n      <th>3505</th>\n      <td>204600.0</td>\n      <td>244465.297215</td>\n      <td>-39865.297215</td>\n    </tr>\n    <tr>\n      <th>7777</th>\n      <td>159700.0</td>\n      <td>195506.027223</td>\n      <td>-35806.027223</td>\n    </tr>\n    <tr>\n      <th>14155</th>\n      <td>184000.0</td>\n      <td>259951.750767</td>\n      <td>-75951.750767</td>\n    </tr>\n  </tbody>\n</table>\n</div>"
     },
     "metadata": {}
    }
   ],
   "execution_count": 47
  },
  {
   "cell_type": "code",
   "source": "from sklearn.metrics import mean_squared_error\n\nlin_mse = mean_squared_error(original_values, predicted_values)\nlin_rmse = np.sqrt(lin_mse)\nlin_rmse",
   "metadata": {
    "cell_id": "c2494bfb0ca241b5910219c3f12b1e28",
    "tags": [],
    "deepnote_to_be_reexecuted": false,
    "source_hash": "7f2c2fef",
    "execution_start": 1649071748305,
    "execution_millis": 17,
    "deepnote_cell_type": "code",
    "deepnote_cell_height": 190.1875,
    "deepnote_output_heights": [
     21.1875
    ]
   },
   "outputs": [
    {
     "output_type": "execute_result",
     "execution_count": 48,
     "data": {
      "text/plain": "78489.87096668077"
     },
     "metadata": {}
    }
   ],
   "execution_count": 48
  },
  {
   "cell_type": "code",
   "source": "# Bring in the Metrics\n\nfrom sklearn.metrics import mean_absolute_error\n\nlin_mae = mean_absolute_error(original_values, predicted_values)\nlin_mae",
   "metadata": {
    "cell_id": "fd685ca7a1f14a6d852c4136c177a44e",
    "tags": [],
    "deepnote_to_be_reexecuted": false,
    "source_hash": "1fa2bca2",
    "execution_start": 1649071748305,
    "execution_millis": 17,
    "deepnote_cell_type": "code",
    "deepnote_cell_height": 208.1875,
    "deepnote_output_heights": [
     21.1875
    ]
   },
   "outputs": [
    {
     "output_type": "execute_result",
     "execution_count": 49,
     "data": {
      "text/plain": "71328.5332577832"
     },
     "metadata": {}
    }
   ],
   "execution_count": 49
  },
  {
   "cell_type": "markdown",
   "source": "# Decision Tree Regressor",
   "metadata": {
    "cell_id": "9af9aabd41224b678579c54d58a9baff",
    "tags": [],
    "is_collapsed": false,
    "deepnote_cell_type": "text-cell-h1"
   }
  },
  {
   "cell_type": "code",
   "source": "from sklearn.tree import DecisionTreeRegressor\n\ntree_reg = DecisionTreeRegressor(random_state=42)\ntree_reg.fit(train_data, train_labels)",
   "metadata": {
    "cell_id": "4fbab0e7eacd4096ab015f7a2cef2b83",
    "tags": [],
    "deepnote_to_be_reexecuted": false,
    "source_hash": "dcd9b4e3",
    "execution_start": 1649071748306,
    "execution_millis": 552,
    "deepnote_cell_type": "code",
    "deepnote_cell_height": 172.1875,
    "deepnote_output_heights": [
     21.1875
    ]
   },
   "outputs": [
    {
     "output_type": "execute_result",
     "execution_count": 50,
     "data": {
      "text/plain": "DecisionTreeRegressor(random_state=42)"
     },
     "metadata": {}
    }
   ],
   "execution_count": 50
  },
  {
   "cell_type": "code",
   "source": "train_predictions = tree_reg.predict(train_data)\ntree_mse = mean_squared_error(train_labels, train_predictions)\ntree_rmse = np.sqrt(tree_mse)\ntree_rmse",
   "metadata": {
    "cell_id": "e8a74ad5f86c49379221a79ec6ffee20",
    "tags": [],
    "deepnote_to_be_reexecuted": false,
    "source_hash": "285d8987",
    "execution_start": 1649071748874,
    "execution_millis": 267,
    "deepnote_cell_type": "code",
    "deepnote_cell_height": 172.1875,
    "deepnote_output_heights": [
     21.1875
    ]
   },
   "outputs": [
    {
     "output_type": "execute_result",
     "execution_count": 51,
     "data": {
      "text/plain": "0.0"
     },
     "metadata": {}
    }
   ],
   "execution_count": 51
  },
  {
   "cell_type": "code",
   "source": "from sklearn.model_selection import cross_val_score\n\nscores = cross_val_score(tree_reg, train_data, train_labels,                      scoring=\"neg_mean_squared_error\", cv=10)\ntree_rmse_scores = np.sqrt(-scores)",
   "metadata": {
    "cell_id": "7d20216856f14debbc6d56c1e8ce7bdb",
    "tags": [],
    "deepnote_to_be_reexecuted": false,
    "source_hash": "e3088c7d",
    "execution_start": 1649071748920,
    "execution_millis": 4241,
    "deepnote_cell_type": "code",
    "deepnote_cell_height": 135
   },
   "outputs": [],
   "execution_count": 52
  },
  {
   "cell_type": "code",
   "source": "def display_scores(scores):\n    print(\"Scores:\", scores)\n    print(\"Mean:\", scores.mean())\n    print(\"Standard deviation:\", scores.std())\n\ndisplay_scores(tree_rmse_scores)",
   "metadata": {
    "cell_id": "e92146290ba4472ebde818f5d6e59640",
    "tags": [],
    "deepnote_to_be_reexecuted": false,
    "source_hash": "3c85414a",
    "execution_start": 1649071753172,
    "execution_millis": 21,
    "deepnote_cell_type": "code",
    "deepnote_cell_height": 281.3125
   },
   "outputs": [
    {
     "name": "stdout",
     "text": "Scores: [70819.83674558 70585.09139446 69861.50467212 73083.46385442\n 66246.62162221 74093.76616605 77298.21284135 70265.05374821\n 70413.46481703 72693.02785945]\nMean: 71536.00437208822\nStandard deviation: 2802.723447985299\n",
     "output_type": "stream"
    }
   ],
   "execution_count": 53
  },
  {
   "cell_type": "markdown",
   "source": "# Random Forest Regressor",
   "metadata": {
    "cell_id": "777da33d95304c8ab90afa7817f622d6",
    "tags": [],
    "is_collapsed": false,
    "deepnote_cell_type": "text-cell-h1"
   }
  },
  {
   "cell_type": "code",
   "source": "from sklearn.ensemble import RandomForestRegressor\n\nforest_reg = RandomForestRegressor(n_estimators=100, random_state=42)\nforest_reg.fit(train_data, train_labels)",
   "metadata": {
    "cell_id": "afb3992754c545499496cc488e9a3530",
    "tags": [],
    "deepnote_to_be_reexecuted": false,
    "source_hash": "dfe09fac",
    "execution_start": 1649071753209,
    "execution_millis": 27252,
    "deepnote_cell_type": "code",
    "deepnote_cell_height": 172.1875,
    "deepnote_output_heights": [
     21.1875
    ]
   },
   "outputs": [
    {
     "output_type": "execute_result",
     "execution_count": 54,
     "data": {
      "text/plain": "RandomForestRegressor(random_state=42)"
     },
     "metadata": {}
    }
   ],
   "execution_count": 54
  },
  {
   "cell_type": "code",
   "source": "train_predictions = forest_reg.predict(train_data)\nforest_mse = mean_squared_error(train_labels, train_predictions)\nforest_rmse = np.sqrt(forest_mse)\nforest_rmse",
   "metadata": {
    "cell_id": "79aae2067a074acaa94c06eb1dcdb064",
    "tags": [],
    "deepnote_to_be_reexecuted": false,
    "source_hash": "b5dcd8be",
    "execution_start": 1649071780464,
    "execution_millis": 692,
    "deepnote_cell_type": "code",
    "deepnote_cell_height": 172.1875,
    "deepnote_output_heights": [
     21.1875
    ]
   },
   "outputs": [
    {
     "output_type": "execute_result",
     "execution_count": 55,
     "data": {
      "text/plain": "18797.81343373367"
     },
     "metadata": {}
    }
   ],
   "execution_count": 55
  },
  {
   "cell_type": "code",
   "source": "from sklearn.model_selection import cross_val_score\n\nforest_scores = cross_val_score(forest_reg, train_data, train_labels,\n                                scoring=\"neg_mean_squared_error\", cv=10)\nforest_rmse_scores = np.sqrt(-forest_scores)\ndisplay_scores(forest_rmse_scores)",
   "metadata": {
    "cell_id": "fb29f16de01344c58bbba9e554c8672b",
    "tags": [],
    "deepnote_to_be_reexecuted": false,
    "source_hash": "cc6f81ec",
    "execution_start": 1649071781158,
    "execution_millis": 237983,
    "deepnote_cell_type": "code",
    "deepnote_cell_height": 281
   },
   "outputs": [
    {
     "name": "stdout",
     "text": "Scores: [51667.47890087 49581.77674843 46845.77133522 52127.48739086\n 48082.89639917 51050.84681689 53027.94987383 50218.59780997\n 48609.03966622 54669.97457167]\nMean: 50588.18195131385\nStandard deviation: 2273.9929947683154\n",
     "output_type": "stream"
    }
   ],
   "execution_count": 56
  },
  {
   "cell_type": "code",
   "source": "scores = cross_val_score(lin_reg, train_data, train_labels, scoring=\"neg_mean_squared_error\", cv=10)\npd.Series(np.sqrt(-scores)).describe()",
   "metadata": {
    "cell_id": "d3ec3b4c5fe6499fbd7ef83ddd024e89",
    "tags": [],
    "deepnote_to_be_reexecuted": false,
    "source_hash": "d65a1090",
    "execution_start": 1649072019142,
    "execution_millis": 586,
    "deepnote_cell_type": "code",
    "deepnote_cell_height": 290,
    "deepnote_output_heights": [
     174.78125
    ]
   },
   "outputs": [
    {
     "output_type": "execute_result",
     "execution_count": 57,
     "data": {
      "text/plain": "count       10.000000\nmean     69173.589777\nstd       2423.038289\nmin      64914.420793\n25%      67463.260691\n50%      69278.000801\n75%      70500.050983\nmax      72778.868826\ndtype: float64"
     },
     "metadata": {}
    }
   ],
   "execution_count": 57
  },
  {
   "cell_type": "code",
   "source": "",
   "metadata": {
    "cell_id": "a87a3c0faaf840fc96b9d60e1cedc162",
    "tags": [],
    "deepnote_to_be_reexecuted": false,
    "source_hash": "b623e53d",
    "execution_start": 1649072019729,
    "execution_millis": 2,
    "deepnote_cell_type": "code",
    "deepnote_cell_height": 144.1875
   },
   "outputs": [],
   "execution_count": 57
  },
  {
   "cell_type": "markdown",
   "source": "# Fine-Tuning the Model",
   "metadata": {
    "cell_id": "1dedb46ea54b4d5db1d4e0a16d20c2fb",
    "tags": [],
    "is_collapsed": false,
    "deepnote_cell_type": "text-cell-h1"
   }
  },
  {
   "cell_type": "code",
   "source": "from sklearn.model_selection import GridSearchCV\n\nparam_grid = [\n    # try 12 (3×4) combinations of hyperparameters\n    {'n_estimators': [3, 10, 30], 'max_features': [2, 4, 6, 8]},\n    # then try 6 (2×3) combinations with bootstrap set as False\n    {'bootstrap': [False], 'n_estimators': [3, 10], 'max_features': [2, 3, 4]},\n  ]\n\nforest_reg = RandomForestRegressor(random_state=42)\n# train across 5 folds, that's a total of (12+6)*5=90 rounds of training \ngrid_search = GridSearchCV(forest_reg, param_grid, cv=5,\n                           scoring='neg_mean_squared_error',\n                           return_train_score=True)\ngrid_search.fit(train_data, train_labels)",
   "metadata": {
    "cell_id": "0c8a3bd265814440ad1a58035de1a466",
    "tags": [],
    "deepnote_to_be_reexecuted": false,
    "source_hash": "981a4b84",
    "execution_start": 1649072019746,
    "execution_millis": 86699,
    "deepnote_cell_type": "code",
    "deepnote_cell_height": 466.1875,
    "deepnote_output_heights": [
     117.1875
    ]
   },
   "outputs": [
    {
     "output_type": "execute_result",
     "execution_count": 58,
     "data": {
      "text/plain": "GridSearchCV(cv=5, estimator=RandomForestRegressor(random_state=42),\n             param_grid=[{'max_features': [2, 4, 6, 8],\n                          'n_estimators': [3, 10, 30]},\n                         {'bootstrap': [False], 'max_features': [2, 3, 4],\n                          'n_estimators': [3, 10]}],\n             return_train_score=True, scoring='neg_mean_squared_error')"
     },
     "metadata": {}
    }
   ],
   "execution_count": 58
  },
  {
   "cell_type": "code",
   "source": "grid_search.best_params_",
   "metadata": {
    "cell_id": "db9a7ff848be4a8fada38e6e9cd10845",
    "tags": [],
    "deepnote_to_be_reexecuted": false,
    "source_hash": "d361b2d7",
    "execution_start": 1649072106442,
    "execution_millis": 3,
    "deepnote_cell_type": "code",
    "deepnote_cell_height": 118.1875,
    "deepnote_output_heights": [
     21.1875
    ]
   },
   "outputs": [
    {
     "output_type": "execute_result",
     "execution_count": 59,
     "data": {
      "text/plain": "{'max_features': 6, 'n_estimators': 30}"
     },
     "metadata": {}
    }
   ],
   "execution_count": 59
  },
  {
   "cell_type": "code",
   "source": "grid_search.best_estimator_",
   "metadata": {
    "cell_id": "65b731a36e804ed3b1440610e2dc702c",
    "tags": [],
    "deepnote_to_be_reexecuted": false,
    "source_hash": "f753b60c",
    "execution_start": 1649072106443,
    "execution_millis": 3,
    "deepnote_cell_type": "code",
    "deepnote_cell_height": 118.1875,
    "deepnote_output_heights": [
     21.1875
    ]
   },
   "outputs": [
    {
     "output_type": "execute_result",
     "execution_count": 60,
     "data": {
      "text/plain": "RandomForestRegressor(max_features=6, n_estimators=30, random_state=42)"
     },
     "metadata": {}
    }
   ],
   "execution_count": 60
  },
  {
   "cell_type": "code",
   "source": "cvres = grid_search.cv_results_\nfor mean_score, params in zip(cvres[\"mean_test_score\"], cvres[\"params\"]):\n    print(np.sqrt(-mean_score), params)",
   "metadata": {
    "cell_id": "62406b32a8c84dbcacc77b72e322fd57",
    "tags": [],
    "deepnote_to_be_reexecuted": false,
    "source_hash": "da6e453c",
    "execution_start": 1649072106444,
    "execution_millis": 43,
    "deepnote_cell_type": "code",
    "deepnote_cell_height": 490.21875
   },
   "outputs": [
    {
     "name": "stdout",
     "text": "64441.33583774864 {'max_features': 2, 'n_estimators': 3}\n55010.78729315784 {'max_features': 2, 'n_estimators': 10}\n52756.90743676946 {'max_features': 2, 'n_estimators': 30}\n60419.95105027927 {'max_features': 4, 'n_estimators': 3}\n52548.760723492225 {'max_features': 4, 'n_estimators': 10}\n50475.03023921768 {'max_features': 4, 'n_estimators': 30}\n58658.87553276854 {'max_features': 6, 'n_estimators': 3}\n51688.259845013825 {'max_features': 6, 'n_estimators': 10}\n49602.83903888296 {'max_features': 6, 'n_estimators': 30}\n57764.545176887186 {'max_features': 8, 'n_estimators': 3}\n51906.606161086886 {'max_features': 8, 'n_estimators': 10}\n49851.77165193962 {'max_features': 8, 'n_estimators': 30}\n63137.43571927858 {'bootstrap': False, 'max_features': 2, 'n_estimators': 3}\n54419.40582754731 {'bootstrap': False, 'max_features': 2, 'n_estimators': 10}\n58195.29390064867 {'bootstrap': False, 'max_features': 3, 'n_estimators': 3}\n52168.74519952844 {'bootstrap': False, 'max_features': 3, 'n_estimators': 10}\n59520.17602710436 {'bootstrap': False, 'max_features': 4, 'n_estimators': 3}\n51828.25647287002 {'bootstrap': False, 'max_features': 4, 'n_estimators': 10}\n",
     "output_type": "stream"
    }
   ],
   "execution_count": 61
  },
  {
   "cell_type": "code",
   "source": "pd.DataFrame(grid_search.cv_results_)",
   "metadata": {
    "cell_id": "45a48e048b934c689e6ff2febf9b37a0",
    "tags": [],
    "deepnote_to_be_reexecuted": false,
    "source_hash": "59cbe1a",
    "execution_start": 1649072106489,
    "execution_millis": 146,
    "deepnote_cell_type": "code",
    "deepnote_cell_height": 615
   },
   "outputs": [
    {
     "output_type": "execute_result",
     "execution_count": 62,
     "data": {
      "application/vnd.deepnote.dataframe.v3+json": {
       "column_count": 23,
       "row_count": 18,
       "columns": [
        {
         "name": "mean_fit_time",
         "dtype": "float64",
         "stats": {
          "unique_count": 18,
          "nan_count": 0,
          "min": "0.11477484703063964",
          "max": "3.209599733352661",
          "histogram": [
           {
            "bin_start": 0.11477484703063964,
            "bin_end": 0.42425733566284185,
            "count": 8
           },
           {
            "bin_start": 0.42425733566284185,
            "bin_end": 0.733739824295044,
            "count": 3
           },
           {
            "bin_start": 0.733739824295044,
            "bin_end": 1.0432223129272462,
            "count": 2
           },
           {
            "bin_start": 1.0432223129272462,
            "bin_end": 1.3527048015594483,
            "count": 2
           },
           {
            "bin_start": 1.3527048015594483,
            "bin_end": 1.6621872901916506,
            "count": 0
           },
           {
            "bin_start": 1.6621872901916506,
            "bin_end": 1.9716697788238526,
            "count": 1
           },
           {
            "bin_start": 1.9716697788238526,
            "bin_end": 2.2811522674560547,
            "count": 0
           },
           {
            "bin_start": 2.2811522674560547,
            "bin_end": 2.590634756088257,
            "count": 0
           },
           {
            "bin_start": 2.590634756088257,
            "bin_end": 2.9001172447204593,
            "count": 1
           },
           {
            "bin_start": 2.9001172447204593,
            "bin_end": 3.209599733352661,
            "count": 1
           }
          ]
         }
        },
        {
         "name": "std_fit_time",
         "dtype": "float64",
         "stats": {
          "unique_count": 18,
          "nan_count": 0,
          "min": "0.010618830358514797",
          "max": "0.28295662601442184",
          "histogram": [
           {
            "bin_start": 0.010618830358514797,
            "bin_end": 0.0378526099241055,
            "count": 9
           },
           {
            "bin_start": 0.0378526099241055,
            "bin_end": 0.06508638948969621,
            "count": 4
           },
           {
            "bin_start": 0.06508638948969621,
            "bin_end": 0.09232016905528692,
            "count": 2
           },
           {
            "bin_start": 0.09232016905528692,
            "bin_end": 0.11955394862087762,
            "count": 1
           },
           {
            "bin_start": 0.11955394862087762,
            "bin_end": 0.14678772818646832,
            "count": 0
           },
           {
            "bin_start": 0.14678772818646832,
            "bin_end": 0.17402150775205905,
            "count": 0
           },
           {
            "bin_start": 0.17402150775205905,
            "bin_end": 0.20125528731764974,
            "count": 1
           },
           {
            "bin_start": 0.20125528731764974,
            "bin_end": 0.22848906688324044,
            "count": 0
           },
           {
            "bin_start": 0.22848906688324044,
            "bin_end": 0.25572284644883114,
            "count": 0
           },
           {
            "bin_start": 0.25572284644883114,
            "bin_end": 0.28295662601442184,
            "count": 1
           }
          ]
         }
        },
        {
         "name": "mean_score_time",
         "dtype": "float64",
         "stats": {
          "unique_count": 18,
          "nan_count": 0,
          "min": "0.005075216293334961",
          "max": "0.05395708084106445",
          "histogram": [
           {
            "bin_start": 0.005075216293334961,
            "bin_end": 0.00996340274810791,
            "count": 6
           },
           {
            "bin_start": 0.00996340274810791,
            "bin_end": 0.01485158920288086,
            "count": 1
           },
           {
            "bin_start": 0.01485158920288086,
            "bin_end": 0.019739775657653807,
            "count": 4
           },
           {
            "bin_start": 0.019739775657653807,
            "bin_end": 0.02462796211242676,
            "count": 2
           },
           {
            "bin_start": 0.02462796211242676,
            "bin_end": 0.02951614856719971,
            "count": 1
           },
           {
            "bin_start": 0.02951614856719971,
            "bin_end": 0.034404335021972654,
            "count": 0
           },
           {
            "bin_start": 0.034404335021972654,
            "bin_end": 0.039292521476745605,
            "count": 0
           },
           {
            "bin_start": 0.039292521476745605,
            "bin_end": 0.044180707931518556,
            "count": 0
           },
           {
            "bin_start": 0.044180707931518556,
            "bin_end": 0.04906889438629151,
            "count": 3
           },
           {
            "bin_start": 0.04906889438629151,
            "bin_end": 0.05395708084106445,
            "count": 1
           }
          ]
         }
        },
        {
         "name": "std_score_time",
         "dtype": "float64",
         "stats": {
          "unique_count": 18,
          "nan_count": 0,
          "min": "0.00010272057449722114",
          "max": "0.01378847231397931",
          "histogram": [
           {
            "bin_start": 0.00010272057449722114,
            "bin_end": 0.0014712957484454303,
            "count": 7
           },
           {
            "bin_start": 0.0014712957484454303,
            "bin_end": 0.0028398709223936393,
            "count": 1
           },
           {
            "bin_start": 0.0028398709223936393,
            "bin_end": 0.004208446096341849,
            "count": 0
           },
           {
            "bin_start": 0.004208446096341849,
            "bin_end": 0.005577021270290057,
            "count": 0
           },
           {
            "bin_start": 0.005577021270290057,
            "bin_end": 0.006945596444238266,
            "count": 2
           },
           {
            "bin_start": 0.006945596444238266,
            "bin_end": 0.008314171618186476,
            "count": 2
           },
           {
            "bin_start": 0.008314171618186476,
            "bin_end": 0.009682746792134685,
            "count": 2
           },
           {
            "bin_start": 0.009682746792134685,
            "bin_end": 0.011051321966082894,
            "count": 1
           },
           {
            "bin_start": 0.011051321966082894,
            "bin_end": 0.012419897140031102,
            "count": 1
           },
           {
            "bin_start": 0.012419897140031102,
            "bin_end": 0.01378847231397931,
            "count": 2
           }
          ]
         }
        },
        {
         "name": "param_max_features",
         "dtype": "object",
         "stats": {
          "unique_count": 5,
          "nan_count": 0,
          "categories": [
           {
            "name": "2",
            "count": 5
           },
           {
            "name": "4",
            "count": 5
           },
           {
            "name": "3 others",
            "count": 8
           }
          ]
         }
        },
        {
         "name": "param_n_estimators",
         "dtype": "object",
         "stats": {
          "unique_count": 3,
          "nan_count": 0,
          "categories": [
           {
            "name": "3",
            "count": 7
           },
           {
            "name": "10",
            "count": 7
           },
           {
            "name": "30",
            "count": 4
           }
          ]
         }
        },
        {
         "name": "param_bootstrap",
         "dtype": "object",
         "stats": {
          "unique_count": 1,
          "nan_count": 12,
          "categories": [
           {
            "name": "False",
            "count": 6
           },
           {
            "name": "Missing",
            "count": 12
           }
          ]
         }
        },
        {
         "name": "params",
         "dtype": "object",
         "stats": {
          "unique_count": 18,
          "nan_count": 0,
          "categories": [
           {
            "name": "{'max_features': 2, 'n_estimators': 3}",
            "count": 1
           },
           {
            "name": "{'max_features': 2, 'n_estimators': 10}",
            "count": 1
           },
           {
            "name": "16 others",
            "count": 16
           }
          ]
         }
        },
        {
         "name": "split0_test_score",
         "dtype": "float64",
         "stats": {
          "unique_count": 18,
          "nan_count": 0,
          "min": "-4094088483.5567665",
          "max": "-2472257423.3931117",
          "histogram": [
           {
            "bin_start": -4094088483.5567665,
            "bin_end": -3931905377.540401,
            "count": 1
           },
           {
            "bin_start": -3931905377.540401,
            "bin_end": -3769722271.5240355,
            "count": 1
           },
           {
            "bin_start": -3769722271.5240355,
            "bin_end": -3607539165.50767,
            "count": 2
           },
           {
            "bin_start": -3607539165.50767,
            "bin_end": -3445356059.4913044,
            "count": 2
           },
           {
            "bin_start": -3445356059.4913044,
            "bin_end": -3283172953.4749393,
            "count": 1
           },
           {
            "bin_start": -3283172953.4749393,
            "bin_end": -3120989847.458574,
            "count": 0
           },
           {
            "bin_start": -3120989847.458574,
            "bin_end": -2958806741.4422083,
            "count": 1
           },
           {
            "bin_start": -2958806741.4422083,
            "bin_end": -2796623635.425843,
            "count": 1
           },
           {
            "bin_start": -2796623635.425843,
            "bin_end": -2634440529.409477,
            "count": 6
           },
           {
            "bin_start": -2634440529.409477,
            "bin_end": -2472257423.3931117,
            "count": 3
           }
          ]
         }
        },
        {
         "name": "split1_test_score",
         "dtype": "float64",
         "stats": {
          "unique_count": 18,
          "nan_count": 0,
          "min": "-3737902779.913816",
          "max": "-2350579376.7135663",
          "histogram": [
           {
            "bin_start": -3737902779.913816,
            "bin_end": -3599170439.593791,
            "count": 2
           },
           {
            "bin_start": -3599170439.593791,
            "bin_end": -3460438099.273766,
            "count": 0
           },
           {
            "bin_start": -3460438099.273766,
            "bin_end": -3321705758.953741,
            "count": 3
           },
           {
            "bin_start": -3321705758.953741,
            "bin_end": -3182973418.633716,
            "count": 1
           },
           {
            "bin_start": -3182973418.633716,
            "bin_end": -3044241078.313691,
            "count": 1
           },
           {
            "bin_start": -3044241078.313691,
            "bin_end": -2905508737.993666,
            "count": 1
           },
           {
            "bin_start": -2905508737.993666,
            "bin_end": -2766776397.673641,
            "count": 1
           },
           {
            "bin_start": -2766776397.673641,
            "bin_end": -2628044057.353616,
            "count": 3
           },
           {
            "bin_start": -2628044057.353616,
            "bin_end": -2489311717.0335913,
            "count": 3
           },
           {
            "bin_start": -2489311717.0335913,
            "bin_end": -2350579376.7135663,
            "count": 3
           }
          ]
         }
        },
        {
         "name": "split2_test_score",
         "dtype": "float64",
         "stats": {
          "unique_count": 18,
          "nan_count": 0,
          "min": "-4169135287.6421356",
          "max": "-2344741488.0196743",
          "histogram": [
           {
            "bin_start": -4169135287.6421356,
            "bin_end": -3986695907.6798897,
            "count": 1
           },
           {
            "bin_start": -3986695907.6798897,
            "bin_end": -3804256527.7176433,
            "count": 1
           },
           {
            "bin_start": -3804256527.7176433,
            "bin_end": -3621817147.7553973,
            "count": 0
           },
           {
            "bin_start": -3621817147.7553973,
            "bin_end": -3439377767.793151,
            "count": 2
           },
           {
            "bin_start": -3439377767.793151,
            "bin_end": -3256938387.830905,
            "count": 3
           },
           {
            "bin_start": -3256938387.830905,
            "bin_end": -3074499007.868659,
            "count": 0
           },
           {
            "bin_start": -3074499007.868659,
            "bin_end": -2892059627.906413,
            "count": 2
           },
           {
            "bin_start": -2892059627.906413,
            "bin_end": -2709620247.9441667,
            "count": 0
           },
           {
            "bin_start": -2709620247.9441667,
            "bin_end": -2527180867.9819202,
            "count": 5
           },
           {
            "bin_start": -2527180867.9819202,
            "bin_end": -2344741488.0196743,
            "count": 4
           }
          ]
         }
        },
        {
         "name": "split3_test_score",
         "dtype": "float64",
         "stats": {
          "unique_count": 18,
          "nan_count": 0,
          "min": "-4386360114.017666",
          "max": "-2526563818.7748137",
          "histogram": [
           {
            "bin_start": -4386360114.017666,
            "bin_end": -4200380484.4933805,
            "count": 2
           },
           {
            "bin_start": -4200380484.4933805,
            "bin_end": -4014400854.969095,
            "count": 0
           },
           {
            "bin_start": -4014400854.969095,
            "bin_end": -3828421225.44481,
            "count": 0
           },
           {
            "bin_start": -3828421225.44481,
            "bin_end": -3642441595.920525,
            "count": 1
           },
           {
            "bin_start": -3642441595.920525,
            "bin_end": -3456461966.3962398,
            "count": 1
           },
           {
            "bin_start": -3456461966.3962398,
            "bin_end": -3270482336.8719544,
            "count": 2
           },
           {
            "bin_start": -3270482336.8719544,
            "bin_end": -3084502707.3476696,
            "count": 2
           },
           {
            "bin_start": -3084502707.3476696,
            "bin_end": -2898523077.8233843,
            "count": 1
           },
           {
            "bin_start": -2898523077.8233843,
            "bin_end": -2712543448.299099,
            "count": 5
           },
           {
            "bin_start": -2712543448.299099,
            "bin_end": -2526563818.7748137,
            "count": 4
           }
          ]
         }
        },
        {
         "name": "split4_test_score",
         "dtype": "float64",
         "stats": {
          "unique_count": 18,
          "nan_count": 0,
          "min": "-4411951604.6046505",
          "max": "-2589310419.6563454",
          "histogram": [
           {
            "bin_start": -4411951604.6046505,
            "bin_end": -4229687486.10982,
            "count": 1
           },
           {
            "bin_start": -4229687486.10982,
            "bin_end": -4047423367.6149893,
            "count": 1
           },
           {
            "bin_start": -4047423367.6149893,
            "bin_end": -3865159249.120159,
            "count": 1
           },
           {
            "bin_start": -3865159249.120159,
            "bin_end": -3682895130.6253285,
            "count": 1
           },
           {
            "bin_start": -3682895130.6253285,
            "bin_end": -3500631012.130498,
            "count": 1
           },
           {
            "bin_start": -3500631012.130498,
            "bin_end": -3318366893.6356673,
            "count": 2
           },
           {
            "bin_start": -3318366893.6356673,
            "bin_end": -3136102775.1408367,
            "count": 2
           },
           {
            "bin_start": -3136102775.1408367,
            "bin_end": -2953838656.6460066,
            "count": 0
           },
           {
            "bin_start": -2953838656.6460066,
            "bin_end": -2771574538.1511755,
            "count": 5
           },
           {
            "bin_start": -2771574538.1511755,
            "bin_end": -2589310419.6563454,
            "count": 4
           }
          ]
         }
        },
        {
         "name": "mean_test_score",
         "dtype": "float64",
         "stats": {
          "unique_count": 18,
          "nan_count": 0,
          "min": "-4152685764.5535064",
          "max": "-2460441640.7173314",
          "histogram": [
           {
            "bin_start": -4152685764.5535064,
            "bin_end": -3983461352.169889,
            "count": 2
           },
           {
            "bin_start": -3983461352.169889,
            "bin_end": -3814236939.7862716,
            "count": 0
           },
           {
            "bin_start": -3814236939.7862716,
            "bin_end": -3645012527.4026537,
            "count": 1
           },
           {
            "bin_start": -3645012527.4026537,
            "bin_end": -3475788115.0190363,
            "count": 1
           },
           {
            "bin_start": -3475788115.0190363,
            "bin_end": -3306563702.635419,
            "count": 3
           },
           {
            "bin_start": -3306563702.635419,
            "bin_end": -3137339290.2518015,
            "count": 0
           },
           {
            "bin_start": -3137339290.2518015,
            "bin_end": -2968114877.868184,
            "count": 1
           },
           {
            "bin_start": -2968114877.868184,
            "bin_end": -2798890465.4845667,
            "count": 1
           },
           {
            "bin_start": -2798890465.4845667,
            "bin_end": -2629666053.1009493,
            "count": 6
           },
           {
            "bin_start": -2629666053.1009493,
            "bin_end": -2460441640.7173314,
            "count": 3
           }
          ]
         }
        },
        {
         "name": "std_test_score",
         "dtype": "float64",
         "stats": {
          "unique_count": 18,
          "nan_count": 0,
          "min": "40680174.75798153",
          "max": "256413931.74291638",
          "histogram": [
           {
            "bin_start": 40680174.75798153,
            "bin_end": 62253550.45647502,
            "count": 1
           },
           {
            "bin_start": 62253550.45647502,
            "bin_end": 83826926.1549685,
            "count": 0
           },
           {
            "bin_start": 83826926.1549685,
            "bin_end": 105400301.85346198,
            "count": 8
           },
           {
            "bin_start": 105400301.85346198,
            "bin_end": 126973677.55195546,
            "count": 2
           },
           {
            "bin_start": 126973677.55195546,
            "bin_end": 148547053.25044894,
            "count": 3
           },
           {
            "bin_start": 148547053.25044894,
            "bin_end": 170120428.94894245,
            "count": 2
           },
           {
            "bin_start": 170120428.94894245,
            "bin_end": 191693804.64743593,
            "count": 1
           },
           {
            "bin_start": 191693804.64743593,
            "bin_end": 213267180.3459294,
            "count": 0
           },
           {
            "bin_start": 213267180.3459294,
            "bin_end": 234840556.0444229,
            "count": 0
           },
           {
            "bin_start": 234840556.0444229,
            "bin_end": 256413931.74291638,
            "count": 1
           }
          ]
         }
        },
        {
         "name": "rank_test_score",
         "dtype": "int32",
         "stats": {
          "unique_count": 18,
          "nan_count": 0,
          "min": "1",
          "max": "18",
          "histogram": [
           {
            "bin_start": 1,
            "bin_end": 2.7,
            "count": 2
           },
           {
            "bin_start": 2.7,
            "bin_end": 4.4,
            "count": 2
           },
           {
            "bin_start": 4.4,
            "bin_end": 6.1,
            "count": 2
           },
           {
            "bin_start": 6.1,
            "bin_end": 7.8,
            "count": 1
           },
           {
            "bin_start": 7.8,
            "bin_end": 9.5,
            "count": 2
           },
           {
            "bin_start": 9.5,
            "bin_end": 11.2,
            "count": 2
           },
           {
            "bin_start": 11.2,
            "bin_end": 12.9,
            "count": 1
           },
           {
            "bin_start": 12.9,
            "bin_end": 14.6,
            "count": 2
           },
           {
            "bin_start": 14.6,
            "bin_end": 16.299999999999997,
            "count": 2
           },
           {
            "bin_start": 16.299999999999997,
            "bin_end": 18,
            "count": 2
           }
          ]
         }
        },
        {
         "name": "split0_train_score",
         "dtype": "float64",
         "stats": {
          "unique_count": 15,
          "nan_count": 0,
          "min": "-1120129633.1090167",
          "max": "-0.0",
          "histogram": [
           {
            "bin_start": -1120129633.1090167,
            "bin_end": -1008116669.798115,
            "count": 2
           },
           {
            "bin_start": -1008116669.798115,
            "bin_end": -896103706.4872134,
            "count": 1
           },
           {
            "bin_start": -896103706.4872134,
            "bin_end": -784090743.1763116,
            "count": 1
           },
           {
            "bin_start": -784090743.1763116,
            "bin_end": -672077779.86541,
            "count": 0
           },
           {
            "bin_start": -672077779.86541,
            "bin_end": -560064816.5545083,
            "count": 1
           },
           {
            "bin_start": -560064816.5545083,
            "bin_end": -448051853.24360657,
            "count": 3
           },
           {
            "bin_start": -448051853.24360657,
            "bin_end": -336038889.9327049,
            "count": 4
           },
           {
            "bin_start": -336038889.9327049,
            "bin_end": -224025926.62180328,
            "count": 0
           },
           {
            "bin_start": -224025926.62180328,
            "bin_end": -112012963.31090164,
            "count": 0
           },
           {
            "bin_start": -112012963.31090164,
            "bin_end": 0,
            "count": 6
           }
          ]
         }
        },
        {
         "name": "split1_train_score",
         "dtype": "float64",
         "stats": {
          "unique_count": 13,
          "nan_count": 0,
          "min": "-1095789704.6348953",
          "max": "-0.0",
          "histogram": [
           {
            "bin_start": -1095789704.6348953,
            "bin_end": -986210734.1714058,
            "count": 2
           },
           {
            "bin_start": -986210734.1714058,
            "bin_end": -876631763.7079163,
            "count": 2
           },
           {
            "bin_start": -876631763.7079163,
            "bin_end": -767052793.2444267,
            "count": 0
           },
           {
            "bin_start": -767052793.2444267,
            "bin_end": -657473822.7809372,
            "count": 0
           },
           {
            "bin_start": -657473822.7809372,
            "bin_end": -547894852.3174477,
            "count": 1
           },
           {
            "bin_start": -547894852.3174477,
            "bin_end": -438315881.85395813,
            "count": 3
           },
           {
            "bin_start": -438315881.85395813,
            "bin_end": -328736911.3904686,
            "count": 4
           },
           {
            "bin_start": -328736911.3904686,
            "bin_end": -219157940.92697906,
            "count": 0
           },
           {
            "bin_start": -219157940.92697906,
            "bin_end": -109578970.46348953,
            "count": 0
           },
           {
            "bin_start": -109578970.46348953,
            "bin_end": 0,
            "count": 6
           }
          ]
         }
        },
        {
         "name": "split2_train_score",
         "dtype": "float64",
         "stats": {
          "unique_count": 14,
          "nan_count": 0,
          "min": "-1132094017.6566238",
          "max": "-0.0",
          "histogram": [
           {
            "bin_start": -1132094017.6566238,
            "bin_end": -1018884615.8909614,
            "count": 1
           },
           {
            "bin_start": -1018884615.8909614,
            "bin_end": -905675214.1252991,
            "count": 2
           },
           {
            "bin_start": -905675214.1252991,
            "bin_end": -792465812.3596367,
            "count": 1
           },
           {
            "bin_start": -792465812.3596367,
            "bin_end": -679256410.5939744,
            "count": 0
           },
           {
            "bin_start": -679256410.5939744,
            "bin_end": -566047008.8283119,
            "count": 1
           },
           {
            "bin_start": -566047008.8283119,
            "bin_end": -452837607.0626495,
            "count": 3
           },
           {
            "bin_start": -452837607.0626495,
            "bin_end": -339628205.2969872,
            "count": 4
           },
           {
            "bin_start": -339628205.2969872,
            "bin_end": -226418803.53132474,
            "count": 0
           },
           {
            "bin_start": -226418803.53132474,
            "bin_end": -113209401.76566231,
            "count": 0
           },
           {
            "bin_start": -113209401.76566231,
            "bin_end": 0,
            "count": 6
           }
          ]
         }
        },
        {
         "name": "split3_train_score",
         "dtype": "float64",
         "stats": {
          "unique_count": 14,
          "nan_count": 0,
          "min": "-1176268589.4589705",
          "max": "-0.0",
          "histogram": [
           {
            "bin_start": -1176268589.4589705,
            "bin_end": -1058641730.5130734,
            "count": 1
           },
           {
            "bin_start": -1058641730.5130734,
            "bin_end": -941014871.5671765,
            "count": 1
           },
           {
            "bin_start": -941014871.5671765,
            "bin_end": -823388012.6212794,
            "count": 2
           },
           {
            "bin_start": -823388012.6212794,
            "bin_end": -705761153.6753824,
            "count": 0
           },
           {
            "bin_start": -705761153.6753824,
            "bin_end": -588134294.7294853,
            "count": 1
           },
           {
            "bin_start": -588134294.7294853,
            "bin_end": -470507435.7835882,
            "count": 3
           },
           {
            "bin_start": -470507435.7835882,
            "bin_end": -352880576.8376912,
            "count": 4
           },
           {
            "bin_start": -352880576.8376912,
            "bin_end": -235253717.8917941,
            "count": 0
           },
           {
            "bin_start": -235253717.8917941,
            "bin_end": -117626858.94589698,
            "count": 0
           },
           {
            "bin_start": -117626858.94589698,
            "bin_end": 0,
            "count": 6
           }
          ]
         }
        },
        {
         "name": "split4_train_score",
         "dtype": "float64",
         "stats": {
          "unique_count": 14,
          "nan_count": 0,
          "min": "-1121152082.0134747",
          "max": "-0.0",
          "histogram": [
           {
            "bin_start": -1121152082.0134747,
            "bin_end": -1009036873.8121272,
            "count": 1
           },
           {
            "bin_start": -1009036873.8121272,
            "bin_end": -896921665.6107798,
            "count": 2
           },
           {
            "bin_start": -896921665.6107798,
            "bin_end": -784806457.4094323,
            "count": 1
           },
           {
            "bin_start": -784806457.4094323,
            "bin_end": -672691249.2080848,
            "count": 0
           },
           {
            "bin_start": -672691249.2080848,
            "bin_end": -560576041.0067374,
            "count": 1
           },
           {
            "bin_start": -560576041.0067374,
            "bin_end": -448460832.8053899,
            "count": 3
           },
           {
            "bin_start": -448460832.8053899,
            "bin_end": -336345624.6040424,
            "count": 4
           },
           {
            "bin_start": -336345624.6040424,
            "bin_end": -224230416.40269494,
            "count": 0
           },
           {
            "bin_start": -224230416.40269494,
            "bin_end": -112115208.20134747,
            "count": 0
           },
           {
            "bin_start": -112115208.20134747,
            "bin_end": 0,
            "count": 6
           }
          ]
         }
        },
        {
         "name": "mean_train_score",
         "dtype": "float64",
         "stats": {
          "unique_count": 16,
          "nan_count": 0,
          "min": "-1129086805.374596",
          "max": "0.0",
          "histogram": [
           {
            "bin_start": -1129086805.374596,
            "bin_end": -1016178124.8371365,
            "count": 1
           },
           {
            "bin_start": -1016178124.8371365,
            "bin_end": -903269444.2996769,
            "count": 2
           },
           {
            "bin_start": -903269444.2996769,
            "bin_end": -790360763.7622173,
            "count": 1
           },
           {
            "bin_start": -790360763.7622173,
            "bin_end": -677452083.2247577,
            "count": 0
           },
           {
            "bin_start": -677452083.2247577,
            "bin_end": -564543402.687298,
            "count": 1
           },
           {
            "bin_start": -564543402.687298,
            "bin_end": -451634722.14983845,
            "count": 3
           },
           {
            "bin_start": -451634722.14983845,
            "bin_end": -338726041.61237884,
            "count": 4
           },
           {
            "bin_start": -338726041.61237884,
            "bin_end": -225817361.07491922,
            "count": 0
           },
           {
            "bin_start": -225817361.07491922,
            "bin_end": -112908680.53745961,
            "count": 0
           },
           {
            "bin_start": -112908680.53745961,
            "bin_end": 0,
            "count": 6
           }
          ]
         }
        },
        {
         "name": "std_train_score",
         "dtype": "float64",
         "stats": {
          "unique_count": 16,
          "nan_count": 0,
          "min": "0.0",
          "max": "30902986.634920225",
          "histogram": [
           {
            "bin_start": 0,
            "bin_end": 3090298.6634920225,
            "count": 7
           },
           {
            "bin_start": 3090298.6634920225,
            "bin_end": 6180597.326984045,
            "count": 3
           },
           {
            "bin_start": 6180597.326984045,
            "bin_end": 9270895.990476068,
            "count": 0
           },
           {
            "bin_start": 9270895.990476068,
            "bin_end": 12361194.65396809,
            "count": 1
           },
           {
            "bin_start": 12361194.65396809,
            "bin_end": 15451493.317460112,
            "count": 3
           },
           {
            "bin_start": 15451493.317460112,
            "bin_end": 18541791.980952136,
            "count": 0
           },
           {
            "bin_start": 18541791.980952136,
            "bin_end": 21632090.644444156,
            "count": 0
           },
           {
            "bin_start": 21632090.644444156,
            "bin_end": 24722389.30793618,
            "count": 0
           },
           {
            "bin_start": 24722389.30793618,
            "bin_end": 27812687.971428204,
            "count": 2
           },
           {
            "bin_start": 27812687.971428204,
            "bin_end": 30902986.634920225,
            "count": 2
           }
          ]
         }
        },
        {
         "name": "_deepnote_index_column",
         "dtype": "int64"
        }
       ],
       "rows": [
        {
         "mean_fit_time": 0.11477484703063964,
         "std_fit_time": 0.03271330361187695,
         "mean_score_time": 0.005075216293334961,
         "std_score_time": 0.0006228705342274483,
         "param_max_features": "2",
         "param_n_estimators": "3",
         "param_bootstrap": "nan",
         "params": "{'max_features': 2, 'n_estimators': 3}",
         "split0_test_score": -4094088483.5567665,
         "split1_test_score": -3701893332.946312,
         "split2_test_score": -4169135287.6421356,
         "split3_test_score": -4386360114.017666,
         "split4_test_score": -4411951604.6046505,
         "mean_test_score": -4152685764.5535064,
         "std_test_score": 256413931.74291638,
         "rank_test_score": 18,
         "split0_train_score": -1120129633.1090167,
         "split1_train_score": -1095789704.6348953,
         "split2_train_score": -1132094017.6566238,
         "split3_train_score": -1176268589.4589705,
         "split4_train_score": -1121152082.0134747,
         "mean_train_score": -1129086805.374596,
         "std_train_score": 26408528.02628833,
         "_deepnote_index_column": 0
        },
        {
         "mean_fit_time": 0.3685567855834961,
         "std_fit_time": 0.02728496083316434,
         "mean_score_time": 0.02188568115234375,
         "std_score_time": 0.010462342499382622,
         "param_max_features": "2",
         "param_n_estimators": "10",
         "param_bootstrap": "nan",
         "params": "{'max_features': 2, 'n_estimators': 10}",
         "split0_test_score": -2970210035.506473,
         "split1_test_score": -2920098573.1608057,
         "split2_test_score": -2958753558.7031374,
         "split3_test_score": -3137837473.2973228,
         "split4_test_score": -3144033952.3975406,
         "mean_test_score": -3026186718.6130557,
         "std_test_score": 95172660.19689746,
         "rank_test_score": 11,
         "split0_train_score": -571065300.1553342,
         "split1_train_score": -573269746.6791497,
         "split2_train_score": -593870965.9928387,
         "split3_train_score": -590988206.2128456,
         "split4_train_score": -597037545.4290975,
         "mean_train_score": -585246352.8938533,
         "std_train_score": 10871305.39762312,
         "_deepnote_index_column": 1
        },
        {
         "mean_fit_time": 1.1492312908172608,
         "std_fit_time": 0.07456614955389589,
         "mean_score_time": 0.05395708084106445,
         "std_score_time": 0.009022616612047955,
         "param_max_features": "2",
         "param_n_estimators": "30",
         "param_bootstrap": "nan",
         "params": "{'max_features': 2, 'n_estimators': 30}",
         "split0_test_score": -2757088982.433434,
         "split1_test_score": -2695824492.9547157,
         "split2_test_score": -2688893653.62743,
         "split3_test_score": -2821006268.680047,
         "split4_test_score": -2953643013.76368,
         "mean_test_score": -2783291282.291861,
         "std_test_score": 97662730.52295339,
         "rank_test_score": 9,
         "split0_train_score": -434588016.7262944,
         "split1_train_score": -437251579.12919813,
         "split2_train_score": -435584761.101857,
         "split3_train_score": -434811456.62337166,
         "split4_train_score": -440769277.0013688,
         "mean_train_score": -436601018.116418,
         "std_train_score": 2284079.4652112783,
         "_deepnote_index_column": 2
        },
        {
         "mean_fit_time": 0.1814197063446045,
         "std_fit_time": 0.019903882842492445,
         "mean_score_time": 0.005362176895141601,
         "std_score_time": 0.00010272057449722114,
         "param_max_features": "4",
         "param_n_estimators": "3",
         "param_bootstrap": "nan",
         "params": "{'max_features': 4, 'n_estimators': 3}",
         "split0_test_score": -3739304649.971272,
         "split1_test_score": -3453554055.604737,
         "split2_test_score": -3489910017.303991,
         "split3_test_score": -3701041855.215761,
         "split4_test_score": -3869041846.494952,
         "mean_test_score": -3650570484.918143,
         "std_test_score": 156702333.33937472,
         "rank_test_score": 16,
         "split0_train_score": -1033917115.4147172,
         "split1_train_score": -1025858883.0212228,
         "split2_train_score": -950927783.9591218,
         "split3_train_score": -978935514.7202793,
         "split4_train_score": -998866175.4385146,
         "mean_train_score": -997701094.5107712,
         "std_train_score": 30481824.75612941,
         "_deepnote_index_column": 3
        },
        {
         "mean_fit_time": 0.5463808059692383,
         "std_fit_time": 0.04956498702885414,
         "mean_score_time": 0.0188873291015625,
         "std_score_time": 0.006806283263111737,
         "param_max_features": "4",
         "param_n_estimators": "10",
         "param_bootstrap": "nan",
         "params": "{'max_features': 4, 'n_estimators': 10}",
         "split0_test_score": -2774613919.957063,
         "split1_test_score": -2715228552.8480167,
         "split2_test_score": -2561727059.315966,
         "split3_test_score": -2870854147.971684,
         "split4_test_score": -2884437587.781466,
         "mean_test_score": -2761372253.574839,
         "std_test_score": 117723530.4602427,
         "rank_test_score": 8,
         "split0_train_score": -510684567.4484337,
         "split1_train_score": -540629822.7576667,
         "split2_train_score": -503909665.38505524,
         "split3_train_score": -525360693.56839514,
         "split4_train_score": -533633242.36930203,
         "mean_train_score": -522843598.3057706,
         "std_train_score": 13750911.352109522,
         "_deepnote_index_column": 4
        },
        {
         "mean_fit_time": 1.750041913986206,
         "std_fit_time": 0.10546330853498578,
         "mean_score_time": 0.04860982894897461,
         "std_score_time": 0.01377704544036512,
         "param_max_features": "4",
         "param_n_estimators": "30",
         "param_bootstrap": "nan",
         "params": "{'max_features': 4, 'n_estimators': 30}",
         "split0_test_score": -2558974939.7298217,
         "split1_test_score": -2443051629.3608055,
         "split2_test_score": -2414735997.91073,
         "split3_test_score": -2667070938.923449,
         "split4_test_score": -2654809882.3248873,
         "mean_test_score": -2547728677.649939,
         "std_test_score": 104383691.67070471,
         "rank_test_score": 3,
         "split0_train_score": -385132215.77816087,
         "split1_train_score": -397486591.86984956,
         "split2_train_score": -384953929.33735734,
         "split3_train_score": -388261851.0212248,
         "split4_train_score": -393490745.0389181,
         "mean_train_score": -389865066.60910213,
         "std_train_score": 4905560.883073798,
         "_deepnote_index_column": 5
        },
        {
         "mean_fit_time": 0.24329628944396972,
         "std_fit_time": 0.014951518996561998,
         "mean_score_time": 0.010163211822509765,
         "std_score_time": 0.00937470119615471,
         "param_max_features": "6",
         "param_n_estimators": "3",
         "param_bootstrap": "nan",
         "params": "{'max_features': 6, 'n_estimators': 3}",
         "split0_test_score": -3590876095.9892015,
         "split1_test_score": -3341283670.6044,
         "split2_test_score": -3329951614.214483,
         "split3_test_score": -3408033762.293728,
         "split4_test_score": -3534173250.742345,
         "mean_test_score": -3440863678.7688317,
         "std_test_score": 104408686.46590394,
         "rank_test_score": 14,
         "split0_train_score": -912751935.0806437,
         "split1_train_score": -939616118.6492627,
         "split2_train_score": -857021656.3798048,
         "split3_train_score": -905314153.7004879,
         "split4_train_score": -916525540.7673143,
         "mean_train_score": -906245880.9155025,
         "std_train_score": 27149457.86059217,
         "_deepnote_index_column": 6
        },
        {
         "mean_fit_time": 0.8623338222503663,
         "std_fit_time": 0.02192474483723939,
         "mean_score_time": 0.015040969848632813,
         "std_score_time": 0.0006011717848515989,
         "param_max_features": "6",
         "param_n_estimators": "10",
         "param_bootstrap": "nan",
         "params": "{'max_features': 6, 'n_estimators': 10}",
         "split0_test_score": -2723445983.232107,
         "split1_test_score": -2593711560.176185,
         "split2_test_score": -2482407609.4544187,
         "split3_test_score": -2684539524.9953427,
         "split4_test_score": -2874276351.1702876,
         "mean_test_score": -2671676205.8056684,
         "std_test_score": 130991206.78123894,
         "rank_test_score": 4,
         "split0_train_score": -490041188.78969795,
         "split1_train_score": -517104711.6602627,
         "split2_train_score": -477965998.6838766,
         "split3_train_score": -496911188.36519986,
         "split4_train_score": -509482436.248274,
         "mean_train_score": -498301104.74946225,
         "std_train_score": 13872796.580779612,
         "_deepnote_index_column": 7
        },
        {
         "mean_fit_time": 2.63543062210083,
         "std_fit_time": 0.17651315181510346,
         "mean_score_time": 0.04653639793395996,
         "std_score_time": 0.008305853525657998,
         "param_max_features": "6",
         "param_n_estimators": "30",
         "param_bootstrap": "nan",
         "params": "{'max_features': 6, 'n_estimators': 30}",
         "split0_test_score": -2472257423.3931117,
         "split1_test_score": -2369335053.7427115,
         "split2_test_score": -2344741488.0196743,
         "split3_test_score": -2526563818.7748137,
         "split4_test_score": -2589310419.6563454,
         "mean_test_score": -2460441640.7173314,
         "std_test_score": 92526593.8646444,
         "rank_test_score": 1,
         "split0_train_score": -374040877.5790415,
         "split1_train_score": -383106042.78297144,
         "split2_train_score": -383596423.54844546,
         "split3_train_score": -368750693.5120282,
         "split4_train_score": -381828873.12094045,
         "mean_train_score": -378264582.1086854,
         "std_train_score": 5880921.716921271,
         "_deepnote_index_column": 8
        },
        {
         "mean_fit_time": 0.31055655479431155,
         "std_fit_time": 0.01816477034844544,
         "mean_score_time": 0.005673503875732422,
         "std_score_time": 0.0003097083074743252,
         "param_max_features": "8",
         "param_n_estimators": "3",
         "param_bootstrap": "nan",
         "params": "{'max_features': 8, 'n_estimators': 3}",
         "split0_test_score": -3344546721.4469004,
         "split1_test_score": -3154085091.1769776,
         "split2_test_score": -3359090893.0953293,
         "split3_test_score": -3380143716.312841,
         "split4_test_score": -3445846975.431152,
         "mean_test_score": -3336742679.4926405,
         "std_test_score": 97684735.43052271,
         "rank_test_score": 12,
         "split0_train_score": -854170409.0351949,
         "split1_train_score": -912426034.7956612,
         "split2_train_score": -944211922.3588191,
         "split3_train_score": -879319211.2110354,
         "split4_train_score": -883293203.9063252,
         "mean_train_score": -894684156.2614071,
         "std_train_score": 30902986.634920225,
         "_deepnote_index_column": 9
        }
       ]
      },
      "text/plain": "    mean_fit_time  std_fit_time  mean_score_time  std_score_time  \\\n0        0.114775      0.032713         0.005075        0.000623   \n1        0.368557      0.027285         0.021886        0.010462   \n2        1.149231      0.074566         0.053957        0.009023   \n3        0.181420      0.019904         0.005362        0.000103   \n4        0.546381      0.049565         0.018887        0.006806   \n5        1.750042      0.105463         0.048610        0.013777   \n6        0.243296      0.014952         0.010163        0.009375   \n7        0.862334      0.021925         0.015041        0.000601   \n8        2.635431      0.176513         0.046536        0.008306   \n9        0.310557      0.018165         0.005674        0.000310   \n10       1.101530      0.051881         0.015042        0.000251   \n11       3.209600      0.282957         0.046962        0.013788   \n12       0.141301      0.010619         0.005610        0.000749   \n13       0.548432      0.045052         0.020425        0.007717   \n14       0.233042      0.024803         0.009556        0.005916   \n15       0.684766      0.068450         0.015105        0.001713   \n16       0.280017      0.019342         0.005753        0.000624   \n17       0.838380      0.062097         0.025454        0.011774   \n\n   param_max_features param_n_estimators param_bootstrap  \\\n0                   2                  3             NaN   \n1                   2                 10             NaN   \n2                   2                 30             NaN   \n3                   4                  3             NaN   \n4                   4                 10             NaN   \n5                   4                 30             NaN   \n6                   6                  3             NaN   \n7                   6                 10             NaN   \n8                   6                 30             NaN   \n9                   8                  3             NaN   \n10                  8                 10             NaN   \n11                  8                 30             NaN   \n12                  2                  3           False   \n13                  2                 10           False   \n14                  3                  3           False   \n15                  3                 10           False   \n16                  4                  3           False   \n17                  4                 10           False   \n\n                                               params  split0_test_score  \\\n0              {'max_features': 2, 'n_estimators': 3}      -4.094088e+09   \n1             {'max_features': 2, 'n_estimators': 10}      -2.970210e+09   \n2             {'max_features': 2, 'n_estimators': 30}      -2.757089e+09   \n3              {'max_features': 4, 'n_estimators': 3}      -3.739305e+09   \n4             {'max_features': 4, 'n_estimators': 10}      -2.774614e+09   \n5             {'max_features': 4, 'n_estimators': 30}      -2.558975e+09   \n6              {'max_features': 6, 'n_estimators': 3}      -3.590876e+09   \n7             {'max_features': 6, 'n_estimators': 10}      -2.723446e+09   \n8             {'max_features': 6, 'n_estimators': 30}      -2.472257e+09   \n9              {'max_features': 8, 'n_estimators': 3}      -3.344547e+09   \n10            {'max_features': 8, 'n_estimators': 10}      -2.663766e+09   \n11            {'max_features': 8, 'n_estimators': 30}      -2.479061e+09   \n12  {'bootstrap': False, 'max_features': 2, 'n_est...      -3.839078e+09   \n13  {'bootstrap': False, 'max_features': 2, 'n_est...      -2.873998e+09   \n14  {'bootstrap': False, 'max_features': 3, 'n_est...      -3.617405e+09   \n15  {'bootstrap': False, 'max_features': 3, 'n_est...      -2.728747e+09   \n16  {'bootstrap': False, 'max_features': 4, 'n_est...      -3.546605e+09   \n17  {'bootstrap': False, 'max_features': 4, 'n_est...      -2.695709e+09   \n\n    split1_test_score  ...  mean_test_score  std_test_score  rank_test_score  \\\n0       -3.701893e+09  ...    -4.152686e+09    2.564139e+08               18   \n1       -2.920099e+09  ...    -3.026187e+09    9.517266e+07               11   \n2       -2.695824e+09  ...    -2.783291e+09    9.766273e+07                9   \n3       -3.453554e+09  ...    -3.650570e+09    1.567023e+08               16   \n4       -2.715229e+09  ...    -2.761372e+09    1.177235e+08                8   \n5       -2.443052e+09  ...    -2.547729e+09    1.043837e+08                3   \n6       -3.341284e+09  ...    -3.440864e+09    1.044087e+08               14   \n7       -2.593712e+09  ...    -2.671676e+09    1.309912e+08                4   \n8       -2.369335e+09  ...    -2.460442e+09    9.252659e+07                1   \n9       -3.154085e+09  ...    -3.336743e+09    9.768474e+07               12   \n10      -2.581027e+09  ...    -2.694296e+09    9.990304e+07                6   \n11      -2.350579e+09  ...    -2.485199e+09    1.069751e+08                2   \n12      -3.737903e+09  ...    -3.986336e+09    1.838900e+08               17   \n13      -2.802689e+09  ...    -2.961472e+09    1.279666e+08               10   \n14      -3.307867e+09  ...    -3.386692e+09    1.278017e+08               13   \n15      -2.727783e+09  ...    -2.721578e+09    4.068017e+07                7   \n16      -3.360893e+09  ...    -3.542651e+09    1.519839e+08               15   \n17      -2.577444e+09  ...    -2.686168e+09    9.854495e+07                5   \n\n    split0_train_score  split1_train_score  split2_train_score  \\\n0        -1.120130e+09       -1.095790e+09       -1.132094e+09   \n1        -5.710653e+08       -5.732697e+08       -5.938710e+08   \n2        -4.345880e+08       -4.372516e+08       -4.355848e+08   \n3        -1.033917e+09       -1.025859e+09       -9.509278e+08   \n4        -5.106846e+08       -5.406298e+08       -5.039097e+08   \n5        -3.851322e+08       -3.974866e+08       -3.849539e+08   \n6        -9.127519e+08       -9.396161e+08       -8.570217e+08   \n7        -4.900412e+08       -5.171047e+08       -4.779660e+08   \n8        -3.740409e+08       -3.831060e+08       -3.835964e+08   \n9        -8.541704e+08       -9.124260e+08       -9.442119e+08   \n10       -4.781148e+08       -5.191731e+08       -5.122643e+08   \n11       -3.692326e+08       -3.864998e+08       -3.836427e+08   \n12       -1.051472e+04       -0.000000e+00       -0.000000e+00   \n13       -2.545613e+03       -0.000000e+00       -0.000000e+00   \n14       -0.000000e+00       -0.000000e+00       -0.000000e+00   \n15       -0.000000e+00       -0.000000e+00       -9.689629e-01   \n16       -0.000000e+00       -0.000000e+00       -0.000000e+00   \n17       -0.000000e+00       -0.000000e+00       -0.000000e+00   \n\n    split3_train_score  split4_train_score  mean_train_score  std_train_score  \n0        -1.176269e+09       -1.121152e+09     -1.129087e+09     2.640853e+07  \n1        -5.909882e+08       -5.970375e+08     -5.852464e+08     1.087131e+07  \n2        -4.348115e+08       -4.407693e+08     -4.366010e+08     2.284079e+06  \n3        -9.789355e+08       -9.988662e+08     -9.977011e+08     3.048182e+07  \n4        -5.253607e+08       -5.336332e+08     -5.228436e+08     1.375091e+07  \n5        -3.882619e+08       -3.934907e+08     -3.898651e+08     4.905561e+06  \n6        -9.053142e+08       -9.165255e+08     -9.062459e+08     2.714946e+07  \n7        -4.969112e+08       -5.094824e+08     -4.983011e+08     1.387280e+07  \n8        -3.687507e+08       -3.818289e+08     -3.782646e+08     5.880922e+06  \n9        -8.793192e+08       -8.832932e+08     -8.946842e+08     3.090299e+07  \n10       -5.048032e+08       -5.075769e+08     -5.043865e+08     1.400898e+07  \n11       -3.775565e+08       -3.788535e+08     -3.791570e+08     5.919219e+06  \n12       -0.000000e+00       -0.000000e+00     -2.102943e+03     4.205887e+03  \n13       -1.273278e+01       -8.009084e+00     -5.132709e+02     1.016183e+03  \n14       -0.000000e+00       -0.000000e+00      0.000000e+00     0.000000e+00  \n15       -0.000000e+00       -0.000000e+00     -1.937926e-01     3.875852e-01  \n16       -0.000000e+00       -0.000000e+00      0.000000e+00     0.000000e+00  \n17       -0.000000e+00       -0.000000e+00      0.000000e+00     0.000000e+00  \n\n[18 rows x 23 columns]",
      "text/html": "<div>\n<style scoped>\n    .dataframe tbody tr th:only-of-type {\n        vertical-align: middle;\n    }\n\n    .dataframe tbody tr th {\n        vertical-align: top;\n    }\n\n    .dataframe thead th {\n        text-align: right;\n    }\n</style>\n<table border=\"1\" class=\"dataframe\">\n  <thead>\n    <tr style=\"text-align: right;\">\n      <th></th>\n      <th>mean_fit_time</th>\n      <th>std_fit_time</th>\n      <th>mean_score_time</th>\n      <th>std_score_time</th>\n      <th>param_max_features</th>\n      <th>param_n_estimators</th>\n      <th>param_bootstrap</th>\n      <th>params</th>\n      <th>split0_test_score</th>\n      <th>split1_test_score</th>\n      <th>...</th>\n      <th>mean_test_score</th>\n      <th>std_test_score</th>\n      <th>rank_test_score</th>\n      <th>split0_train_score</th>\n      <th>split1_train_score</th>\n      <th>split2_train_score</th>\n      <th>split3_train_score</th>\n      <th>split4_train_score</th>\n      <th>mean_train_score</th>\n      <th>std_train_score</th>\n    </tr>\n  </thead>\n  <tbody>\n    <tr>\n      <th>0</th>\n      <td>0.114775</td>\n      <td>0.032713</td>\n      <td>0.005075</td>\n      <td>0.000623</td>\n      <td>2</td>\n      <td>3</td>\n      <td>NaN</td>\n      <td>{'max_features': 2, 'n_estimators': 3}</td>\n      <td>-4.094088e+09</td>\n      <td>-3.701893e+09</td>\n      <td>...</td>\n      <td>-4.152686e+09</td>\n      <td>2.564139e+08</td>\n      <td>18</td>\n      <td>-1.120130e+09</td>\n      <td>-1.095790e+09</td>\n      <td>-1.132094e+09</td>\n      <td>-1.176269e+09</td>\n      <td>-1.121152e+09</td>\n      <td>-1.129087e+09</td>\n      <td>2.640853e+07</td>\n    </tr>\n    <tr>\n      <th>1</th>\n      <td>0.368557</td>\n      <td>0.027285</td>\n      <td>0.021886</td>\n      <td>0.010462</td>\n      <td>2</td>\n      <td>10</td>\n      <td>NaN</td>\n      <td>{'max_features': 2, 'n_estimators': 10}</td>\n      <td>-2.970210e+09</td>\n      <td>-2.920099e+09</td>\n      <td>...</td>\n      <td>-3.026187e+09</td>\n      <td>9.517266e+07</td>\n      <td>11</td>\n      <td>-5.710653e+08</td>\n      <td>-5.732697e+08</td>\n      <td>-5.938710e+08</td>\n      <td>-5.909882e+08</td>\n      <td>-5.970375e+08</td>\n      <td>-5.852464e+08</td>\n      <td>1.087131e+07</td>\n    </tr>\n    <tr>\n      <th>2</th>\n      <td>1.149231</td>\n      <td>0.074566</td>\n      <td>0.053957</td>\n      <td>0.009023</td>\n      <td>2</td>\n      <td>30</td>\n      <td>NaN</td>\n      <td>{'max_features': 2, 'n_estimators': 30}</td>\n      <td>-2.757089e+09</td>\n      <td>-2.695824e+09</td>\n      <td>...</td>\n      <td>-2.783291e+09</td>\n      <td>9.766273e+07</td>\n      <td>9</td>\n      <td>-4.345880e+08</td>\n      <td>-4.372516e+08</td>\n      <td>-4.355848e+08</td>\n      <td>-4.348115e+08</td>\n      <td>-4.407693e+08</td>\n      <td>-4.366010e+08</td>\n      <td>2.284079e+06</td>\n    </tr>\n    <tr>\n      <th>3</th>\n      <td>0.181420</td>\n      <td>0.019904</td>\n      <td>0.005362</td>\n      <td>0.000103</td>\n      <td>4</td>\n      <td>3</td>\n      <td>NaN</td>\n      <td>{'max_features': 4, 'n_estimators': 3}</td>\n      <td>-3.739305e+09</td>\n      <td>-3.453554e+09</td>\n      <td>...</td>\n      <td>-3.650570e+09</td>\n      <td>1.567023e+08</td>\n      <td>16</td>\n      <td>-1.033917e+09</td>\n      <td>-1.025859e+09</td>\n      <td>-9.509278e+08</td>\n      <td>-9.789355e+08</td>\n      <td>-9.988662e+08</td>\n      <td>-9.977011e+08</td>\n      <td>3.048182e+07</td>\n    </tr>\n    <tr>\n      <th>4</th>\n      <td>0.546381</td>\n      <td>0.049565</td>\n      <td>0.018887</td>\n      <td>0.006806</td>\n      <td>4</td>\n      <td>10</td>\n      <td>NaN</td>\n      <td>{'max_features': 4, 'n_estimators': 10}</td>\n      <td>-2.774614e+09</td>\n      <td>-2.715229e+09</td>\n      <td>...</td>\n      <td>-2.761372e+09</td>\n      <td>1.177235e+08</td>\n      <td>8</td>\n      <td>-5.106846e+08</td>\n      <td>-5.406298e+08</td>\n      <td>-5.039097e+08</td>\n      <td>-5.253607e+08</td>\n      <td>-5.336332e+08</td>\n      <td>-5.228436e+08</td>\n      <td>1.375091e+07</td>\n    </tr>\n    <tr>\n      <th>5</th>\n      <td>1.750042</td>\n      <td>0.105463</td>\n      <td>0.048610</td>\n      <td>0.013777</td>\n      <td>4</td>\n      <td>30</td>\n      <td>NaN</td>\n      <td>{'max_features': 4, 'n_estimators': 30}</td>\n      <td>-2.558975e+09</td>\n      <td>-2.443052e+09</td>\n      <td>...</td>\n      <td>-2.547729e+09</td>\n      <td>1.043837e+08</td>\n      <td>3</td>\n      <td>-3.851322e+08</td>\n      <td>-3.974866e+08</td>\n      <td>-3.849539e+08</td>\n      <td>-3.882619e+08</td>\n      <td>-3.934907e+08</td>\n      <td>-3.898651e+08</td>\n      <td>4.905561e+06</td>\n    </tr>\n    <tr>\n      <th>6</th>\n      <td>0.243296</td>\n      <td>0.014952</td>\n      <td>0.010163</td>\n      <td>0.009375</td>\n      <td>6</td>\n      <td>3</td>\n      <td>NaN</td>\n      <td>{'max_features': 6, 'n_estimators': 3}</td>\n      <td>-3.590876e+09</td>\n      <td>-3.341284e+09</td>\n      <td>...</td>\n      <td>-3.440864e+09</td>\n      <td>1.044087e+08</td>\n      <td>14</td>\n      <td>-9.127519e+08</td>\n      <td>-9.396161e+08</td>\n      <td>-8.570217e+08</td>\n      <td>-9.053142e+08</td>\n      <td>-9.165255e+08</td>\n      <td>-9.062459e+08</td>\n      <td>2.714946e+07</td>\n    </tr>\n    <tr>\n      <th>7</th>\n      <td>0.862334</td>\n      <td>0.021925</td>\n      <td>0.015041</td>\n      <td>0.000601</td>\n      <td>6</td>\n      <td>10</td>\n      <td>NaN</td>\n      <td>{'max_features': 6, 'n_estimators': 10}</td>\n      <td>-2.723446e+09</td>\n      <td>-2.593712e+09</td>\n      <td>...</td>\n      <td>-2.671676e+09</td>\n      <td>1.309912e+08</td>\n      <td>4</td>\n      <td>-4.900412e+08</td>\n      <td>-5.171047e+08</td>\n      <td>-4.779660e+08</td>\n      <td>-4.969112e+08</td>\n      <td>-5.094824e+08</td>\n      <td>-4.983011e+08</td>\n      <td>1.387280e+07</td>\n    </tr>\n    <tr>\n      <th>8</th>\n      <td>2.635431</td>\n      <td>0.176513</td>\n      <td>0.046536</td>\n      <td>0.008306</td>\n      <td>6</td>\n      <td>30</td>\n      <td>NaN</td>\n      <td>{'max_features': 6, 'n_estimators': 30}</td>\n      <td>-2.472257e+09</td>\n      <td>-2.369335e+09</td>\n      <td>...</td>\n      <td>-2.460442e+09</td>\n      <td>9.252659e+07</td>\n      <td>1</td>\n      <td>-3.740409e+08</td>\n      <td>-3.831060e+08</td>\n      <td>-3.835964e+08</td>\n      <td>-3.687507e+08</td>\n      <td>-3.818289e+08</td>\n      <td>-3.782646e+08</td>\n      <td>5.880922e+06</td>\n    </tr>\n    <tr>\n      <th>9</th>\n      <td>0.310557</td>\n      <td>0.018165</td>\n      <td>0.005674</td>\n      <td>0.000310</td>\n      <td>8</td>\n      <td>3</td>\n      <td>NaN</td>\n      <td>{'max_features': 8, 'n_estimators': 3}</td>\n      <td>-3.344547e+09</td>\n      <td>-3.154085e+09</td>\n      <td>...</td>\n      <td>-3.336743e+09</td>\n      <td>9.768474e+07</td>\n      <td>12</td>\n      <td>-8.541704e+08</td>\n      <td>-9.124260e+08</td>\n      <td>-9.442119e+08</td>\n      <td>-8.793192e+08</td>\n      <td>-8.832932e+08</td>\n      <td>-8.946842e+08</td>\n      <td>3.090299e+07</td>\n    </tr>\n    <tr>\n      <th>10</th>\n      <td>1.101530</td>\n      <td>0.051881</td>\n      <td>0.015042</td>\n      <td>0.000251</td>\n      <td>8</td>\n      <td>10</td>\n      <td>NaN</td>\n      <td>{'max_features': 8, 'n_estimators': 10}</td>\n      <td>-2.663766e+09</td>\n      <td>-2.581027e+09</td>\n      <td>...</td>\n      <td>-2.694296e+09</td>\n      <td>9.990304e+07</td>\n      <td>6</td>\n      <td>-4.781148e+08</td>\n      <td>-5.191731e+08</td>\n      <td>-5.122643e+08</td>\n      <td>-5.048032e+08</td>\n      <td>-5.075769e+08</td>\n      <td>-5.043865e+08</td>\n      <td>1.400898e+07</td>\n    </tr>\n    <tr>\n      <th>11</th>\n      <td>3.209600</td>\n      <td>0.282957</td>\n      <td>0.046962</td>\n      <td>0.013788</td>\n      <td>8</td>\n      <td>30</td>\n      <td>NaN</td>\n      <td>{'max_features': 8, 'n_estimators': 30}</td>\n      <td>-2.479061e+09</td>\n      <td>-2.350579e+09</td>\n      <td>...</td>\n      <td>-2.485199e+09</td>\n      <td>1.069751e+08</td>\n      <td>2</td>\n      <td>-3.692326e+08</td>\n      <td>-3.864998e+08</td>\n      <td>-3.836427e+08</td>\n      <td>-3.775565e+08</td>\n      <td>-3.788535e+08</td>\n      <td>-3.791570e+08</td>\n      <td>5.919219e+06</td>\n    </tr>\n    <tr>\n      <th>12</th>\n      <td>0.141301</td>\n      <td>0.010619</td>\n      <td>0.005610</td>\n      <td>0.000749</td>\n      <td>2</td>\n      <td>3</td>\n      <td>False</td>\n      <td>{'bootstrap': False, 'max_features': 2, 'n_est...</td>\n      <td>-3.839078e+09</td>\n      <td>-3.737903e+09</td>\n      <td>...</td>\n      <td>-3.986336e+09</td>\n      <td>1.838900e+08</td>\n      <td>17</td>\n      <td>-1.051472e+04</td>\n      <td>-0.000000e+00</td>\n      <td>-0.000000e+00</td>\n      <td>-0.000000e+00</td>\n      <td>-0.000000e+00</td>\n      <td>-2.102943e+03</td>\n      <td>4.205887e+03</td>\n    </tr>\n    <tr>\n      <th>13</th>\n      <td>0.548432</td>\n      <td>0.045052</td>\n      <td>0.020425</td>\n      <td>0.007717</td>\n      <td>2</td>\n      <td>10</td>\n      <td>False</td>\n      <td>{'bootstrap': False, 'max_features': 2, 'n_est...</td>\n      <td>-2.873998e+09</td>\n      <td>-2.802689e+09</td>\n      <td>...</td>\n      <td>-2.961472e+09</td>\n      <td>1.279666e+08</td>\n      <td>10</td>\n      <td>-2.545613e+03</td>\n      <td>-0.000000e+00</td>\n      <td>-0.000000e+00</td>\n      <td>-1.273278e+01</td>\n      <td>-8.009084e+00</td>\n      <td>-5.132709e+02</td>\n      <td>1.016183e+03</td>\n    </tr>\n    <tr>\n      <th>14</th>\n      <td>0.233042</td>\n      <td>0.024803</td>\n      <td>0.009556</td>\n      <td>0.005916</td>\n      <td>3</td>\n      <td>3</td>\n      <td>False</td>\n      <td>{'bootstrap': False, 'max_features': 3, 'n_est...</td>\n      <td>-3.617405e+09</td>\n      <td>-3.307867e+09</td>\n      <td>...</td>\n      <td>-3.386692e+09</td>\n      <td>1.278017e+08</td>\n      <td>13</td>\n      <td>-0.000000e+00</td>\n      <td>-0.000000e+00</td>\n      <td>-0.000000e+00</td>\n      <td>-0.000000e+00</td>\n      <td>-0.000000e+00</td>\n      <td>0.000000e+00</td>\n      <td>0.000000e+00</td>\n    </tr>\n    <tr>\n      <th>15</th>\n      <td>0.684766</td>\n      <td>0.068450</td>\n      <td>0.015105</td>\n      <td>0.001713</td>\n      <td>3</td>\n      <td>10</td>\n      <td>False</td>\n      <td>{'bootstrap': False, 'max_features': 3, 'n_est...</td>\n      <td>-2.728747e+09</td>\n      <td>-2.727783e+09</td>\n      <td>...</td>\n      <td>-2.721578e+09</td>\n      <td>4.068017e+07</td>\n      <td>7</td>\n      <td>-0.000000e+00</td>\n      <td>-0.000000e+00</td>\n      <td>-9.689629e-01</td>\n      <td>-0.000000e+00</td>\n      <td>-0.000000e+00</td>\n      <td>-1.937926e-01</td>\n      <td>3.875852e-01</td>\n    </tr>\n    <tr>\n      <th>16</th>\n      <td>0.280017</td>\n      <td>0.019342</td>\n      <td>0.005753</td>\n      <td>0.000624</td>\n      <td>4</td>\n      <td>3</td>\n      <td>False</td>\n      <td>{'bootstrap': False, 'max_features': 4, 'n_est...</td>\n      <td>-3.546605e+09</td>\n      <td>-3.360893e+09</td>\n      <td>...</td>\n      <td>-3.542651e+09</td>\n      <td>1.519839e+08</td>\n      <td>15</td>\n      <td>-0.000000e+00</td>\n      <td>-0.000000e+00</td>\n      <td>-0.000000e+00</td>\n      <td>-0.000000e+00</td>\n      <td>-0.000000e+00</td>\n      <td>0.000000e+00</td>\n      <td>0.000000e+00</td>\n    </tr>\n    <tr>\n      <th>17</th>\n      <td>0.838380</td>\n      <td>0.062097</td>\n      <td>0.025454</td>\n      <td>0.011774</td>\n      <td>4</td>\n      <td>10</td>\n      <td>False</td>\n      <td>{'bootstrap': False, 'max_features': 4, 'n_est...</td>\n      <td>-2.695709e+09</td>\n      <td>-2.577444e+09</td>\n      <td>...</td>\n      <td>-2.686168e+09</td>\n      <td>9.854495e+07</td>\n      <td>5</td>\n      <td>-0.000000e+00</td>\n      <td>-0.000000e+00</td>\n      <td>-0.000000e+00</td>\n      <td>-0.000000e+00</td>\n      <td>-0.000000e+00</td>\n      <td>0.000000e+00</td>\n      <td>0.000000e+00</td>\n    </tr>\n  </tbody>\n</table>\n<p>18 rows × 23 columns</p>\n</div>"
     },
     "metadata": {}
    }
   ],
   "execution_count": 62
  },
  {
   "cell_type": "markdown",
   "source": "# Randomized Search",
   "metadata": {
    "cell_id": "3c99bbb53fb544a6945f124eef44cfc9",
    "tags": [],
    "is_collapsed": false,
    "deepnote_cell_type": "text-cell-h1"
   }
  },
  {
   "cell_type": "code",
   "source": "from sklearn.model_selection import RandomizedSearchCV\nfrom scipy.stats import randint\n\nparam_distribs = {\n        'n_estimators': randint(low=1, high=200),\n        'max_features': randint(low=1, high=8),\n    }\n\nforest_reg = RandomForestRegressor(random_state=42)\nrnd_search = RandomizedSearchCV(forest_reg, param_distributions=param_distribs,\n                                n_iter=10, cv=5, scoring='neg_mean_squared_error', random_state=42)\nrnd_search.fit(train_data, train_labels)",
   "metadata": {
    "cell_id": "d8662d811c4348119b8586046ca44fb1",
    "tags": [],
    "deepnote_to_be_reexecuted": false,
    "source_hash": "c768e4c0",
    "execution_start": 1649072106635,
    "execution_millis": 184599,
    "deepnote_cell_type": "code",
    "deepnote_cell_height": 374,
    "deepnote_output_heights": [
     78.78125
    ]
   },
   "outputs": [],
   "execution_count": null
  },
  {
   "cell_type": "code",
   "source": "cvres = rnd_search.cv_results_\nfor mean_score, params in zip(cvres[\"mean_test_score\"], cvres[\"params\"]):\n    print(np.sqrt(-mean_score), params)",
   "metadata": {
    "cell_id": "ad41660111bf4f6dbfe74d72fb81f03b",
    "tags": [],
    "deepnote_to_be_reexecuted": true,
    "source_hash": "d242e53b",
    "execution_start": 1649069303308,
    "execution_millis": 202,
    "deepnote_cell_type": "code",
    "deepnote_cell_height": 327
   },
   "outputs": [
    {
     "name": "stdout",
     "text": "48881.00597871309 {'max_features': 7, 'n_estimators': 180}\n51634.61963021687 {'max_features': 5, 'n_estimators': 15}\n50312.55245794906 {'max_features': 3, 'n_estimators': 72}\n50952.54821857023 {'max_features': 5, 'n_estimators': 21}\n49063.34454115586 {'max_features': 7, 'n_estimators': 122}\n50317.63324666772 {'max_features': 3, 'n_estimators': 75}\n50173.504527094505 {'max_features': 3, 'n_estimators': 88}\n49248.29804214526 {'max_features': 5, 'n_estimators': 100}\n50054.94886918995 {'max_features': 3, 'n_estimators': 150}\n64847.94779269648 {'max_features': 5, 'n_estimators': 2}\n",
     "output_type": "stream"
    }
   ],
   "execution_count": null
  },
  {
   "cell_type": "code",
   "source": "feature_importances = grid_search.best_estimator_.feature_importances_\nfeature_importances",
   "metadata": {
    "cell_id": "fb9df8e5ad0b419197c1c91a4783664d",
    "tags": [],
    "deepnote_to_be_reexecuted": true,
    "source_hash": "f7c18bef",
    "execution_start": 1649069303309,
    "execution_millis": 208,
    "deepnote_cell_type": "code",
    "deepnote_cell_height": 194,
    "deepnote_output_heights": [
     78.78125
    ]
   },
   "outputs": [
    {
     "output_type": "execute_result",
     "execution_count": 71,
     "data": {
      "text/plain": "array([8.46978272e-02, 7.69983975e-02, 4.08715796e-02, 1.67325719e-02,\n       1.71418340e-02, 1.73518185e-02, 1.56303531e-02, 3.39824215e-01,\n       2.30528104e-02, 1.04033701e-01, 8.64983594e-02, 1.29273143e-02,\n       1.54663950e-01, 7.22217547e-05, 3.62205279e-03, 5.88099358e-03])"
     },
     "metadata": {}
    }
   ],
   "execution_count": null
  },
  {
   "cell_type": "markdown",
   "source": "# Feature Importance List",
   "metadata": {
    "cell_id": "b5cddaf7e7a04ab2bc8586ae4d2601ba",
    "tags": [],
    "is_collapsed": false,
    "deepnote_cell_type": "text-cell-h1"
   }
  },
  {
   "cell_type": "code",
   "source": "feature_importance_list = list(zip(features, feature_importances.tolist()))\nfeature_importance_list",
   "metadata": {
    "cell_id": "8b96825937bf4565bd9429b4e62dfeac",
    "tags": [],
    "deepnote_to_be_reexecuted": true,
    "source_hash": "c9d1e95d",
    "execution_start": 1649069303349,
    "execution_millis": 169,
    "deepnote_cell_type": "code",
    "deepnote_cell_height": 424.15625,
    "deepnote_output_heights": [
     309.15625
    ]
   },
   "outputs": [
    {
     "output_type": "execute_result",
     "execution_count": 72,
     "data": {
      "text/plain": "[('longitude', 0.0846978271965227),\n ('latitude', 0.07699839747855737),\n ('housing_median_age', 0.040871579612884096),\n ('total_rooms', 0.016732571900462085),\n ('total_bedrooms', 0.01714183399184058),\n ('population', 0.0173518184721046),\n ('households', 0.015630353131298083),\n ('median_income', 0.3398242154869636),\n ('bedrooms_per_household', 0.023052810363875926),\n ('population_per_household', 0.10403370064780083),\n ('rooms_per_household', 0.08649835942626646),\n ('<1H OCEAN', 0.012927314349565632),\n ('INLAND', 0.15466394981681342),\n ('ISLAND', 7.222175467748088e-05),\n ('NEAR BAY', 0.003622052794433035),\n ('NEAR OCEAN', 0.005880993575933964)]"
     },
     "metadata": {}
    }
   ],
   "execution_count": null
  },
  {
   "cell_type": "code",
   "source": "plt.barh(y=features, width=feature_importances.tolist())",
   "metadata": {
    "cell_id": "f63d1d1fae1f4630b6f3ad705b2751ae",
    "tags": [],
    "deepnote_to_be_reexecuted": true,
    "source_hash": "f3442450",
    "execution_start": 1649069303350,
    "execution_millis": 301,
    "deepnote_cell_type": "code",
    "deepnote_cell_height": 399.1875,
    "deepnote_output_heights": [
     21.1875,
     250
    ]
   },
   "outputs": [
    {
     "output_type": "execute_result",
     "execution_count": 73,
     "data": {
      "text/plain": "<BarContainer object of 16 artists>"
     },
     "metadata": {}
    },
    {
     "data": {
      "text/plain": "<Figure size 432x288 with 1 Axes>",
      "image/png": "[encoded data removed]"
     },
     "metadata": {
      "needs_background": "light",
      "image/png": {
       "width": 492,
       "height": 248
      }
     },
     "output_type": "display_data"
    }
   ],
   "execution_count": null
  },
  {
   "cell_type": "code",
   "source": "final_rmse",
   "metadata": {
    "cell_id": "b0ca99e04c94412c9e2720c4df9dafb7",
    "tags": [],
    "deepnote_to_be_reexecuted": true,
    "source_hash": "f12e3f0e",
    "execution_start": 1649070662135,
    "execution_millis": 6,
    "deepnote_cell_type": "code",
    "deepnote_cell_height": 118.1875,
    "deepnote_output_heights": [
     21.1875
    ]
   },
   "outputs": [
    {
     "output_type": "execute_result",
     "execution_count": 78,
     "data": {
      "text/plain": "63301.179203602675"
     },
     "metadata": {}
    }
   ],
   "execution_count": null
  },
  {
   "cell_type": "markdown",
   "source": "Then compute a 95% confidence interval for the test RMSE:",
   "metadata": {
    "cell_id": "c62a73415e4a44bd82d9896db92e4afd",
    "tags": [],
    "deepnote_cell_type": "markdown",
    "deepnote_cell_height": 52.390625
   }
  },
  {
   "cell_type": "code",
   "source": "from scipy import stats\n\nconfidence = 0.95\nsquared_errors = (final_predictions - y_test) ** 2\nnp.sqrt(stats.t.interval(confidence, len(squared_errors) - 1,\n                         loc=squared_errors.mean(),\n                         scale=stats.sem(squared_errors)))",
   "metadata": {
    "cell_id": "e8d41453abc04cc693c7a96a1cc95175",
    "tags": [],
    "deepnote_to_be_reexecuted": true,
    "source_hash": "1238664a",
    "execution_start": 1649071076463,
    "execution_millis": 12,
    "deepnote_cell_type": "code",
    "deepnote_cell_height": 226.1875,
    "deepnote_output_heights": [
     21.1875
    ]
   },
   "outputs": [
    {
     "output_type": "execute_result",
     "execution_count": 86,
     "data": {
      "text/plain": "array([61450.16282006, 65099.58576305])"
     },
     "metadata": {}
    }
   ],
   "execution_count": null
  },
  {
   "cell_type": "markdown",
   "source": "Next, could compute the interval manually like this:",
   "metadata": {
    "cell_id": "e4a0a1805f4d4d32a1f3ca59cf36dc97",
    "tags": [],
    "deepnote_cell_type": "markdown",
    "deepnote_cell_height": 52.390625
   }
  },
  {
   "cell_type": "code",
   "source": "m = len(squared_errors)\nmean = squared_errors.mean()\ntscore = stats.t.ppf((1 + confidence) / 2, df=m - 1)\ntmargin = tscore * squared_errors.std(ddof=1) / np.sqrt(m)\nnp.sqrt(mean - tmargin), np.sqrt(mean + tmargin)",
   "metadata": {
    "cell_id": "014c53c16ada44ccbe90c9ab8f9b6e2c",
    "tags": [],
    "deepnote_to_be_reexecuted": true,
    "source_hash": "486bc1c8",
    "execution_start": 1649071112605,
    "execution_millis": 25,
    "deepnote_cell_type": "code",
    "deepnote_cell_height": 190.1875,
    "deepnote_output_heights": [
     21.1875
    ]
   },
   "outputs": [
    {
     "output_type": "execute_result",
     "execution_count": 87,
     "data": {
      "text/plain": "(61450.16282006093, 65099.58576305413)"
     },
     "metadata": {}
    }
   ],
   "execution_count": null
  },
  {
   "cell_type": "markdown",
   "source": "Alternatively, we could use a z-scores rather than t-scores:",
   "metadata": {
    "cell_id": "b51434f852754023bc98204b3fa044bb",
    "tags": [],
    "deepnote_cell_type": "markdown",
    "deepnote_cell_height": 52.390625
   }
  },
  {
   "cell_type": "code",
   "source": "zscore = stats.norm.ppf((1 + confidence) / 2)\nzmargin = zscore * squared_errors.std(ddof=1) / np.sqrt(m)\nnp.sqrt(mean - zmargin), np.sqrt(mean + zmargin)",
   "metadata": {
    "cell_id": "ce66ef02b9c1420dae019093e615e409",
    "tags": [],
    "deepnote_to_be_reexecuted": true,
    "source_hash": "1f08702e",
    "execution_start": 1649071133332,
    "execution_millis": 2,
    "deepnote_cell_type": "code",
    "deepnote_cell_height": 154.1875,
    "deepnote_output_heights": [
     21.1875
    ]
   },
   "outputs": [
    {
     "output_type": "execute_result",
     "execution_count": 88,
     "data": {
      "text/plain": "(61450.7138562429, 65099.0656130439)"
     },
     "metadata": {}
    }
   ],
   "execution_count": null
  },
  {
   "cell_type": "markdown",
   "source": "<a style='text-decoration:none;line-height:16px;display:flex;color:#5B5B62;padding:10px;justify-content:end;' href='https://deepnote.com?utm_source=created-in-deepnote-cell&projectId=934185ea-4095-429f-8bde-68d54441eae1' target=\"_blank\">\n<img alt='Created in deepnote.com' style='display:inline;max-height:16px;margin:0px;margin-right:7.5px;' src='data:image/svg+xml;base64,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' > </img>\nCreated in <span style='font-weight:600;margin-left:4px;'>Deepnote</span></a>",
   "metadata": {
    "tags": [],
    "created_in_deepnote_cell": true,
    "deepnote_cell_type": "markdown"
   }
  }
 ],
 "nbformat": 4,
 "nbformat_minor": 2,
 "metadata": {
  "orig_nbformat": 2,
  "deepnote": {
   "is_reactive": false
  },
  "deepnote_notebook_id": "ed015914-f701-4747-b788-9a688b05c734",
  "deepnote_execution_queue": [
   {
    "cellId": "d8662d811c4348119b8586046ca44fb1",
    "sessionId": "cb68d8ca-3b1d-43e6-9cb0-dcaeb8e08809",
    "msgId": "d42fa657-90de-4b9e-870c-1a7f14a883de"
   },
   {
    "cellId": "ad41660111bf4f6dbfe74d72fb81f03b",
    "sessionId": "cb68d8ca-3b1d-43e6-9cb0-dcaeb8e08809",
    "msgId": "8663e368-1cd3-479b-94dc-da64f9fb57c1"
   },
   {
    "cellId": "fb9df8e5ad0b419197c1c91a4783664d",
    "sessionId": "cb68d8ca-3b1d-43e6-9cb0-dcaeb8e08809",
    "msgId": "2999974f-ebdd-49a4-807f-5ada470c8b59"
   },
   {
    "cellId": "8b96825937bf4565bd9429b4e62dfeac",
    "sessionId": "cb68d8ca-3b1d-43e6-9cb0-dcaeb8e08809",
    "msgId": "3b47067d-36fb-49f3-ad3e-106996b87aa7"
   },
   {
    "cellId": "f63d1d1fae1f4630b6f3ad705b2751ae",
    "sessionId": "cb68d8ca-3b1d-43e6-9cb0-dcaeb8e08809",
    "msgId": "c34f3e45-d581-46bb-af9b-dea2a9ac003e"
   },
   {
    "cellId": "b0ca99e04c94412c9e2720c4df9dafb7",
    "sessionId": "cb68d8ca-3b1d-43e6-9cb0-dcaeb8e08809",
    "msgId": "8f8d3e9b-db48-4764-b873-326f9ebdc233"
   },
   {
    "cellId": "e8d41453abc04cc693c7a96a1cc95175",
    "sessionId": "cb68d8ca-3b1d-43e6-9cb0-dcaeb8e08809",
    "msgId": "f8496d08-52a1-4fbd-a512-2b7b85c38bda"
   },
   {
    "cellId": "014c53c16ada44ccbe90c9ab8f9b6e2c",
    "sessionId": "cb68d8ca-3b1d-43e6-9cb0-dcaeb8e08809",
    "msgId": "729dca5a-ceb1-4812-a633-453856afb91f"
   },
   {
    "cellId": "ce66ef02b9c1420dae019093e615e409",
    "sessionId": "cb68d8ca-3b1d-43e6-9cb0-dcaeb8e08809",
    "msgId": "4c51f07f-dc27-41ef-9a42-59fe49ccda1a"
   }
  ]
 }
}